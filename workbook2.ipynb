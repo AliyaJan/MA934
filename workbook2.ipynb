{
 "cells": [
  {
   "cell_type": "markdown",
   "metadata": {},
   "source": [
    "# MA934  Numerical Methods - Workbook 2"
   ]
  },
  {
   "cell_type": "code",
   "execution_count": 1,
   "metadata": {},
   "outputs": [
    {
     "data": {
      "text/plain": [
       "buildFTree (generic function with 1 method)"
      ]
     },
     "execution_count": 1,
     "metadata": {},
     "output_type": "execute_result"
    }
   ],
   "source": [
    "using Plots\n",
    "pyplot()\n",
    "include(\"KVPair.jl\")\n",
    "include(\"LList.jl\")\n",
    "include(\"FTree.jl\")"
   ]
  },
  {
   "cell_type": "markdown",
   "metadata": {},
   "source": [
    "## Question 1: Linear search using a linked list\n",
    "\n",
    "The file KVPair.jl defines a simple data structure to represent an (Int64, Float64) key-value pair. \n",
    "\n",
    "The file LList.jl defines a linked list that stores a KVPair at each node. Many languages have a keyword NULL. A pointer to any object can take the value NULL to indicate that it doesn't point to anything. NULL is often used to denote the end of a list, the leaves of a tree etc. Julia does not support NULL pointers. This causes a difficulty in implementing recursive data structures. Instead Julia provides a parametric data type Nullable{T} to represent missing values. It is possible to use Nullable types to define recursive data structures although some of the resulting definitions are a bit clumsy. I'm not sure that this is the canonical way to implement structural recursion in Julia. \n",
    "\n",
    "The following points are important:\n",
    "\n",
    "* if a variable has type Nullable{T} then it can either contain a value of type T or nothing (ie a missing value). \n",
    "* the function isnull(x) checks whether a nullable type x has a value or not. \n",
    "* the function get(x) returns the actual value (of type T) contained in a nullable type x.\n",
    "\n",
    "Much more information can be found at https://docs.julialang.org/en/stable/manual/types/\n",
    "\n",
    "The function \n",
    "\n",
    "> buildLList(dataArray::Array{KVPair, 1})\n",
    "\n",
    "takes an array of KVPair objects as input and returns an LList containing these KVPairs. This is illustrated in the code below.\n",
    "\n",
    "1. Write a recursive function that traverses the list and prints out the key-value pairs stored in it. Check that your function works.\n",
    "2. Write a function search(list::Nullable{LList}, k::Int64) that searches an LList for the key k and returns the corresponding KVPair if it is present and a Nullable{KVPair} otherwise. Verify that your function works.\n",
    "3. Use Julia's @timed macro to measure how the typical computational cost of your search() function grows with the length of the list. "
   ]
  },
  {
   "cell_type": "code",
   "execution_count": 2,
   "metadata": {},
   "outputs": [
    {
     "data": {
      "text/plain": [
       "9-element Array{KVPair,1}:\n",
       " KVPair(1, 0.651802)  \n",
       " KVPair(2, 0.00682449)\n",
       " KVPair(3, 0.851521)  \n",
       " KVPair(4, 0.152854)  \n",
       " KVPair(5, 0.638396)  \n",
       " KVPair(6, 0.986114)  \n",
       " KVPair(7, 0.544773)  \n",
       " KVPair(8, 0.412083)  \n",
       " KVPair(9, 0.846391)  "
      ]
     },
     "execution_count": 2,
     "metadata": {},
     "output_type": "execute_result"
    }
   ],
   "source": [
    "n = 9\n",
    "x = rand(1, n)\n",
    "values = Array{KVPair}(n)\n",
    "for i in 1:n\n",
    "    values[i] = KVPair(i,x[i])\n",
    "end\n",
    "values"
   ]
  },
  {
   "cell_type": "code",
   "execution_count": 3,
   "metadata": {},
   "outputs": [
    {
     "data": {
      "text/plain": [
       "Nullable{LList}(LList(KVPair(1, 0.651802), LList(KVPair(2, 0.00682449), LList(KVPair(3, 0.851521), LList(KVPair(4, 0.152854), LList(KVPair(5, 0.638396), LList(KVPair(6, 0.986114), LList(KVPair(7, 0.544773), LList(KVPair(8, 0.412083), LList(KVPair(9, 0.846391), #NULL))))))))))"
      ]
     },
     "execution_count": 3,
     "metadata": {},
     "output_type": "execute_result"
    }
   ],
   "source": [
    "#L = Nullable{LList}()\n",
    "List = buildLList(values)\n"
   ]
  },
  {
   "cell_type": "code",
   "execution_count": 19,
   "metadata": {},
   "outputs": [
    {
     "data": {
      "text/plain": [
       "1"
      ]
     },
     "execution_count": 19,
     "metadata": {},
     "output_type": "execute_result"
    }
   ],
   "source": [
    "get(List).data.key"
   ]
  },
  {
   "cell_type": "code",
   "execution_count": 130,
   "metadata": {},
   "outputs": [
    {
     "name": "stdout",
     "output_type": "stream",
     "text": [
      "get(List).data.value = 0.48109757070786374\n"
     ]
    },
    {
     "data": {
      "text/plain": [
       "0.48109757070786374"
      ]
     },
     "execution_count": 130,
     "metadata": {},
     "output_type": "execute_result"
    }
   ],
   "source": [
    "@show get(List).data.value"
   ]
  },
  {
   "cell_type": "code",
   "execution_count": 4,
   "metadata": {},
   "outputs": [
    {
     "name": "stdout",
     "output_type": "stream",
     "text": [
      "A.data.key = 1\n",
      "A.data.key = 2\n",
      "A.data.key = 3\n",
      "A.data.key = 4\n",
      "A.data.key = 5\n",
      "A.data.key = 6\n",
      "A.data.key = 7\n",
      "A.data.key = 8\n",
      "A.data.key = 9\n"
     ]
    },
    {
     "data": {
      "text/plain": [
       "false"
      ]
     },
     "execution_count": 4,
     "metadata": {},
     "output_type": "execute_result"
    }
   ],
   "source": [
    "function recursion(list::Nullable{LList})\n",
    "    A = get(list)\n",
    "    @show A.data.key\n",
    "    \n",
    "    if( !isnull(A.next) )\n",
    "        return recursion(A.next)\n",
    "    else\n",
    "        return false\n",
    "    end\n",
    "end\n",
    "\n",
    "recursion(List)"
   ]
  },
  {
   "cell_type": "markdown",
   "metadata": {},
   "source": [
    "Write a function search(list::Nullable{LList}, k::Int64) that searches an LList for the key k and returns the corresponding KVPair if it is present and a Nullable{KVPair} otherwise. "
   ]
  },
  {
   "cell_type": "code",
   "execution_count": 16,
   "metadata": {},
   "outputs": [
    {
     "data": {
      "text/plain": [
       "KVPair(7, 0.5447726631311607)"
      ]
     },
     "execution_count": 16,
     "metadata": {},
     "output_type": "execute_result"
    }
   ],
   "source": [
    "function search(llist::Nullable{LList}, k::Int64)\n",
    "    \n",
    "    if isnull(llist)\n",
    "        return\n",
    "    else\n",
    "        if get(llist).data.key == k\n",
    "            return get(llist).data\n",
    "        else\n",
    "            return search(get(llist).next, k)\n",
    "        end\n",
    "    end\n",
    "end\n",
    "\n",
    "search(List, 7)"
   ]
  },
  {
   "cell_type": "code",
   "execution_count": 21,
   "metadata": {},
   "outputs": [
    {
     "name": "stdout",
     "output_type": "stream",
     "text": [
      "  0.000003 seconds (4 allocations: 160 bytes)\n"
     ]
    },
    {
     "data": {
      "text/plain": [
       "KVPair(7, 0.5447726631311607)"
      ]
     },
     "execution_count": 21,
     "metadata": {},
     "output_type": "execute_result"
    }
   ],
   "source": [
    "@time(search(List,7))"
   ]
  },
  {
   "cell_type": "code",
   "execution_count": 22,
   "metadata": {},
   "outputs": [
    {
     "data": {
      "text/plain": [
       "(KVPair(7, 0.5447726631311607), 2.433e-6, 160, 0.0, Base.GC_Diff(160, 0, 0, 4, 0, 0, 0, 0, 0))"
      ]
     },
     "execution_count": 22,
     "metadata": {},
     "output_type": "execute_result"
    }
   ],
   "source": [
    "@timed(search(List,7))"
   ]
  },
  {
   "cell_type": "code",
   "execution_count": 56,
   "metadata": {},
   "outputs": [
    {
     "data": {
      "text/plain": [
       "buildLList (generic function with 1 method)"
      ]
     },
     "execution_count": 56,
     "metadata": {},
     "output_type": "execute_result"
    }
   ],
   "source": [
    "\n",
    "# Prepend data to list\n",
    "function prepend(list::Nullable{LList}, data::KVPair) \n",
    "    new = Nullable{LList}(LList(data))\n",
    "    get(new).next = list\n",
    "    return new\n",
    "end\n",
    "\n",
    "# Append data to list\n",
    "function append(list::Nullable{LList}, data::KVPair) \n",
    "    if(isnull(list))\n",
    "        # Base case: this is the end of the list so add new node\n",
    "        return Nullable{LList}(LList(data))\n",
    "    else\n",
    "        # Recursive case: Append the data to the remainder of the list\n",
    "        get(list).next = append(get(list).next, data)\n",
    "        return list\n",
    "    end\n",
    "end\n",
    "\n",
    "# Function to build a list from an array of Pair objects\n",
    "function buildLList(dataArray::Array{KVPair, 1})\n",
    "    L = Nullable{LList}(LList(dataArray[1]))\n",
    "    for i in 2:length(dataArray)\n",
    "        L=append(L, dataArray[i])\n",
    "    end\n",
    "    return L\n",
    "end\n",
    "\n"
   ]
  },
  {
   "cell_type": "code",
   "execution_count": 80,
   "metadata": {},
   "outputs": [
    {
     "data": {
      "text/plain": [
       "Nullable{LList}"
      ]
     },
     "execution_count": 80,
     "metadata": {},
     "output_type": "execute_result"
    }
   ],
   "source": [
    "typeof(L)"
   ]
  },
  {
   "cell_type": "code",
   "execution_count": 106,
   "metadata": {},
   "outputs": [
    {
     "name": "stdout",
     "output_type": "stream",
     "text": [
      "0.48109757070786374\n",
      "0.482323715506235\n",
      "0.5023344696818719\n",
      "1.3047156358900085\n",
      "1.945922648644875\n",
      "2.3408599316638714\n",
      "3.2939869977684597\n",
      "4.070656867832305\n",
      "4.721637148944416\n"
     ]
    }
   ],
   "source": [
    "sum = 0.0\n",
    "for i in 1:length(values)\n",
    "    sum+=values[i].value\n",
    "    println(sum)\n",
    "end\n"
   ]
  },
  {
   "cell_type": "markdown",
   "metadata": {},
   "source": []
  },
  {
   "cell_type": "markdown",
   "metadata": {},
   "source": [
    "## Question 2: Interval membership\n",
    "\n",
    "The problem of interval membership is the following: given a set of contiguous intervals, \n",
    "\n",
    "$\\left\\{[x_0, x_1), [x_1, x_2), \\ldots, [x_{n-2}, x_{n-1}), [x_{n-1}, x_n)\\right\\}$\n",
    "\n",
    "spanning the interval $[x_1, x_n)$ and given a random number $x \\in [x_1, x_n)$, determine the interval in which $x$ lies. The standard numerical algorithm for stochastic simulation of continuous-time Markov processes (eg birth-death process, contact process, SIR model etc) requires solving an interval membership problem at each time step. It is therefore important to be able to solve it efficiently. Note, we cannot assume that all intervals are the same length.\n",
    "\n",
    "We can solve the interval membership problem with $n$ interval by a variant of linear search in $O(n)$ time. We will demonstrate below that it can be solved in $O(\\log\\, n)$ time using a variant of a data structure known as a Fenwick tree.\n",
    "\n",
    "**1)** Use Julia's random number generator to generate $n$ random interval lengths, $y_1, y_2, \\ldots, y_n$ between 0 and 1 as shown: "
   ]
  },
  {
   "cell_type": "code",
   "execution_count": 37,
   "metadata": {},
   "outputs": [
    {
     "data": {
      "text/plain": [
       "10-element Array{Float64,1}:\n",
       " 0.768448 \n",
       " 0.940515 \n",
       " 0.673959 \n",
       " 0.395453 \n",
       " 0.313244 \n",
       " 0.662555 \n",
       " 0.586022 \n",
       " 0.0521332\n",
       " 0.26864  \n",
       " 0.108871 "
      ]
     },
     "execution_count": 37,
     "metadata": {},
     "output_type": "execute_result"
    }
   ],
   "source": [
    "# Set number of intervals\n",
    "n=10\n",
    "# Seed for random number generator. \n",
    "# You should choose your own seed so that everyone does not end up with the same random sequences\n",
    "seed = 123 \n",
    "# Initialise the random number generator\n",
    "rng = MersenneTwister(seed)\n",
    "# Generate a sample of n uniform random numbers in the interval [0,1]\n",
    "X = rand(rng, n)\n",
    "\n"
   ]
  },
  {
   "cell_type": "markdown",
   "metadata": {},
   "source": [
    "The corresponding interval membership problem is constructed from the partial sums:\n",
    "$$x_i = \\sum_{j=1}^i y_j, \\ \\ \\ \\ \\ i=1,2,\\ldots n.$$ \n",
    "Using the objects defined in KVPair.jl and LList.jl, create an array of key-value pairs, $(i, x_i)$, associating each interval with the corresponding partial sum and store this array in a linked list. Print the list for a small value of $n$to verify that it works.\n",
    "\n",
    "**2)** Modify the search function you wrote above to write a recursive function\n",
    "\n",
    "$$\\text{intervalmembership(list::Nullable{LList}, x::Float64)}$$\n",
    "\n",
    "that takes the LList containing the list of partial sums and a random Float64 in the range $[0, x_n]$ as inputs and returns the KVPair corresponding to the interval in which $x$ lies. Verify that it works for small values of $n$ and use Julia's @timed macro to measure how the typical computational cost grows with $n$. \n",
    "\n",
    "**3)** The file FTree.jl defines a data structure implementing a variant of a Fenwick tree that can solve the interval membership problem as described in the lectures/notes. The function \n",
    "\n",
    "$$\\text{buildFTree(T::Nullable{FTree}, dataArray::Array{KVPair, 1})}$$\n",
    "\n",
    "takes the array of KVPairs containing the interval lengths as input, recursively constructs the tree and returns the FTree containing the correct key-value pairs (note a key of -1 is assigned to all non-leaf nodes)."
   ]
  },
  {
   "cell_type": "code",
   "execution_count": 60,
   "metadata": {},
   "outputs": [
    {
     "data": {
      "text/plain": [
       "10-element Array{KVPair,1}:\n",
       " KVPair(1, 0.768448)\n",
       " KVPair(2, 1.70896) \n",
       " KVPair(3, 2.38292) \n",
       " KVPair(4, 2.77837) \n",
       " KVPair(5, 3.09162) \n",
       " KVPair(6, 3.75417) \n",
       " KVPair(7, 4.3402)  \n",
       " KVPair(8, 4.39233) \n",
       " KVPair(9, 4.66097) \n",
       " KVPair(10, 4.76984)"
      ]
     },
     "execution_count": 60,
     "metadata": {},
     "output_type": "execute_result"
    }
   ],
   "source": [
    "val = Array{KVPair}(n)\n",
    "sum = 0.0\n",
    "\n",
    "for i in 1:length(X)\n",
    "    sum += X[i]\n",
    "    val[i] = KVPair(i,sum)\n",
    "end\n",
    "\n",
    "val"
   ]
  },
  {
   "cell_type": "code",
   "execution_count": 124,
   "metadata": {},
   "outputs": [
    {
     "data": {
      "text/plain": [
       "Nullable{LList}(LList(KVPair(1, 0.768448), LList(KVPair(2, 1.70896), LList(KVPair(3, 2.38292), LList(KVPair(4, 2.77837), LList(KVPair(5, 3.09162), LList(KVPair(6, 3.75417), LList(KVPair(7, 4.3402), LList(KVPair(8, 4.39233), LList(KVPair(9, 4.66097), LList(KVPair(10, 4.76984), #NULL)))))))))))"
      ]
     },
     "execution_count": 124,
     "metadata": {},
     "output_type": "execute_result"
    }
   ],
   "source": [
    "lists = buildLList(val)"
   ]
  },
  {
   "cell_type": "code",
   "execution_count": 130,
   "metadata": {},
   "outputs": [
    {
     "ename": "LoadError",
     "evalue": "\u001b[91mBoundsError: attempt to access 5-element Array{KVPair,1} at index [6]\u001b[39m",
     "output_type": "error",
     "traceback": [
      "\u001b[91mBoundsError: attempt to access 5-element Array{KVPair,1} at index [6]\u001b[39m",
      "",
      "Stacktrace:",
      " [1] \u001b[1msetindex!\u001b[22m\u001b[22m\u001b[1m(\u001b[22m\u001b[22m::Array{KVPair,1}, ::KVPair, ::Int64\u001b[1m)\u001b[22m\u001b[22m at \u001b[1m./array.jl:583\u001b[22m\u001b[22m",
      " [2] \u001b[1mintervalmembership\u001b[22m\u001b[22m\u001b[1m(\u001b[22m\u001b[22m::Nullable{LList}, ::Float64\u001b[1m)\u001b[22m\u001b[22m at \u001b[1m./In[130]:8\u001b[22m\u001b[22m",
      " [3] \u001b[1minclude_string\u001b[22m\u001b[22m\u001b[1m(\u001b[22m\u001b[22m::String, ::String\u001b[1m)\u001b[22m\u001b[22m at \u001b[1m./loading.jl:522\u001b[22m\u001b[22m"
     ]
    }
   ],
   "source": [
    "function intervalmembership(list::Nullable{LList}, x::Float64)\n",
    "\n",
    "    val = Array{KVPair}(n)\n",
    "    sum = 0.0\n",
    "\n",
    "    for i in 1:length(X)\n",
    "        sum += X[i]\n",
    "        val[i] = KVPair(i,sum)\n",
    "    end\n",
    "\n",
    "    lists = buildLList(val)\n",
    "\n",
    "    if x < get(list).data.value\n",
    "        return get(list).data\n",
    "    else \n",
    "        return intervalmembership(get(list).next, x)\n",
    "    end\n",
    "end\n",
    "\n",
    "intervalmembership(lists, 2.3)"
   ]
  },
  {
   "cell_type": "markdown",
   "metadata": {},
   "source": [
    "Write a recursive function\n",
    "\n",
    "$$\\text{intervalmembership(FT::Nullable{FTree}, x::Float64)}$$\n",
    "\n",
    "that takes the FTree containing the list of partial sums and a random Float64 in the range $[0, x_n]$ as \n",
    "inputs and returns the KVPair corresponding to the interval in which $x$ lies. Verify that it works for small values of $n$ and use Julia's @timed macro to compare how the typical computational compares to the above linear search version. Note it can sometimes be difficult to directly measure $O(\\log\\, n)$ growth in computation time since the problem size needs to become very large to register appreciable run times."
   ]
  },
  {
   "cell_type": "code",
   "execution_count": 99,
   "metadata": {},
   "outputs": [
    {
     "name": "stdout",
     "output_type": "stream",
     "text": [
      "get(T).data.value = 2.8274455810646275\n",
      "get(get(T).right).data.value = 1.9015303689758623\n"
     ]
    },
    {
     "data": {
      "text/plain": [
       "1.9015303689758623"
      ]
     },
     "execution_count": 99,
     "metadata": {},
     "output_type": "execute_result"
    }
   ],
   "source": [
    "n=5\n",
    "seed = 123\n",
    "X = rand(1, n)\n",
    "sums = 0.0\n",
    "\n",
    "# Now calculate the array of partial sums\n",
    "values = Array{KVPair}(n)\n",
    "for i in 1:n\n",
    "  #  sum += X[i]\n",
    "    values[i] = KVPair(i,X[i])\n",
    "end\n",
    "T = Nullable{FTree}(FTree(KVPair(0,0.0)))\n",
    "T = buildFTree(T, values)\n",
    "@show get(T).data.value\n",
    "@show get(get(T).right).data.value\n"
   ]
  },
  {
   "cell_type": "code",
   "execution_count": 118,
   "metadata": {},
   "outputs": [
    {
     "data": {
      "text/plain": [
       "Nullable{FTree}(FTree(KVPair(-1, 0.925915), FTree(KVPair(1, 0.038097), #NULL, #NULL), FTree(KVPair(2, 0.887818), #NULL, #NULL)))"
      ]
     },
     "execution_count": 118,
     "metadata": {},
     "output_type": "execute_result"
    }
   ],
   "source": [
    "get(T).left"
   ]
  },
  {
   "cell_type": "code",
   "execution_count": 123,
   "metadata": {},
   "outputs": [
    {
     "data": {
      "text/plain": [
       "KVPair(1, 0.038096969932568614)"
      ]
     },
     "execution_count": 123,
     "metadata": {},
     "output_type": "execute_result"
    }
   ],
   "source": [
    "function intervalmembership(FT::Nullable{FTree}, x::Float64)\n",
    "\n",
    "    node = get(FT)\n",
    "    \n",
    "    if isnull(node.left) && isnull(node.right)\n",
    "        return node.data\n",
    "    else\n",
    "        if x >= get(node.left).data.value\n",
    "            return intervalmembership(node.left, x)\n",
    "        else\n",
    "            return intervalmembership(node.right, x-get(node.left).data.value)\n",
    "        end\n",
    "    end\n",
    "    \n",
    "end\n",
    "\n",
    "intervalmembership(T, 0.94)"
   ]
  },
  {
   "cell_type": "code",
   "execution_count": 127,
   "metadata": {},
   "outputs": [
    {
     "ename": "LoadError",
     "evalue": "\u001b[91mMethodError: no method matching intervalmembership(::Float64, ::Float64)\u001b[0m\nClosest candidates are:\n  intervalmembership(\u001b[91m::Nullable{LList}\u001b[39m, ::Float64) at In[125]:3\n  intervalmembership(\u001b[91m::Nullable{FTree}\u001b[39m, ::Float64) at In[123]:16\u001b[39m",
     "output_type": "error",
     "traceback": [
      "\u001b[91mMethodError: no method matching intervalmembership(::Float64, ::Float64)\u001b[0m\nClosest candidates are:\n  intervalmembership(\u001b[91m::Nullable{LList}\u001b[39m, ::Float64) at In[125]:3\n  intervalmembership(\u001b[91m::Nullable{FTree}\u001b[39m, ::Float64) at In[123]:16\u001b[39m",
      "",
      "Stacktrace:",
      " [1] \u001b[1minclude_string\u001b[22m\u001b[22m\u001b[1m(\u001b[22m\u001b[22m::String, ::String\u001b[1m)\u001b[22m\u001b[22m at \u001b[1m./loading.jl:522\u001b[22m\u001b[22m"
     ]
    }
   ],
   "source": []
  },
  {
   "cell_type": "markdown",
   "metadata": {},
   "source": [
    "## Question 3: Gillespie algorithm for heterogeneous diffusion\n",
    "\n",
    "The Gillespie algorithm is a dynamic Monte Carlo algorithm that generates statistically correct realisations of a continous time Markov process. See https://en.wikipedia.org/wiki/Gillespie_algorithm It is used heavily in stochastic simulation of chemical and biological reaction networks and population dynamics. In this question we use it to simulate one-dimensional diffusion of heterogeneous particles whose diffusion constants are independently drawn from an exponential distribution.\n",
    "\n",
    "The basic idea of the algorithm is as follows\n",
    "1. Create a list $\\left\\{(i, r_i), i=1,\\ldots M\\right\\}$,  of all possible transitions (events), $i$, that can occur in the system and the corresponding transition rates, $r_i$.\n",
    "2. Calculate the total rate\n",
    "$$R = \\sum_{i=1}^M r_i$$\n",
    "and divide the interval $[0, R]$ into $M$ intervals whose lengths are given by the $r_i$.\n",
    "3. Generate a uniform random number in the range $[0,R]$ and determine which interval it falls in. \n",
    "4. Perform the corresponding transition and update the time variable by an amount $\\Delta t = 1/R$.\n",
    "5. Repeat until the desired simulation time is reached.\n",
    "\n",
    "To be concrete, suppose with have $N$ particles on the interval $[-L, L]$ initially located at $x=0$. Each particle can hop a distance $\\Delta x$ to the left or to the right with equal probability. The rate of hopping is initially considered to be the same for all particles:\n",
    "\n",
    "$$ r_i = \\frac{D}{2}\\,\\frac{1}{(\\Delta x)^2} $$\n",
    "\n",
    "This choice ensures that in the continous limit ($\\Delta x \\to 0$, $N\\to \\infty$), the density of particles $c(x,t)$ on the line will satisfy the usual diffusion equation with diffusion coefficient $D$ (recall MA933):\n",
    "\n",
    "$$ \\frac{\\partial c}{\\partial t} = D \\frac{\\partial^2 c}{\\partial x^2}$$\n",
    "\n",
    "with initial condition $c(x,0) = \\delta(x)$.\n",
    "\n",
    "The steps of the algorithm then correspond to the following:\n",
    "1. There are $M= 2 N$ possible transitions at each step: each of $N$ particles can hop a distance $\\Delta x$ either left or right with the above rates. We index them as follows: events k=1:N correspond to particle k hopping to the right, events k=N+1:2N correspond to particle k-N hopping to the left.\n",
    "2. The total rate is \n",
    "$$ R = \\frac{D N}{(\\Delta x)^2}.$$\n",
    "3. Generate a uniform random number in the range $[0,R]$ and determine the index $k$ of particle to move and the direction.\n",
    "4. Update the position of particle $k$ accordingly.\n",
    "5. Repeat.\n",
    "\n",
    "The following piece of code implements the Gillespie algorithm for N=100, L=10, $\\Delta x = 0.1$ and $D=1$, converts the particle positions to particle density and compares to the solution of the diffusion equation on an unbounded domain at t=1 (we assume that L=10 is far enough from zero to be considered unbounded):\n",
    "\n",
    "$$c(x, t) = \\frac{1}{\\sqrt{2 \\pi D t}}\\, \\exp [-\\frac{1}{2}\\frac{x^2}{D t} ]$$"
   ]
  },
  {
   "cell_type": "code",
   "execution_count": 126,
   "metadata": {},
   "outputs": [
    {
     "data": {
      "text/html": [
       "<img src=\"data:image/png;base64,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\" />"
      ]
     },
     "execution_count": 126,
     "metadata": {},
     "output_type": "execute_result"
    }
   ],
   "source": [
    "L=10.0\n",
    "N=100\n",
    "Nx = 201\n",
    "dx = 2.0*L/(Nx-1)\n",
    "X = dx.*(-(Nx-1)/2:(Nx-1)/2)\n",
    "Y =zeros(Int64,N)\n",
    "D = 1.0\n",
    "t=0.0\n",
    "\n",
    "\n",
    "r = (D/2.0)/(dx*dx) \n",
    "totalRate = 2.0*N*r\n",
    "\n",
    "dt = 1.0/totalRate\n",
    "T=1.0\n",
    "\n",
    "# This is the main loop\n",
    "while t < T\n",
    "    # Pick an event\n",
    "    k = rand(1:2*N)\n",
    "    if k<=N\n",
    "        hop = 1\n",
    "        particleId = k\n",
    "    else\n",
    "        hop = -1\n",
    "        particleId=k-N\n",
    "    end\n",
    "    Y[particleId]+=hop\n",
    "    t+=dt\n",
    "end\n",
    "\n",
    "# Calculate the estimated density of particles\n",
    "P =zeros(Float64,length(X))\n",
    "for i in 1:length(Y)\n",
    "    P[Y[i]+Int64((Nx-1)/2)+1]+=1/(N * dx)\n",
    "end\n",
    "\n",
    "# Calculate the theoretical density and compare\n",
    "function normal(x, D, t)\n",
    "    return (1.0/sqrt(2.0*pi*D*t))*exp(-x*x/(2*D*t))\n",
    "end\n",
    "P1 = normal.(X, D, T)\n",
    "plot(X, P1, label=\"Analytic solution of diffusion equation\")\n",
    "plot!(X, P, label=\"Numerical estimate of particle density\")\n",
    "xlabel!(\"x\")\n",
    "ylabel!(\"Particle density, c(x,t)\")\n",
    "title!(\"Stochastic simulation of simple diffusion in 1-D\")"
   ]
  },
  {
   "cell_type": "code",
   "execution_count": null,
   "metadata": {
    "collapsed": true
   },
   "outputs": [],
   "source": []
  },
  {
   "cell_type": "markdown",
   "metadata": {},
   "source": [
    "**1)** The code above makes critical use of the fact that all intervals have the same width in order to decide which particle to move at each step. Suppose now that instead of being equal to $D$ for each particle, the diffusion coefficients are drawn from an exponential distribution with mean $D$:\n",
    "\n",
    "$$ P(x) = \\frac{1}{D} \\exp\\left(-\\frac{x}{D}\\right). $$\n",
    "\n",
    "Modify the code to account for this, using your code from Q2 above to solve the interval membership problem using linear search. You will need to use Julia's randexp() function to generate values for the diffusion coefficients. What is the largest value of $N$ you can simulate in a \"reasonable\" time?\n",
    "\n",
    "**2)** Try again using your Fenwick tree from Q2 to solve the interval membership problem and compare. What is the largest value of $N$ you can simulate now?\n",
    "\n",
    "**3)** Show analytically that the solution of the heterogenous diffusion problem is\n",
    "\n",
    "$$ c(x,t) = \\frac{\\exp \\left(-\\sqrt{\\frac{2}{D\\,t}}\\, |x| \\right)}{\\sqrt{2\\, D\\, t}}$$\n",
    "\n",
    "You will probably need the integral formula (Formula 3.325 of Gradshteyn and Rizhik, 7th Ed.)\n",
    "\n",
    "$$ \\int_0^\\infty \\exp\\left(-a\\,x^2 - \\frac{b}{x^2} \\right)\\, dx =  \\frac{1}{2}\\,\\sqrt{\\frac{\\pi}{a}}\\,\\exp\\left(-2 \\sqrt{a\\,b} \\right).$$\n",
    "Use this formula to validate your numerical results.\n",
    "\n"
   ]
  },
  {
   "cell_type": "code",
   "execution_count": 128,
   "metadata": {},
   "outputs": [
    {
     "ename": "LoadError",
     "evalue": "\u001b[91mMethodError: Cannot `convert` an object of type Int64 to an object of type Array{Float64,1}\nThis may have arisen from a call to the constructor Array{Float64,1}(...),\nsince type constructors fall back to convert methods.\u001b[39m",
     "output_type": "error",
     "traceback": [
      "\u001b[91mMethodError: Cannot `convert` an object of type Int64 to an object of type Array{Float64,1}\nThis may have arisen from a call to the constructor Array{Float64,1}(...),\nsince type constructors fall back to convert methods.\u001b[39m",
      "",
      "Stacktrace:",
      " [1] \u001b[1mcolon\u001b[22m\u001b[22m\u001b[1m(\u001b[22m\u001b[22m::Array{Float64,1}, ::Array{Float64,1}\u001b[1m)\u001b[22m\u001b[22m at \u001b[1m./range.jl:9\u001b[22m\u001b[22m",
      " [2] \u001b[1minclude_string\u001b[22m\u001b[22m\u001b[1m(\u001b[22m\u001b[22m::String, ::String\u001b[1m)\u001b[22m\u001b[22m at \u001b[1m./loading.jl:522\u001b[22m\u001b[22m"
     ]
    }
   ],
   "source": [
    "L=10.0\n",
    "N=100\n",
    "Nx = 201\n",
    "dx = 2.0*L/(Nx-1)\n",
    "X = dx.*(-(Nx-1)/2:(Nx-1)/2)\n",
    "Y =zeros(Int64,N)\n",
    "D = 1.0\n",
    "t=0.0\n",
    "\n",
    "\n",
    "D_exp = randexp(rng,N)\n",
    "D_exp = [D_exp:D_exp]\n",
    "rate_exp = (D_exp/2.0)/(dx*dx)\n",
    "totalRate = sum(rate_exp)\n",
    "buildLList()\n",
    "\n",
    "dt = 1.0/totalRate\n",
    "T=1.0\n",
    "\n",
    "\n",
    "# This is the main loop\n",
    "while t < T\n",
    "    # Pick an event\n",
    "    memb=intervalmembership(,)\n",
    "    k = rand(1:2*N) \n",
    "    if k<=N\n",
    "        hop = 1\n",
    "        particleId = k\n",
    "    else\n",
    "        hop = -1\n",
    "        particleId=k-N\n",
    "    end\n",
    "    Y[particleId]+=hop\n",
    "    t+=dt\n",
    "end\n",
    "\n",
    "# Calculate the estimated density of particles\n",
    "P =zeros(Float64,length(X))\n",
    "for i in 1:length(Y)\n",
    "    P[Y[i]+Int64((Nx-1)/2)+1]+=1/(N * dx)\n",
    "end\n",
    "\n",
    "# Calculate the theoretical density and compare\n",
    "function normal(x, D, t)\n",
    "    return (1.0/sqrt(2.0*pi*D*t))*exp(-x*x/(2*D*t))\n",
    "end\n",
    "P1 = normal.(X, D, T)\n",
    "plot(X, P1, label=\"Analytic solution of diffusion equation\")\n",
    "plot!(X, P, label=\"Numerical estimate of particle density\")\n",
    "xlabel!(\"x\")\n",
    "ylabel!(\"Particle density, c(x,t)\")\n",
    "title!(\"Stochastic simulation of simple diffusion in 1-D\")"
   ]
  },
  {
   "cell_type": "code",
   "execution_count": null,
   "metadata": {
    "collapsed": true
   },
   "outputs": [],
   "source": []
  }
 ],
 "metadata": {
  "kernelspec": {
   "display_name": "Julia 0.6.1",
   "language": "julia",
   "name": "julia-0.6"
  },
  "language_info": {
   "file_extension": ".jl",
   "mimetype": "application/julia",
   "name": "julia",
   "version": "0.6.1"
  }
 },
 "nbformat": 4,
 "nbformat_minor": 1
}
