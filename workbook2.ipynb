{
 "cells": [
  {
   "cell_type": "markdown",
   "metadata": {},
   "source": [
    "# MA934  Numerical Methods - Workbook 2"
   ]
  },
  {
   "cell_type": "code",
   "execution_count": 1,
   "metadata": {},
   "outputs": [
    {
     "name": "stderr",
     "output_type": "stream",
     "text": [
      "\u001b[1m\u001b[36mINFO: \u001b[39m\u001b[22m\u001b[36mPrecompiling module NaNMath.\n",
      "\u001b[39m\u001b[1m\u001b[36mINFO: \u001b[39m\u001b[22m\u001b[36mRecompiling stale cache file /Users/aliyajangabylova/.julia/lib/v0.6/Conda.ji for module Conda.\n",
      "\u001b[39m\u001b[1m\u001b[36mINFO: \u001b[39m\u001b[22m\u001b[36mRecompiling stale cache file /Users/aliyajangabylova/.julia/lib/v0.6/PyPlot.ji for module PyPlot.\n",
      "\u001b[39m"
     ]
    },
    {
     "data": {
      "text/plain": [
       "buildFTree (generic function with 1 method)"
      ]
     },
     "execution_count": 1,
     "metadata": {},
     "output_type": "execute_result"
    }
   ],
   "source": [
    "using Plots\n",
    "pyplot()\n",
    "include(\"KVPair.jl\")\n",
    "include(\"LList.jl\")\n",
    "include(\"FTree.jl\")"
   ]
  },
  {
   "cell_type": "markdown",
   "metadata": {},
   "source": [
    "## Question 1: Linear search using a linked list\n",
    "\n",
    "The file KVPair.jl defines a simple data structure to represent an (Int64, Float64) key-value pair. \n",
    "\n",
    "The file LList.jl defines a linked list that stores a KVPair at each node. Many languages have a keyword NULL. A pointer to any object can take the value NULL to indicate that it doesn't point to anything. NULL is often used to denote the end of a list, the leaves of a tree etc. Julia does not support NULL pointers. This causes a difficulty in implementing recursive data structures. Instead Julia provides a parametric data type Nullable{T} to represent missing values. It is possible to use Nullable types to define recursive data structures although some of the resulting definitions are a bit clumsy. I'm not sure that this is the canonical way to implement structural recursion in Julia. \n",
    "\n",
    "The following points are important:\n",
    "\n",
    "* if a variable has type Nullable{T} then it can either contain a value of type T or nothing (ie a missing value). \n",
    "* the function isnull(x) checks whether a nullable type x has a value or not. \n",
    "* the function get(x) returns the actual value (of type T) contained in a nullable type x.\n",
    "\n",
    "Much more information can be found at https://docs.julialang.org/en/stable/manual/types/\n",
    "\n",
    "The function \n",
    "\n",
    "> buildLList(dataArray::Array{KVPair, 1})\n",
    "\n",
    "takes an array of KVPair objects as input and returns an LList containing these KVPairs. This is illustrated in the code below.\n",
    "\n",
    "1. Write a recursive function that traverses the list and prints out the key-value pairs stored in it. Check that your function works.\n",
    " "
   ]
  },
  {
   "cell_type": "code",
   "execution_count": 2,
   "metadata": {},
   "outputs": [
    {
     "data": {
      "text/plain": [
       "10-element Array{KVPair,1}:\n",
       " KVPair(1, 0.336784)\n",
       " KVPair(2, 0.674962)\n",
       " KVPair(3, 0.347794)\n",
       " KVPair(4, 0.984683)\n",
       " KVPair(5, 0.205966)\n",
       " KVPair(6, 0.595308)\n",
       " KVPair(7, 0.248069)\n",
       " KVPair(8, 0.362054)\n",
       " KVPair(9, 0.24403) \n",
       " KVPair(10, 0.18604)"
      ]
     },
     "execution_count": 2,
     "metadata": {},
     "output_type": "execute_result"
    }
   ],
   "source": [
    "n = 10\n",
    "x = rand(1, n)\n",
    "values = Array{KVPair}(n)\n",
    "for i in 1:n\n",
    "    values[i] = KVPair(i,x[i])\n",
    "end\n",
    "values"
   ]
  },
  {
   "cell_type": "code",
   "execution_count": 3,
   "metadata": {},
   "outputs": [
    {
     "data": {
      "text/plain": [
       "Nullable{LList}(LList(KVPair(1, 0.336784), LList(KVPair(2, 0.674962), LList(KVPair(3, 0.347794), LList(KVPair(4, 0.984683), LList(KVPair(5, 0.205966), LList(KVPair(6, 0.595308), LList(KVPair(7, 0.248069), LList(KVPair(8, 0.362054), LList(KVPair(9, 0.24403), LList(KVPair(10, 0.18604), #NULL)))))))))))"
      ]
     },
     "execution_count": 3,
     "metadata": {},
     "output_type": "execute_result"
    }
   ],
   "source": [
    "L = Nullable{LList}()\n",
    "List = buildLList(values)"
   ]
  },
  {
   "cell_type": "code",
   "execution_count": 4,
   "metadata": {},
   "outputs": [
    {
     "name": "stdout",
     "output_type": "stream",
     "text": [
      "A.data.key = 1\n",
      "A.data.key = 2\n",
      "A.data.key = 3\n",
      "A.data.key = 4\n",
      "A.data.key = 5\n",
      "A.data.key = 6\n",
      "A.data.key = 7\n",
      "A.data.key = 8\n",
      "A.data.key = 9\n",
      "A.data.key = 10\n"
     ]
    },
    {
     "data": {
      "text/plain": [
       "false"
      ]
     },
     "execution_count": 4,
     "metadata": {},
     "output_type": "execute_result"
    }
   ],
   "source": [
    "function recursion(list::Nullable{LList})\n",
    "    A = get(list)\n",
    "    @show A.data.key\n",
    "    \n",
    "    if( !isnull(A.next) )\n",
    "        return recursion(A.next)\n",
    "    else\n",
    "        return false\n",
    "    end\n",
    "end\n",
    "\n",
    "recursion(List)"
   ]
  },
  {
   "cell_type": "markdown",
   "metadata": {},
   "source": [
    "$2.$ Write a function search(list::Nullable{LList}, k::Int64) that searches an LList for the key k and returns the corresponding KVPair if it is present and a Nullable{KVPair} otherwise. "
   ]
  },
  {
   "cell_type": "code",
   "execution_count": 5,
   "metadata": {},
   "outputs": [
    {
     "data": {
      "text/plain": [
       "KVPair(7, 0.24806886296911568)"
      ]
     },
     "execution_count": 5,
     "metadata": {},
     "output_type": "execute_result"
    }
   ],
   "source": [
    "function search(llist::Nullable{LList}, k::Int64)\n",
    "    \n",
    "    if isnull(llist)\n",
    "        return\n",
    "    else\n",
    "        if get(llist).data.key == k\n",
    "            return get(llist).data\n",
    "        else\n",
    "            return search(get(llist).next, k)\n",
    "        end\n",
    "    end\n",
    "end\n",
    "\n",
    "search(List, 7)"
   ]
  },
  {
   "cell_type": "markdown",
   "metadata": {},
   "source": [
    "$3.$ Use Julia's @timed macro to measure how the typical computational cost of your search() function grows with the length of the list. "
   ]
  },
  {
   "cell_type": "code",
   "execution_count": 6,
   "metadata": {},
   "outputs": [
    {
     "data": {
      "text/plain": [
       "10-element Array{Int64,1}:\n",
       "  62\n",
       " 100\n",
       "  56\n",
       "  65\n",
       " 100\n",
       "  27\n",
       "  50\n",
       "   2\n",
       "   1\n",
       "  52"
      ]
     },
     "execution_count": 6,
     "metadata": {},
     "output_type": "execute_result"
    }
   ],
   "source": [
    "rand(1:10,n)"
   ]
  },
  {
   "cell_type": "code",
   "execution_count": 180,
   "metadata": {},
   "outputs": [
    {
     "data": {
      "text/plain": [
       "1.9548e-5"
      ]
     },
     "execution_count": 180,
     "metadata": {},
     "output_type": "execute_result"
    }
   ],
   "source": [
    "A=@timed(search(List,7))\n",
    "A[2]"
   ]
  },
  {
   "cell_type": "code",
   "execution_count": 9,
   "metadata": {},
   "outputs": [
    {
     "data": {
      "text/plain": [
       "10-element Array{Any,1}:\n",
       " 2.175e-6\n",
       " 1.95e-7 \n",
       " 1.75e-7 \n",
       " 1.3e-7  \n",
       " 1.19e-7 \n",
       " 1.32e-7 \n",
       " 1.21e-7 \n",
       " 1.17e-7 \n",
       " 1.19e-7 \n",
       " 1.16e-7 "
      ]
     },
     "execution_count": 9,
     "metadata": {},
     "output_type": "execute_result"
    }
   ],
   "source": [
    "arr1 = []\n",
    "\n",
    "for i = 1:n\n",
    "    #Q = rand(1,n)\n",
    "    tim1 = @timed(search(List,n))[2]\n",
    "    push!(arr1,tim1)\n",
    "end\n",
    "arr1"
   ]
  },
  {
   "cell_type": "code",
   "execution_count": 12,
   "metadata": {},
   "outputs": [
    {
     "data": {
      "text/html": [
       "<img src=\"data:image/png;base64,iVBORw0KGgoAAAANSUhEUgAAAlgAAAGQCAYAAAByNR6YAAAABHNCSVQICAgIfAhkiAAAAAlwSFlzAAAPYQAAD2EBqD+naQAAADl0RVh0U29mdHdhcmUAbWF0cGxvdGxpYiB2ZXJzaW9uIDIuMS4wLCBodHRwOi8vbWF0cGxvdGxpYi5vcmcvpW3flQAAIABJREFUeJzt3X1wVOdh7/Hfs1pp9bp7BAQbRRLCMkLHNrdiIIQLTgxurkuoM4mLYZiUmVA8xq3T8SSduTh263TCENImrdM6SWPaa2PmekKJTe/1TO7YTmt76Dhv1y4hvg0CxKskYxsbpBUCtNJqn/vHIqHVC3pb7dk9+/3MaPblnLN6pIOjb86rsdZaAQAAIG0CXg8AAADAbwgsAACANCOwJFlr1dXVJfaWAgCAdCCwJF26dEmRSERvnIp6PZSMiEbz4+fMF6xP/2Gd+gvrMz8RWEMcy5P/Bvr7+70eAtKI9ek/rFN/YX3mJwJriGOd7CIEAADTR2ANQWABAIB0CHo9gGxyPEpgAQAwVb29vTp79mzO7xYNBAKaN2+eKioqpvwZBNYQp7ulnrhVcdB4PRQAAHJKe3u7vvjFL+rKlSteDyVt7rvvPj322GMKBCa/w4/AGsJaqaVLWjzL65EAAJA7EomEduzYIcdx9NRTT6m4uNjrIU1LX1+ffv3rX+t73/ueJOnP//zPJ/0ZBNYwzR1Wi2exBQsAgIn66KOPdOjQIX3zm99UU1OT18NJi8WLF0uSnnrqKT3yyCOT3l3IQe5DzC6WmjnQHQCASens7JQkVVdXezyS9FqyZIkk6b333pv0sgTWEIsihsACAGCSEomEJKmgoMDjkaRXYWGhpOs/32QQWEM0EFgAAPjamTNntHr1akUiES1btmzGvg+BNcSiSPJq7v0JIgsAAD8Kh8PauXOnfvSjH83o9yGwhmiIGMX6pbPdXo8EAABMx3e+8x099NBDg687Ozs1Z84cSdKdd96psrKyGf3+nEU4xCInefZgc6fVLWHOJAQAYKpOdVl19s7MZztFGvfv9IMPPqhFixbp29/+tiKRiJ555hl9/vOf16xZmbkWE4E1RHWZVBZMBtbv13o9GgAActNHPVYLfxzXTB1xU2Ck9zcHNad47MhyHEfr16/Xc889p0ceeUQ//OEP9cILL8zMgEZBYA1hjFGjY9TcwTFYAABM1Zxio5aNwRndgnWjuBrwyCOP6Atf+ILq6+t10003DV52IRMIrGFcR2ru9HoUAADktmw41KaxsVF1dXX6kz/5E33729/O6PfmIPdhXCd5qQZr2YoFAECue/DBBxWPx3X//fdLkmKxmKqrq7Vhwwa98847qq6u1mOPPZb278sWrGFcx6izV/rgqnRzqdejAQAA0/Haa6/p4YcfHrxoaCgUUnt7+4x/X7ZgDeNWXj+TEAAA5KZz586psbFRhw8f1le+8pWMf3+2YA1TH5aCJhlYa6q8Hg0AAJiKqqoqHT161LPvzxasYQoDRgsjUnOH1yMBAAC5isAaRaPDPQkBAJioQCCZE319fR6PJL16enokScHg5Hf4sYtwFK5j9Nzxyd85GwCAfFRVVaWioiL90z/9kx588MHBA8pzVX9/v9rb2/X9739fpaWlqq2d/NXHCaxRuI7RuStSV69VuMj763gAAJDNysvL9eSTT+rP/uzP9POf/9zr4aTN0qVL9fTTT6uoqGjSyxJYo3Cv3ZPwaKfV8rkEFgAA41mxYoV++tOf6ty5c0okcnsvUCAQUGVlpWbPnj24+3OyCKxRNDrJx+ZOaflcb8cCAECuKC8vV0NDg9fDyAoc5D6KskKj2nKuhQUAAKZmRGC1tLRo5cqVamho0PLly3XkyJFRF9y5c6fq6+tVX1+vJ554wrNp+/fv15IlS3THHXdo8eLF+t73vpey3DPPPKOFCxeqvr5e27ZtUzwen8Cv5fotcwAAACbNDrNmzRq7Z88ea621L7zwgl2xYsXwWezBgwftbbfdZru7u21PT49dunSpfeWVVzyZ9uabb9r33nvPWmttZ2enra+vt2+++aa11tpTp07ZefPm2ffff98mEgn7uc99zj799NMjfp5oNGol2Wg0OvjeV34etwv/uXfEvH5w4cIFr4eANGJ9+g/r1F9Yn/kpZQvW+fPndejQIW3evFmStH79ep0+fVpnzpxJibL9+/dry5YtKisrUygU0tatW7Vv3z5Ppq1atUo333yzJCkSiaixsVGnT5+WJL344ou67777dNNNN8kYoz/+4z8eXG48rmN08pIU62crFgAAmJyUwGpra1NVVdXgBbWMMaqtrVVra2vKQq2trZo/f/7g67q6usF5Mj1tqCNHjugXv/iF7r777kktN6Crq2vwq7boihJWaomOOTsAAMCoRpxFaEzqZQmsHX0LztD5hs+T6WmS1N7ers9//vN6+umnVVVVNeHlhqqpqbn+ony29OR7eqv9kqo0seO2ckVHB/cB8hPWp/+wTv2F9ek/s2bNGneelMCqqalRe3u74vG4gsGgrLVqa2sbcQXT2tralN2GZ8+eHZwn09Ok5B2zP/OZz+gv/uIvtGHDhgmNczRtbW0Kh8ODr+v/t1VbvEyzZhWMuUyumsg/DuQO1qf/sE79hfWZh4YflHXXXXelHOT+yU9+csSBW2+88Ya9/fbbUw46f/nllz2Zdu7cOdvY2GifffbZEeM8efLkiIPcf/jDH46Yb7SD3K219s6X+uym1/rGPZAt13DApb+wPv2HdeovrM/8NOIyDbt379bu3bvV0NCgv/qrv9IzzzwjSVq3bp3efvttSdLq1au1ceNGLV68WK7r6p577tHatWs9mfb1r39dra2t+vu//3s1NTWpqalJe/bskSTdcsst+sY3vqFVq1apvr5ec+fO1QMPPDDh+HQrpeYODnIHAACTY6wd58CkPNDV1aVIJKJoNJqyi/C7/69fj7+V0OU/Cipg/HPLnIsXL7K52kdYn/7DOvUX1md+4kruN+A6Rj390tlLXo8EAADkEgLrBgZu+swV3QEAwGQQWDdQUy6VBgksAAAwOQTWDQSMUaNDYAEAgMkhsMaRvOmz16MAAAC5hMAaRzKw7LhXgQcAABhAYI3DdYw6YtL5q16PBAAA5AoCaxycSQgAACaLwBrHrREpaAgsAAAwcQTWOAoDRrdGxIHuAABgwgisCWiMGLZgAQCACSOwJsCtJLAAAMDEEVgT4DpG716WLvUSWQAAYHwE1gS4TvLxaJTAAgAA4yOwJqBx4FINHR4PBAAA5AQCawLKC41qyrhUAwAAmBgCa4IGbpkDAAAwHgJrgjiTEAAATBSBNUGuI53sknr7iSwAAHBjBNYEuY5Rv5Vaol6PBAAAZDsCa4K46TMAAJgoAmuCPlZiNDtEYAEAgPERWJPQyJmEAABgAgisSXAdtmABAIDxEViT4DpGxzqlhCWyAADA2AisSXArja72S63dXo8EAABkMwJrEjiTEAAATASBNQm15VJpUGruILAAAMDYCKxJCBijRRG2YAEAgBsjsCYpedNnr0cBAACyGYE1Se61a2FZziQEAABjILAmya00uhiTPuzxeiQAACBbEViTxJmEAABgPATWJN0algoMZxICAICxEViTVFRgVB8WB7oDAIAxEVhT4HLTZwAAcAME1hS4jtFRAgsAAIyBwJoC1zFquyx19xFZAABgJAJrCtzK5CNbsQAAwGgIrClojAxcqsHjgQAAgKxEYE1BRZFRdRnXwgIAAKMjsKbIdQzXwgIAAKMisKaISzUAAICxEFhT5DrSiS6pt5/IAgAAqQisKXIrjfptMrIAAACGIrCmiJs+AwCAsRBYU/SxYqkyxE2fAQDASATWFBljONAdAACMisCaBteRjkYJLAAAkIrAmobkTZ+lhCWyAADAdQTWNLiO0ZW41Nbt9UgAAEA2IbCmgTMJAQDAaAisaZhfIZUUEFgAACAVgTUNAWO0yCGwAABAKgJrmpI3ffZ6FAAAIJsQWNPEtbAAAMBwBNY0uY7RhZj04VUiCwAAJBFY08SZhAAAYDgCa5pujUgBQ2ABAIDrCKxpChUY1VdIzZ1ejwQAAGQLAisN3Eqj5g62YAEAgCQCKw1cx3DTZwAAMIjASgPXMWrtlrr7iCwAAEBgpYXrJB+PcRwWAAAQgZUWjVyqAQAADEFgpUG4yOjjZQQWAABIIrDShFvmAACAAQRWmhBYAABgAIGVJq4jnYhKfQkiCwCAfEdgpYnrGMVtMrIAAEB+I7DShDMJAQDAAAIrTW4qkZwiAgsAABBYaWOM4UB3AAAgicBKK9eRjnI1dwAA8h6BlUZupdHRTquEZSsWAAD5jMBKI9cxuhyX2i97PRIAAOAlAiuN3IEzCTvYggUAQD4jsNJofrlUXMCZhAAA5DsCK40KAkaLIlIzB7oDAJDXCKw0cyu5VAMAAPmOwEozroUFAAAIrDRzHaOPeqSPeogsAADyFYGVZo2cSQgAQN4bEVgtLS1auXKlGhoatHz5ch05cmTUBXfu3Kn6+nrV19friSee8GzaW2+9pZUrV6q0tFT3339/yjLPPfecHMdRU1OTmpqatGbNmgn8SqanISIFDAe6AwCQz0YE1kMPPaRt27bp+PHj2r59ux544IERC/37v/+79u3bp3feeUdHjhzRyy+/rFdffdWTafPmzdPf/d3f6bvf/e6oP+BnPvMZHT58WIcPH9Ybb7yRhl/ZjYUKjG6p4FINAADks5TAOn/+vA4dOqTNmzdLktavX6/Tp0/rzJkzKQvt379fW7ZsUVlZmUKhkLZu3ap9+/Z5Mq26ulrLly9XKBSaud/SJLlO8pY5AAAgP6UEVltbm6qqqhQMBiVJxhjV1taqtbU1ZaHW1lbNnz9/8HVdXd3gPJmeNp6DBw+qqalJq1at0osvvnjDebu6ulK+YrHYhL7HcJxJCABAfgsOf8MYk/LajnHj4qHzDZ8n09PGcu+992rjxo0qLS1Vc3Oz7rnnHlVXV2vFihWjzl9TU5Pyevv27Xr00Ucn9L1SPqcwqLPdJWo7f1FlI37D3uvo6PB6CEgj1qf/sE79hfXpP7NmzRp3npQ//zU1NWpvb1c8HlcwGJS1Vm1tbaqtrU1ZqLa2NmW34dmzZwfnyfS0G5kzZ87gc9d1tW7dOv3sZz8bM7Da2toUDocHX4dCoSntevxEPCH9R78+DFSqZpYZfwEPTOQfB3IH69N/WKf+wvrMPym7COfOnaslS5bo+eeflyQdOHBAdXV1qqurS1low4YN2rt3ry5fvqxYLKZnn31WmzZt8mTajbz77ruDzz/44AO9/vrrWrJkyZjzh8PhlK+pHtc1eKkGdhMCAJCXRuzA2r17t7Zs2aJdu3YpHA5r7969kqR169Zpx44dWrZsmVavXq2NGzdq8eLFkqRNmzZp7dq1kpTxaSdPntRdd92lK1euqKenR9XV1Xr88cf18MMP6wc/+IFeeuklFRYWKpFI6Ktf/aruvvvuGfg1pooUGVWVci0sAADylbETPaDJx7q6uhSJRBSNRlN2EU7HZ/5PXJEi6cB/y76DsC5evMjmah9hffoP69RfWJ/5iSu5zxDOJAQAIH8RWDPErZRaolJfgsgCACDfEFgzxHWM4lY62eX1SAAAQKYRWDOEmz4DAJC/CKwZcnOJFCniUg0AAOQjAmuGGGO4JyEAAHmKwJpBriM1d3o9CgAAkGkE1gxyHaOjUTvheycCAAB/ILBmkOsYdfdJ7Ze9HgkAAMgkAmsGuZXckxAAgHxEYM2gunIpVEBgAQCQbwisGVQQMFoUkZo7vB4JAADIJAJrhnFPQgAA8g+BNcMILAAA8g+BNcNcx+jDHulCD5EFAEC+ILBm2OA9CdmKBQBA3iCwZlhDRAoYrugOAEA+IbBmWHHQaEGF1NzBFiwAAPIFgZUBA7fMAQAA+YHAygDXMWzBAgAgjxBYGeA6Rme7pStxIgsAgHxAYGWA60hW0jEOdAcAIC8QWBnATZ8BAMgvBFYGRIqM5pUSWAAA5AsCK0O4ZQ4AAPmDwMoQziQEACB/EFgZ4jpSS5cUTxBZAAD4HYGVIY2OUV9COtnl9UgAAMBMI7AyxOWmzwAA5A0CK0PmlUrhQgILAIB8QGBliDFGbqXRUQILAADfI7AyyHWkZq7mDgCA7xFYGeQ6yS1Y1rIVCwAAPyOwMsh1jC71Se9e9nokAABgJhFYGcSZhAAA5AcCK4MWVEihAgILAAC/I7AyqCBg1BDhQHcAAPyOwMowbvoMAID/EVgZRmABAOB/BFaGNTpG569KF3uILAAA/IrAyjDOJAQAwP8IrAxriEhGHOgOAICfEVgZVhI0WlAh7kkIAICPEVge4EB3AAD8jcDygFtJYAEA4GcElgdcx+jMJelqnMgCAMCPCCwPuI5kJR2Lej0SAAAwEwgsDwxeqqGDLVgAAPgRgeUBJ2R0cwnXwgIAwK8ILI9wJiEAAP5FYHmEMwkBAPAvAssjjRHpeFSKJ4gsAAD8hsDyiFtp1JeQTnV5PRIAAJBuBJZHuOkzAAD+RWB5pKpUqijknoQAAPgRgeURYwxnEgIA4FMElodcR2ru9HoUAAAg3QgsDw1swbKWrVgAAPgJgeUht9LoUp907orXIwEAAOlEYHmIMwkBAPAnAstDCyqkogA3fQYAwG8ILA8FA0YNEQ50BwDAbwgsj3GpBgAA/IfA8lgjgQUAgO8QWB5zHaMPrkodMSILAAC/ILA85lZyJiEAAH5DYHlsUUQykpo7vB4JAABIFwLLYyVBo7oK6WiULVgAAPgFgZUFXMdwLSwAAHyEwMoCXKoBAAB/IbCygOsYnb4kXY0TWQAA+AGBlQXcSslKOh71eiQAACAdCKwswE2fAQDwFwIrC1SGjG4qIbAAAPALAitLcCYhAAD+QWBlCc4kBADAPwisLNHoJA9yjyeILAAAch2BlSVcx6g3IZ2+5PVIAADAdBFYWYIzCQEA8A8CK0t8vEyqKJSOElgAAOQ8AitLGGPUyIHuAAD4AoGVRVxHau70ehQAAGC6CKwsMnAtLGvZigUAQC4bEVgtLS1auXKlGhoatHz5ch05cmTUBXfu3Kn6+nrV19friSee8GzaW2+9pZUrV6q0tFT333//pMaZbVzHqKtPeu+K1yMBAADTYodZs2aN3bNnj7XW2hdeeMGuWLFi+Cz24MGD9rbbbrPd3d22p6fHLl261L7yyiueTGtra7O/+tWv7NNPP23Xr18/4XEOFY1GrSQbjUZHTMukYx0Jq3/stf/W3j+j3+fChQsz+vnILNan/7BO/YX1mZ9StmCdP39ehw4d0ubNmyVJ69ev1+nTp3XmzJmUKNu/f7+2bNmisrIyhUIhbd26Vfv27fNkWnV1tZYvX65QKDQiHm+0XDa6JSwVBbhUAwAAuS4lsNra2lRVVaVgMCgpeWZbbW2tWltbUxZqbW3V/PnzB1/X1dUNzpPpaTcy2eW6urpSvmKx2LjfI52CAaOFEQ50BwAg1wWHv2GMSXltxzjgeuh8w+fJ9LQbmcxyNTU1Ka+3b9+uRx99dMLfKx3qS4v1zodGFy9enbHv0dHRMWOfjcxjffoP69RfWJ/+M2vWrHHnSQmsmpoatbe3Kx6PKxgMylqrtrY21dbWpixUW1ubstvw7Nmzg/NketqNTHa5trY2hcPhwdehUGjUXY8z6b/M7df/OJqY0Mqbjpn+fGQW69N/WKf+wvrMPym7COfOnaslS5bo+eeflyQdOHBAdXV1qqurS1low4YN2rt3ry5fvqxYLKZnn31WmzZt8mTajUx2uXA4nPKV6biSkmcSvn9V6oxxHBYAALlqxC7C3bt3a8uWLdq1a5fC4bD27t0rSVq3bp127NihZcuWafXq1dq4caMWL14sSdq0aZPWrl0rSRmfdvLkSd111126cuWKenp6VF1drccff1wPP/zwDZfLVkPvSfhfbzLjzA0AALKRsZM5oMmnurq6FIlEFI1GU3YReuFK3Kp8T1zPfLpAf7RoZq4De/HiRTZX+wjr039Yp/7C+sxPXMk9y5QGjeaXc6kGAAByGYGVhdxKbvoMAEAuI7CykOsQWAAA5DICKwu5jtHpS1JPnMgCACAXEVhZyHWkhJWOR70eCQAAmAoCKwsNvVQDAADIPQRWFppVbDS3hMACACBXEVhZigPdAQDIXQRWlmqMEFgAAOQqAitLuZXJg9z7E0QWAAC5hsDKUq5jFOuXTl/yeiQAAGCyCKwsxZmEAADkLgIrS1WXSeWF0lECCwCAnENgZSljDAe6AwCQowisLOY6UnOn16MAAACTRWBlMbcyuQXLWrZiAQCQSwisLOY6RtFe6f2rXo8EAABMBoGVxQbPJOxgCxYAALmEwMpi9WGpMMClGgAAyDUEVhYLBowWhjnQHQCAXENgZblGbvoMAEDOIbCynEtgAQCQcwisLOdWGr13RYr2ElkAAOQKAivLcSYhAAC5h8DKcosiycejUW/HAQAAJo7AynJlhUbzy9mCBQBALiGwcgAHugMAkFsIrBxAYAEAkFsIrBzgVhqduiT1xIksAAByAYGVA1xHSlippcvrkQAAgIkgsHIAl2oAACC3EFg5YHax0ceKuekzAAC5gsDKEdyTEACA3EFg5QjOJAQAIHcQWDnCdaRjUak/QWQBAJDtCKwc4TpGsX7pTLfXIwEAAOMhsHKEW5k8k/AouwkBAMh6BFaOqCmTyoKcSQgAQC4gsHKEMSZ5JiHXwgIAIOsRWDnEdaTmTq9HAQAAxkNg5ZCBSzVYy1YsAACyGYGVQ1zHqLNX+uCq1yMBAAA3QmDlkIEzCTnQHQCA7EZg5ZD6sBQ0BBYAANmOwMohhQGjWyNSc4fXIwEAADdCYOUY7kkIAED2I7ByDIEFAED2I7ByjOsYnbsiRXuJLAAAshWBlWNcJ3km4TG2YgEAkLUIrBzT6CQfuaI7AADZi8DKMWWFRrXlXKoBAIBsRmDlIA50BwAguxFYOch1jJo7CCwAALIVgZWDXMfo5CUp1k9kAQCQjQisHOQ6UsJKLVGvRwIAAEZDYOUgbvoMAEB2I7By0Jxio9khAgsAgGxFYOUoziQEACB7EVg5yq0UZxICAJClCKwc5TpGx6JSf4LIAgAg2xBYOcp1jHr6pbPdXo8EAAAMR2DlqIGbPh/lOCwAALIOgZWjasql0iBnEgIAkI0IrBwVMEaNDoEFAEA2IrByWPJSDV6PAgAADEdg5bCBa2FZy1YsAACyCYGVw1zHqCMmnb/q9UgAAMBQBFYOGziTkOOwAADILgRWDrs1IgUNgQUAQLYhsHJYYcCoPiwOdAcAIMsQWDmOmz4DAJB9CKwc51YSWAAAZBsCK8e5jtG7l6WuXiILAIBsQWDlONdJPh6LElgAAGQLAivHNQ5cqqHD44EAAIBBBFaOKy80qinjUg0AAGQTAssHOJMQAIDsQmD5AGcSAgCQXQgsH3Ad6WSX1NtPZAEAkA0ILB9wHaN+K7VEvR4JAACQCCxf4KbPAABkFwLLB+YUS7NCBBYAANmCwPIBYwxnEgIAkEVGBFZLS4tWrlyphoYGLV++XEeOHBl1wZ07d6q+vl719fV64oknsnLac889J8dx1NTUpKamJq1Zs2YCv5Lc5DpswQIAIGvYYdasWWP37NljrbX2hRdesCtWrBg+iz148KC97bbbbHd3t+3p6bFLly61r7zyStZN27Nnj12/fv2I8Q8XjUatJBuNRsedN1v97W/ituSZXtufSIw774ULFzIwImQK69N/WKf+wvrMTylbsM6fP69Dhw5p8+bNkqT169fr9OnTOnPmTEqU7d+/X1u2bFFZWZlCoZC2bt2qffv2Zd20fOJWGl3tl1q7vR4JAABICay2tjZVVVUpGAxKSh7bU1tbq9bW1pSFWltbNX/+/MHXdXV1g/Nk0zRJOnjwoJqamrRq1Sq9+OKLN/xldHV1pXzFYrEbzp9NOJMQAIDsERz+hjEm5bW1o//BHjrf8HmyZdq9996rjRs3qrS0VM3NzbrnnntUXV2tFStWjPoz1dTUpLzevn27Hn300VHnzTblViotKNd/vHtZnyzru+G8HR3cGdpPWJ/+wzr1F9an/8yaNWvceVICq6amRu3t7YrH4woGg7LWqq2tTbW1tSkL1dbWpuw2PHv27OA82TRtzpw5g++7rqt169bpZz/72ZiB1dbWpnA4PPg6FAopFAqNOm82WuT06WxviWbNqhh33on840DuYH36D+vUX1if+SdlF+HcuXO1ZMkSPf/885KkAwcOqK6uTnV1dSkLbdiwQXv37tXly5cVi8X07LPPatOmTVk37d133x0c8wcffKDXX39dS5YsGfOXEQ6HU75yKa6kgZs+ez0KAAAwYhfh7t27tWXLFu3atUvhcFh79+6VJK1bt047duzQsmXLtHr1am3cuFGLFy+WJG3atElr166VpKya9oMf/EAvvfSSCgsLlUgk9NWvflV33313Wn+B2cR1jF5pT8haO2JXLwAAyBxjxzrIKo90dXUpEokoGo2m7CLMNQdOJ3T/v/Xrg81BzS0ZO7AuXrzI5mofYX36D+vUX1if+YkrufsIZxICAJAdCCwfuTUsFRipuYPAAgDASwSWjxQVGNWHxYHuAAB4jMDyGW76DACA9wgsnyGwAADwHoHlM65j1H5ZutRLZAEA4BUCy2fcyuTjsSiBBQCAVwgsn2mMDFyqweOBAACQxwgsn6koMqou41pYAAB4icDyIdcxXAsLAAAPEVg+xJmEAAB4i8DyIdeRTnRJvf1EFgAAXiCwfMitNOq3ycgCAACZR2D50PUzCdmCBQCAFwgsH5pbIlWGuOkzAABeIbB8yBjDge4AAHiIwPIp12EXIQAAXiGwfMp1jI52SglLZAEAkGkElk+5jtHVfqmt2+uRAACQfwgsn3IdziQEAMArBJZPza+QSgoILAAAvEBg+VTAGC3iQHcAADxBYPlY8qbPXo8CAID8Q2D5GNfCAgDAGwSWj7mO0YWY9OFVIgsAgEwisHyskTMJAQDwBIHlYwsjUsAQWAAAZBqB5WOhAqP6Cqm50+uRAACQXwgsn3MrjZo72IIFAEAmEVg+x5mEAABkHoHlc65j1HZZ6u62xrU6AAALbklEQVQjsgAAyBQCy+dcJ/l4jOOwAADIGALL57hUAwAAmUdg+Vy4yOjjZQQWAACZRGDlAQ50BwAgswisPEBgAQCQWQRWHnAd6URU6ksQWQAAZAKBlQcaHaO4TUYWAACYeQRWHnA5kxAAgIwisPLATSWSU0RgAQCQKQRWHjDGcKA7AAAZRGDlCddhCxYAAJlCYOUJt9LoaKeUsEQWAAAzjcDKE65jdCUutV/2eiQAAPgfgZUnBs8k7GALFgAAM43AyhPzy6XiAo7DAgAgEwisPFEQMFoUkZo7vR4JAAD+R2DlEbeSSzUAAJAJBFYe4VpYAABkBoGVRxojRh/1SBdixuuhAADgawRWHnErk2F1/BKrHQCAmRT0egDInIaIVBiQPnewRJFf9MkpkpyQ5BQZOUVS5cDzUPLehQPPK4skJ2SuvSeVFyZvvwMAAEZHYOWRUIHR679foLffvay+YKk6e6WOmNTZa9XZKx3tlDp7E4Pv9/SP/jkFRiPibLQQG3heOWy+kgICDQDgbwRWnrnz5oBuK+rTrFkF487bE7eK9kqdvckIS8aY1Bmz194bEmgxqa07NdD6EqN/bmFgILpSw8spMkPeHzvQQgXEGQAguxFYGFNx0Kg4KN1UKkmTixprra72S52x8QIt+fxCj3Syyw7GWmev1D/GCY/FBcMCbcjzwfdDRvNKpFsjRgsqiDIAQGYRWJgRxhiVBqXSoFRVJk0l0Lr7NBhinTGrjt6BYLsWaLHr4fbeFam5MzEYZ9FeaaDPAkaqLUvG1sKw0a3h688XVCRDEgCAdCKwkJWMMaookiqKpJrkO5Navj9h9f5VqSVqdaJLOtFl1RK1+tkHCe1tka7ENfipteXSrWGjW8NGCyO69mh0C/EFAJgiAgu+VBAw+niZ9PEyo9VVqdOstXrvykB0XXvssvrl+YSePyFdHhJf1WXSwoi5FmDXn9eHpRLiCwAwBgILeccYo6oyqarM6NPzUqdZm9zydSJq1XJty9eJqNX//TChH52Uuvuuz1tdptStXmGjWyPJ+ColvgAgrxFYwBDGGM0rleaVGn1qlPj64Oq16Ooa2P1o9faHVv980urSkPj6+EB8ha/tfrx2zFd9WCorJL4AwO8ILGCCjDG6uVS6udTozptTp1lr9WHP9WO+BuLr1xekH59KqGtIfM0r1eDB9gO7HBde2/JVTnwBgC8QWHkmFovpr//6r7Vjxw6FQiGvh+MbxhjNLZHmlhitGiW+PuqRWrqsTgw55uudi9KBMwlFe6/Pe3PJQHRdP9h+4PiviqKR8cX69B/Wqb+wPv0nFovpW9/6lh577LEbrlNjrR3jakP5o6urS5FIRNFoVOFw2OvhzKh8+llzgbVWF2Kpx3wN3QrWOSS+bioZeczXzQWXddcddXq/9bTmVlZwhfws1pewuhKXLvclz2K9HJeuxO21x+vvX+y+qu3b/7ue+tvvaFZFiUoKpJKghjyalNfF1x4DrPusxP/m+s9E1ymBpfz6DyCfflY/uNBjU852HPr8Ymzk/MUj/hhLxcP+IF9/blL/SA9ON2P+UR/++UUBf9z2yFqrWL+ux85g9NjU1/EhkdQ/EEX2hssNvDfWnQ2GCwWsYrGYVFg8qZ+hKDBy3Y9Yx6O8n/rvwoz8NzRK1JUUSCFueTUh/G+u/0x0nbKLEMhis4uNZhcbfXLuyGkXe6x+81637r7/S/rHPf9TKirR1bjV1XjyPpJX+6Wrcelqv732mHzddWXgeWLYfMnHsa6gPxqj0f6ojxJ1w7e+DI+6USPQpMxXHFQygvqGxU582BahIVuIRntvtGWvxKXEBH5uI6msMHkB3bLgwKMZfF1ZlDy7tDQYGDL92mOhUWlBcvkRy177zNKg1H3pkiKRiDo6oyoqq0ium/jo67NnjPdTHuPJuyr09CfvmDCw7kfOJ8Un+X+3Rwv64fFWfIOoCxUk720aNEYFgeTz5Gulvh7yfOTr5LLBIdNTXgdu/Jls+Zsca62skv+9JKxGPDca+L0mvwpM/oY4gaXkPxgpWaV+N/Az5sPP6ndBSQsLu6RD/0ufndWhcHiMu3NPUl/iWqQN+SPek5B6+oe935/8oz50vqsJKRYf8n5MunRFOj8YAzZl+Z5rf9zTJRi4FioF14OlJGhUVpj8oz4nKJWEpNIykzJPaWEydkpS3hs2T3AGt9r0SYk+qVvX/9vsvtSlsJEKlfwKG11/MUPiCZtcL8PWac/QcL/27+FqXIr1pwZ9cnryM67GpO5+6aOBdT0QeoOfmQzmyQT9TAmMEnGDMabhQTY88owCQyNu2LI2EZe2PqeNP+1RoCCeDBErDWzQTFx7bu0NnkvS4Ht21HmHho40SgAN+azx5h0roKb7Ox743Y32PHDt9zX4voZNG7GMuRZvI6cNPA6NvRHLjzKmAmOGROGwaUPG1teX3H0w3g5AdhFKam9vV01NjdfDAAAAOeL8+fP62Mc+NuZ0AktSIpHQuXPnVFHBQcIAAGB84zUDgQUAAJBmAa8HAAAA4DcEFgAAQJoRWHmip6dHX/jCF9TQ0KCmpiatXbtWZ86c8XpYSINvfOMbMsboP//zP70eCqYpFovpT//0T7Vw4ULdfvvt2rx5s9dDwjS9+uqrWrp0qZYsWaI77rhDe/fu9XpImIRHHnlEdXV1I/43tqWlRStXrlRDQ4OWL1+uI0eOjFiWwMoj27Zt07Fjx3T48GHde++92rZtm9dDwjQdOnRIv/zlL1VbW+v1UJAGX/va1xQIBHT8+HH99re/1Xe+8x2vh4RpsNbqi1/8ovbs2aNf//rX+slPfqKHHnpIly5d8npomKD7779fb775pubPn5/y/kMPPaRt27bp+PHj2r59ux544IERyxJYeaK4uFjr1q0bPONhxYoVOnXqlMejwnTEYjF9+ctf1j/8wz9w9qsPXL58WXv27NGuXbsG1+e8efM8HhXSobOzU1LyGmezZ8/mnoQ55NOf/rSqq6tT3jt//rwOHTo0uIV5/fr1On369Ii9QgRWnnrqqaf0uc99zuthYBq+/vWva/PmzVqwYIHXQ0EanDx5UrNnz9bOnTu1bNkyfepTn9Jrr73m9bAwDcYY/fjHP9Yf/MEfaP78+brzzju1d+9eFRUVeT00TENbW5uqqqoUDCav1W6MUW1trVpbW1PmI7Dy0K5du9TS0qJvfvObXg8FU/SLX/xCb731lh5++GGvh4I06evr06lTp3Tbbbfp7bff1ve//31t2rRJH374oddDwxTF43F961vf0ksvvaSzZ8/qtdde05e+9CVdvHjR66FhmobvNRjtilcEVp75m7/5G/3Lv/yLXn75ZZWWlno9HEzRwYMHdfToUS1YsEB1dXVqb2/X7/3e7+nll1/2emiYovnz5ysQCOgP//APJUm/8zu/owULFui3v/2txyPDVB0+fFjnzp3TqlWrJEmf+MQnVFVVpd/85jcejwzTUVNTo/b2dsXjyft8WWvV1tY24lhYAiuPPPnkk9q3b5/+9V//VY7jeD0cTMPXvvY1nTt3TmfOnNGZM2dUXV2tV199VZ/97Ge9HhqmaM6cOfrd3/1dvfrqq5Kks2fP6vTp01q0aJHHI8NUDfwhPnbsmCTpxIkTOnnypBoaGjweGaZj7ty5WrJkiZ5//nlJ0oEDB1RXV6e6urqU+biSe54YuN/iLbfcooqKCklSKBTSr371K49HhnSoq6vTT37yE91xxx1eDwXTcOrUKW3dulUXLlxQQUGB/vIv/1L33Xef18PCNOzbt0+7du1SIBCQtVaPP/64Nm3a5PWwMEFf/vKX9dJLL+n999/XnDlzVF5erhMnTujYsWPasmWLLly4oHA4rL179+r2229PWZbAAgAASDN2EQIAAKQZgQUAAJBmBBYAAECa/X8XohzlD2U+dAAAAABJRU5ErkJggg==\" />"
      ]
     },
     "execution_count": 12,
     "metadata": {},
     "output_type": "execute_result"
    }
   ],
   "source": [
    "n = 1:10\n",
    "plot(n, arr1)"
   ]
  },
  {
   "cell_type": "code",
   "execution_count": null,
   "metadata": {
    "collapsed": true
   },
   "outputs": [],
   "source": [
    " = []\n",
    "\n",
    "for i = 1:n\n",
    "    push!(theor2, i)\n",
    "end\n",
    "\n",
    "theor1"
   ]
  },
  {
   "cell_type": "markdown",
   "metadata": {},
   "source": []
  },
  {
   "cell_type": "markdown",
   "metadata": {},
   "source": [
    "## Question 2: Interval membership\n",
    "\n",
    "The problem of interval membership is the following: given a set of contiguous intervals, \n",
    "\n",
    "$\\left\\{[x_0, x_1), [x_1, x_2), \\ldots, [x_{n-2}, x_{n-1}), [x_{n-1}, x_n)\\right\\}$\n",
    "\n",
    "spanning the interval $[x_1, x_n)$ and given a random number $x \\in [x_1, x_n)$, determine the interval in which $x$ lies. The standard numerical algorithm for stochastic simulation of continuous-time Markov processes (eg birth-death process, contact process, SIR model etc) requires solving an interval membership problem at each time step. It is therefore important to be able to solve it efficiently. Note, we cannot assume that all intervals are the same length.\n",
    "\n",
    "We can solve the interval membership problem with $n$ interval by a variant of linear search in $O(n)$ time. We will demonstrate below that it can be solved in $O(\\log\\, n)$ time using a variant of a data structure known as a Fenwick tree.\n",
    "\n",
    "**1)** Use Julia's random number generator to generate $n$ random interval lengths, $y_1, y_2, \\ldots, y_n$ between 0 and 1 as shown: "
   ]
  },
  {
   "cell_type": "code",
   "execution_count": 13,
   "metadata": {},
   "outputs": [
    {
     "data": {
      "text/plain": [
       "10-element Array{Float64,1}:\n",
       " 0.768448 \n",
       " 0.940515 \n",
       " 0.673959 \n",
       " 0.395453 \n",
       " 0.313244 \n",
       " 0.662555 \n",
       " 0.586022 \n",
       " 0.0521332\n",
       " 0.26864  \n",
       " 0.108871 "
      ]
     },
     "execution_count": 13,
     "metadata": {},
     "output_type": "execute_result"
    }
   ],
   "source": [
    "# Set number of intervals\n",
    "n=10\n",
    "# Seed for random number generator. \n",
    "# You should choose your own seed so that everyone does not end up with the same random sequences\n",
    "seed = 123 \n",
    "# Initialise the random number generator\n",
    "rng = MersenneTwister(seed)\n",
    "# Generate a sample of n uniform random numbers in the interval [0,1]\n",
    "X = rand(rng, n)\n"
   ]
  },
  {
   "cell_type": "markdown",
   "metadata": {},
   "source": [
    "The corresponding interval membership problem is constructed from the partial sums:\n",
    "$$x_i = \\sum_{j=1}^i y_j, \\ \\ \\ \\ \\ i=1,2,\\ldots n.$$ \n",
    "Using the objects defined in KVPair.jl and LList.jl, create an array of key-value pairs, $(i, x_i)$, associating each interval with the corresponding partial sum and store this array in a linked list. Print the list for a small value of $n$to verify that it works.\n",
    "\n",
    "**2)** Modify the search function you wrote above to write a recursive function\n",
    "\n",
    "$$\\text{intervalmembership(list::Nullable{LList}, x::Float64)}$$\n",
    "\n",
    "that takes the LList containing the list of partial sums and a random Float64 in the range $[0, x_n]$ as inputs and returns the KVPair corresponding to the interval in which $x$ lies. Verify that it works for small values of $n$ and use Julia's @timed macro to measure how the typical computational cost grows with $n$. \n",
    "\n",
    "**3)** The file FTree.jl defines a data structure implementing a variant of a Fenwick tree that can solve the interval membership problem as described in the lectures/notes. The function \n",
    "\n",
    "$$\\text{buildFTree(T::Nullable{FTree}, dataArray::Array{KVPair, 1})}$$\n",
    "\n",
    "takes the array of KVPairs containing the interval lengths as input, recursively constructs the tree and returns the FTree containing the correct key-value pairs (note a key of -1 is assigned to all non-leaf nodes)."
   ]
  },
  {
   "cell_type": "code",
   "execution_count": 16,
   "metadata": {},
   "outputs": [
    {
     "data": {
      "text/plain": [
       "10-element Array{KVPair,1}:\n",
       " KVPair(1, 0.768448)\n",
       " KVPair(2, 1.70896) \n",
       " KVPair(3, 2.38292) \n",
       " KVPair(4, 2.77837) \n",
       " KVPair(5, 3.09162) \n",
       " KVPair(6, 3.75417) \n",
       " KVPair(7, 4.3402)  \n",
       " KVPair(8, 4.39233) \n",
       " KVPair(9, 4.66097) \n",
       " KVPair(10, 4.76984)"
      ]
     },
     "execution_count": 16,
     "metadata": {},
     "output_type": "execute_result"
    }
   ],
   "source": [
    "val = Array{KVPair}(n)\n",
    "function part_sum(x)\n",
    "    ssum = 0.0\n",
    "    val = Array{KVPair}(n)\n",
    "\n",
    "    for i in 1:length(x)\n",
    "        ssum += x[i]\n",
    "        val[i] = KVPair(i,ssum)\n",
    "    end\n",
    "    return val\n",
    "end\n",
    "val=part_sum(X)"
   ]
  },
  {
   "cell_type": "code",
   "execution_count": 17,
   "metadata": {},
   "outputs": [
    {
     "data": {
      "text/plain": [
       "Nullable{LList}(LList(KVPair(1, 0.768448), LList(KVPair(2, 1.70896), LList(KVPair(3, 2.38292), LList(KVPair(4, 2.77837), LList(KVPair(5, 3.09162), LList(KVPair(6, 3.75417), LList(KVPair(7, 4.3402), LList(KVPair(8, 4.39233), LList(KVPair(9, 4.66097), LList(KVPair(10, 4.76984), #NULL)))))))))))"
      ]
     },
     "execution_count": 17,
     "metadata": {},
     "output_type": "execute_result"
    }
   ],
   "source": [
    "lists = buildLList(val)"
   ]
  },
  {
   "cell_type": "code",
   "execution_count": 18,
   "metadata": {},
   "outputs": [
    {
     "data": {
      "text/plain": [
       "KVPair(3, 2.382921370479824)"
      ]
     },
     "execution_count": 18,
     "metadata": {},
     "output_type": "execute_result"
    }
   ],
   "source": [
    "function intervalmembership(list::Nullable{LList}, x::Float64)\n",
    "\n",
    "\n",
    "    if x < get(list).data.value\n",
    "        return get(list).data\n",
    "    else \n",
    "        return intervalmembership(get(list).next, x)\n",
    "    end\n",
    "end\n",
    "\n",
    "intervalmembership(lists, 2.3)"
   ]
  },
  {
   "cell_type": "code",
   "execution_count": 32,
   "metadata": {},
   "outputs": [
    {
     "data": {
      "text/plain": [
       "5-element Array{Any,1}:\n",
       " 3.886e-6\n",
       " 3.28e-7 \n",
       " 1.54e-7 \n",
       " 1.33e-7 \n",
       " 1.39e-7 "
      ]
     },
     "execution_count": 32,
     "metadata": {},
     "output_type": "execute_result"
    }
   ],
   "source": [
    "n=5\n",
    "arr1_1 = []\n",
    "\n",
    "for i = 1:n\n",
    "    Xxx = rand(1,n)\n",
    "    time1 = @timed(intervalmembership(lists,Xxx[i]))[2]\n",
    "    push!(arr1_1,time1)\n",
    "end\n",
    "arr1_1"
   ]
  },
  {
   "cell_type": "code",
   "execution_count": 23,
   "metadata": {},
   "outputs": [
    {
     "data": {
      "text/plain": [
       "5-element Array{Any,1}:\n",
       " 1\n",
       " 2\n",
       " 3\n",
       " 4\n",
       " 5"
      ]
     },
     "execution_count": 23,
     "metadata": {},
     "output_type": "execute_result"
    }
   ],
   "source": [
    "arr1_2 = []\n",
    "\n",
    "for i = 1:n\n",
    "    push!(arr1_2, i)\n",
    "end\n",
    "\n",
    "arr1_2"
   ]
  },
  {
   "cell_type": "code",
   "execution_count": 26,
   "metadata": {},
   "outputs": [
    {
     "data": {
      "text/html": [
       "<img src=\"data:image/png;base64,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\" />"
      ]
     },
     "execution_count": 26,
     "metadata": {},
     "output_type": "execute_result"
    }
   ],
   "source": [
    "n1 = 1:5\n",
    "plot(n1,arr1_1, label=\"experimental\")\n",
    "plot!(n1,arr1_2.*arr1_1[1], label=\"theoretical\")\n",
    "xlabel!(\"steps\")\n",
    "ylabel!(\"time\")\n",
    "title!(\"Linear Search\")"
   ]
  },
  {
   "cell_type": "markdown",
   "metadata": {},
   "source": [
    "Write a recursive function\n",
    "\n",
    "$$\\text{intervalmembership(FT::Nullable{FTree}, x::Float64)}$$\n",
    "\n",
    "that takes the FTree containing the list of partial sums and a random Float64 in the range $[0, x_n]$ as \n",
    "inputs and returns the KVPair corresponding to the interval in which $x$ lies. Verify that it works for small values of $n$ and use Julia's @timed macro to compare how the typical computational compares to the above linear search version. Note it can sometimes be difficult to directly measure $O(\\log\\, n)$ growth in computation time since the problem size needs to become very large to register appreciable run times."
   ]
  },
  {
   "cell_type": "code",
   "execution_count": 27,
   "metadata": {},
   "outputs": [
    {
     "data": {
      "text/plain": [
       "Nullable{FTree}(FTree(KVPair(-1, 3.36295), FTree(KVPair(-1, 1.13937), FTree(KVPair(1, 0.897233), #NULL, #NULL), FTree(KVPair(2, 0.242136), #NULL, #NULL)), FTree(KVPair(-1, 2.22358), FTree(KVPair(3, 0.938322), #NULL, #NULL), FTree(KVPair(-1, 1.28526), FTree(KVPair(4, 0.609359), #NULL, #NULL), FTree(KVPair(5, 0.675898), #NULL, #NULL)))))"
      ]
     },
     "execution_count": 27,
     "metadata": {},
     "output_type": "execute_result"
    }
   ],
   "source": [
    "n=5\n",
    "seed = 123\n",
    "X = rand(1, n)\n",
    "sums = 0.0\n",
    "\n",
    "# Now calculate the array of partial sums\n",
    "values = Array{KVPair}(n)\n",
    "for i in 1:n\n",
    "    sums += X[i]\n",
    "    values[i] = KVPair(i,X[i])\n",
    "end\n",
    "T = Nullable{FTree}(FTree(KVPair(0,0.0)))\n",
    "T = buildFTree(T, values)\n",
    "#@show get(T).data.value\n",
    "#@show get(get(T).right).data.value\n"
   ]
  },
  {
   "cell_type": "code",
   "execution_count": 31,
   "metadata": {},
   "outputs": [
    {
     "data": {
      "text/plain": [
       "KVPair(1, 0.8972331243830556)"
      ]
     },
     "execution_count": 31,
     "metadata": {},
     "output_type": "execute_result"
    }
   ],
   "source": [
    "function int_mem_tree(FT::Nullable{FTree}, x::Float64)\n",
    "\n",
    "    node = get(FT)\n",
    "    \n",
    "    if isnull(node.left) && isnull(node.right)\n",
    "        return node.data\n",
    "    else\n",
    "        if x <= get(node.left).data.value\n",
    "            return int_mem_tree(node.left, x)\n",
    "        else\n",
    "            return int_mem_tree(node.right, x-get(node.left).data.value)\n",
    "        end\n",
    "    end\n",
    "    \n",
    "end\n",
    "\n",
    "int_mem_tree(T, 0.5)"
   ]
  },
  {
   "cell_type": "code",
   "execution_count": 35,
   "metadata": {},
   "outputs": [
    {
     "data": {
      "text/plain": [
       "5-element Array{Any,1}:\n",
       " 3.529e-6\n",
       " 2.81e-7 \n",
       " 1.62e-7 \n",
       " 1.49e-7 \n",
       " 1.17e-7 "
      ]
     },
     "execution_count": 35,
     "metadata": {},
     "output_type": "execute_result"
    }
   ],
   "source": [
    "arr2_1 = []\n",
    "\n",
    "for i = 1:n\n",
    "    W = rand(1,n)\n",
    "    time2 = @timed(int_mem_tree(T, W[i]))[2]\n",
    "    push!(arr2_1,time2)\n",
    "end\n",
    "arr2_1"
   ]
  },
  {
   "cell_type": "code",
   "execution_count": 34,
   "metadata": {},
   "outputs": [
    {
     "data": {
      "text/plain": [
       "5-element Array{Any,1}:\n",
       " 0.0     \n",
       " 0.693147\n",
       " 1.09861 \n",
       " 1.38629 \n",
       " 1.60944 "
      ]
     },
     "execution_count": 34,
     "metadata": {},
     "output_type": "execute_result"
    }
   ],
   "source": [
    "arr2_2 = []\n",
    "\n",
    "for i = 1:n\n",
    "    push!(arr2_2, log(i))\n",
    "end\n",
    "\n",
    "arr2_2"
   ]
  },
  {
   "cell_type": "code",
   "execution_count": 36,
   "metadata": {},
   "outputs": [
    {
     "data": {
      "text/html": [
       "<img src=\"data:image/png;base64,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\" />"
      ]
     },
     "execution_count": 36,
     "metadata": {},
     "output_type": "execute_result"
    }
   ],
   "source": [
    "n2 = 1:5\n",
    "plot(n2,arr2_1, label=\"experimental\")\n",
    "plot!(n2,arr2_2.*arr2_1[1], label=\"theoretical\")\n",
    "xlabel!(\"steps\")\n",
    "ylabel!(\"time\")\n",
    "title!(\"Fenwick Tree search\")"
   ]
  },
  {
   "cell_type": "markdown",
   "metadata": {},
   "source": [
    "## Question 3: Gillespie algorithm for heterogeneous diffusion\n",
    "\n",
    "The Gillespie algorithm is a dynamic Monte Carlo algorithm that generates statistically correct realisations of a continous time Markov process. See https://en.wikipedia.org/wiki/Gillespie_algorithm It is used heavily in stochastic simulation of chemical and biological reaction networks and population dynamics. In this question we use it to simulate one-dimensional diffusion of heterogeneous particles whose diffusion constants are independently drawn from an exponential distribution.\n",
    "\n",
    "The basic idea of the algorithm is as follows\n",
    "1. Create a list $\\left\\{(i, r_i), i=1,\\ldots M\\right\\}$,  of all possible transitions (events), $i$, that can occur in the system and the corresponding transition rates, $r_i$.\n",
    "2. Calculate the total rate\n",
    "$$R = \\sum_{i=1}^M r_i$$\n",
    "and divide the interval $[0, R]$ into $M$ intervals whose lengths are given by the $r_i$.\n",
    "3. Generate a uniform random number in the range $[0,R]$ and determine which interval it falls in. \n",
    "4. Perform the corresponding transition and update the time variable by an amount $\\Delta t = 1/R$.\n",
    "5. Repeat until the desired simulation time is reached.\n",
    "\n",
    "To be concrete, suppose with have $N$ particles on the interval $[-L, L]$ initially located at $x=0$. Each particle can hop a distance $\\Delta x$ to the left or to the right with equal probability. The rate of hopping is initially considered to be the same for all particles:\n",
    "\n",
    "$$ r_i = \\frac{D}{2}\\,\\frac{1}{(\\Delta x)^2} $$\n",
    "\n",
    "This choice ensures that in the continous limit ($\\Delta x \\to 0$, $N\\to \\infty$), the density of particles $c(x,t)$ on the line will satisfy the usual diffusion equation with diffusion coefficient $D$ (recall MA933):\n",
    "\n",
    "$$ \\frac{\\partial c}{\\partial t} = D \\frac{\\partial^2 c}{\\partial x^2}$$\n",
    "\n",
    "with initial condition $c(x,0) = \\delta(x)$.\n",
    "\n",
    "The steps of the algorithm then correspond to the following:\n",
    "1. There are $M= 2 N$ possible transitions at each step: each of $N$ particles can hop a distance $\\Delta x$ either left or right with the above rates. We index them as follows: events k=1:N correspond to particle k hopping to the right, events k=N+1:2N correspond to particle k-N hopping to the left.\n",
    "2. The total rate is \n",
    "$$ R = \\frac{D N}{(\\Delta x)^2}.$$\n",
    "3. Generate a uniform random number in the range $[0,R]$ and determine the index $k$ of particle to move and the direction.\n",
    "4. Update the position of particle $k$ accordingly.\n",
    "5. Repeat.\n",
    "\n",
    "The following piece of code implements the Gillespie algorithm for N=100, L=10, $\\Delta x = 0.1$ and $D=1$, converts the particle positions to particle density and compares to the solution of the diffusion equation on an unbounded domain at t=1 (we assume that L=10 is far enough from zero to be considered unbounded):\n",
    "\n",
    "$$c(x, t) = \\frac{1}{\\sqrt{2 \\pi D t}}\\, \\exp [-\\frac{1}{2}\\frac{x^2}{D t} ]$$"
   ]
  },
  {
   "cell_type": "code",
   "execution_count": 37,
   "metadata": {},
   "outputs": [
    {
     "data": {
      "text/html": [
       "<img src=\"data:image/png;base64,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\" />"
      ]
     },
     "execution_count": 37,
     "metadata": {},
     "output_type": "execute_result"
    }
   ],
   "source": [
    "L=10.0\n",
    "N=100\n",
    "Nx = 201\n",
    "dx = 2.0*L/(Nx-1)\n",
    "X = dx.*(-(Nx-1)/2:(Nx-1)/2)\n",
    "Y =zeros(Int64,N)\n",
    "D = 1.0\n",
    "t=0.0\n",
    "\n",
    "\n",
    "r = (D/2.0)/(dx*dx) \n",
    "totalRate = 2.0*N*r\n",
    "\n",
    "dt = 1.0/totalRate\n",
    "T=1.0\n",
    "\n",
    "# This is the main loop\n",
    "while t < T\n",
    "    # Pick an event\n",
    "    k = rand(1:2*N)\n",
    "    if k<=N\n",
    "        hop = 1\n",
    "        particleId = k\n",
    "    else\n",
    "        hop = -1\n",
    "        particleId=k-N\n",
    "    end\n",
    "    Y[particleId]+=hop\n",
    "    t+=dt\n",
    "end\n",
    "\n",
    "# Calculate the estimated density of particles\n",
    "P =zeros(Float64,length(X))\n",
    "for i in 1:length(Y)\n",
    "    P[Y[i]+Int64((Nx-1)/2)+1]+=1/(N * dx)\n",
    "end\n",
    "\n",
    "# Calculate the theoretical density and compare\n",
    "function normal(x, D, t)\n",
    "    return (1.0/sqrt(2.0*pi*D*t))*exp(-x*x/(2*D*t))\n",
    "end\n",
    "P1 = normal.(X, D, T)\n",
    "plot(X, P1, label=\"Analytic solution of diffusion equation\")\n",
    "plot!(X, P, label=\"Numerical estimate of particle density\")\n",
    "xlabel!(\"x\")\n",
    "ylabel!(\"Particle density, c(x,t)\")\n",
    "title!(\"Stochastic simulation of simple diffusion in 1-D\")"
   ]
  },
  {
   "cell_type": "markdown",
   "metadata": {},
   "source": [
    "**1)** The code above makes critical use of the fact that all intervals have the same width in order to decide which particle to move at each step. Suppose now that instead of being equal to $D$ for each particle, the diffusion coefficients are drawn from an exponential distribution with mean $D$:\n",
    "\n",
    "$$ P(x) = \\frac{1}{D} \\exp\\left(-\\frac{x}{D}\\right). $$\n",
    "\n",
    "Modify the code to account for this, using your code from Q2 above to solve the interval membership problem using linear search. You will need to use Julia's randexp() function to generate values for the diffusion coefficients. What is the largest value of $N$ you can simulate in a \"reasonable\" time?\n",
    "\n"
   ]
  },
  {
   "cell_type": "code",
   "execution_count": 39,
   "metadata": {},
   "outputs": [
    {
     "data": {
      "text/html": [
       "<img src=\"data:image/png;base64,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\" />"
      ]
     },
     "execution_count": 39,
     "metadata": {},
     "output_type": "execute_result"
    }
   ],
   "source": [
    "L=10.0\n",
    "N=100\n",
    "Nx = 201\n",
    "dx = 2.0*L/(Nx-1)\n",
    "X = dx.*(-(Nx-1)/2:(Nx-1)/2)\n",
    "Y =zeros(Int64,N)\n",
    "D = 1.0\n",
    "t=0.0\n",
    "\n",
    "D_exp = randexp(N)\n",
    "D_exp = [D_exp;D_exp] #to make it symmetrical\n",
    "rate_exp = (D_exp./2.0)./(dx*dx)\n",
    "totalRate = sum(rate_exp) \n",
    "\n",
    "dt = 1.0/totalRate\n",
    "T=1.0\n",
    "\n",
    "\n",
    "x = zeros(2*N)\n",
    "values = Array{KVPair}(2*N)\n",
    "for i=1:2*N\n",
    "    for j=1:i\n",
    "        x[i]=x[i]+rate_exp[j]\n",
    "    end\n",
    "    values[i]=KVPair(i,x[i])\n",
    "end\n",
    "ListS = Nullable{LList}()\n",
    "ListS = buildLList(values)\n",
    "\n",
    "\n",
    "# This is the main loop\n",
    "while t < T\n",
    "    # Pick an event\n",
    "    findRate = rand()*totalRate\n",
    "    #node = intervalmembership(ListS,findRate)\n",
    "    k = intervalmembership(ListS,findRate).key\n",
    "    if k<=N\n",
    "        hop = 1\n",
    "        particleId = k\n",
    "    else\n",
    "        hop = -1\n",
    "        particleId=k-N\n",
    "    end\n",
    "    Y[particleId]+=hop\n",
    "    t+=dt\n",
    "end\n",
    "\n",
    "# Calculate the estimated density of particles\n",
    "P =zeros(Float64,length(X))\n",
    "for i in 1:length(Y)\n",
    "    P[Y[i]+Int64((Nx-1)/2)+1]+=1/(N * dx)\n",
    "end\n",
    "\n",
    "# Calculate the theoretical density and compare\n",
    "function normal(x, D, t)\n",
    "    return (1.0/sqrt(2.0*pi*D*t))*exp(-x*x/(2*D*t))\n",
    "end\n",
    "\n",
    "P1 = normal.(X, D, T)\n",
    "plot(X, P1, label=\"Analytic solution of diffusion equation\")\n",
    "plot!(X, P, label=\"Numerical estimate of particle density\")\n",
    "xlabel!(\"x\")\n",
    "ylabel!(\"Particle density, c(x,t)\")\n",
    "title!(\"Linear search diffusion\")\n"
   ]
  },
  {
   "cell_type": "markdown",
   "metadata": {},
   "source": [
    "**2)** Try again using your Fenwick tree from Q2 to solve the interval membership problem and compare. What is the largest value of $N$ you can simulate now?"
   ]
  },
  {
   "cell_type": "code",
   "execution_count": 183,
   "metadata": {},
   "outputs": [
    {
     "ename": "LoadError",
     "evalue": "\u001b[91mBoundsError: attempt to access 201-element Array{Float64,1} at index [207]\u001b[39m",
     "output_type": "error",
     "traceback": [
      "\u001b[91mBoundsError: attempt to access 201-element Array{Float64,1} at index [207]\u001b[39m",
      "",
      "Stacktrace:",
      " [1] \u001b[1mgetindex\u001b[22m\u001b[22m\u001b[1m(\u001b[22m\u001b[22m::Array{Float64,1}, ::Int64\u001b[1m)\u001b[22m\u001b[22m at \u001b[1m./array.jl:554\u001b[22m\u001b[22m",
      " [2] \u001b[1mmacro expansion\u001b[22m\u001b[22m at \u001b[1m./In[183]:37\u001b[22m\u001b[22m [inlined]",
      " [3] \u001b[1manonymous\u001b[22m\u001b[22m at \u001b[1m./<missing>:?\u001b[22m\u001b[22m",
      " [4] \u001b[1minclude_string\u001b[22m\u001b[22m\u001b[1m(\u001b[22m\u001b[22m::String, ::String\u001b[1m)\u001b[22m\u001b[22m at \u001b[1m./loading.jl:522\u001b[22m\u001b[22m"
     ]
    }
   ],
   "source": [
    "L=10.0\n",
    "N=100\n",
    "Nx = 201\n",
    "dx = 2.0*L/(Nx-1)\n",
    "X = dx.*(-(Nx-1)/2:(Nx-1)/2)\n",
    "Y1 =zeros(Int64,N)\n",
    "D = 1.0\n",
    "t=0.0\n",
    "\n",
    "dt = 1.0/totalRate\n",
    "T=1.0\n",
    "\n",
    "\n",
    "Tr = Nullable{FTree}(FTree(KVPair(0,0.0)))\n",
    "Tr = buildFTree(Tr, values)\n",
    "\n",
    "\n",
    "# This is the main loop\n",
    "while t < T\n",
    "    findRate = rand()*totalRate\n",
    "    k = int_mem_tree(Tr,findRate).key\n",
    "    if k<=N\n",
    "        hop = 1\n",
    "        particleId = k\n",
    "    else\n",
    "        hop = -1\n",
    "        particleId=k-N\n",
    "    end\n",
    "    Y1[particleId]+=hop\n",
    "    t+=dt\n",
    "end\n",
    "\n",
    "\n",
    "# Calculate the estimated density of particles\n",
    "P2 =zeros(201)\n",
    "for i in 1:length(Y)\n",
    "    P2[Y1[i]+Int64((Nx-1)/2)+1]+=1/(N * dx)\n",
    "end\n",
    "\n",
    "\n",
    "# Calculate the theoretical density and compare\n",
    "function normal(x, D, t)\n",
    "    return (1.0/sqrt(2.0*pi*D*t))*exp(-x*x/(2*D*t))\n",
    "end\n",
    "\n",
    "P1 = normal.(X, D, T)\n",
    "plot(X, P1, label=\"Analytic solution of diffusion equation\")\n",
    "plot!(X, P2, label=\"Numerical estimate of particle density\")\n",
    "xlabel!(\"x\")\n",
    "ylabel!(\"Particle density, c(x,t)\")\n",
    "title!(\"Stochastic simulation of simple diffusion in 1-D\")"
   ]
  },
  {
   "cell_type": "code",
   "execution_count": 184,
   "metadata": {},
   "outputs": [
    {
     "data": {
      "text/plain": [
       "11"
      ]
     },
     "execution_count": 184,
     "metadata": {},
     "output_type": "execute_result"
    }
   ],
   "source": [
    "N=100\n",
    "seed=1234\n",
    "D_exp1 = randexp(N)\n",
    "D_exp1 = [D_exp1;D_exp1] #to make it symmetrical\n",
    "rate_exp = (D_exp1./2.0)./(dx*dx)\n",
    "totalRate = sum(rate_exp) \n",
    "\n",
    "dt = 1.0/totalRate\n",
    "T=1.0\n",
    "\n",
    "\n",
    "x = zeros(2*N)\n",
    "values_ = Array{KVPair}(2*N)\n",
    "for i=1:2*N\n",
    "    for j=1:i\n",
    "        x[i]=x[i]+rate_exp[j]\n",
    "    end\n",
    "    values_[i]=KVPair(i,x[i])\n",
    "end\n",
    "\n",
    "findRate1 = rand()*totalRate\n",
    "\n",
    "\n",
    "Tr = Nullable{FTree}(FTree(KVPair(0,0.0)))\n",
    "Tr = buildFTree(Tr, values_)\n",
    "\n",
    "\n",
    "#node = int_mem_tree(Tr,findRate1)\n",
    "k = int_mem_tree(Tr,findRate1).key"
   ]
  },
  {
   "cell_type": "code",
   "execution_count": 185,
   "metadata": {},
   "outputs": [
    {
     "name": "stdout",
     "output_type": "stream",
     "text": [
      "6847.592808317036\n"
     ]
    },
    {
     "data": {
      "text/plain": [
       "KVPair(20, 847.9228862123808)"
      ]
     },
     "execution_count": 185,
     "metadata": {},
     "output_type": "execute_result"
    }
   ],
   "source": [
    "findRate1 = rand()*totalRate\n",
    "Tr = Nullable{FTree}(FTree(KVPair(0,0.0)))\n",
    "Tr = buildFTree(Tr, values)\n",
    "println(findRate1)\n",
    "k = int_mem_tree(Tr,findRate1)"
   ]
  },
  {
   "cell_type": "code",
   "execution_count": null,
   "metadata": {
    "collapsed": true
   },
   "outputs": [],
   "source": []
  },
  {
   "cell_type": "code",
   "execution_count": 40,
   "metadata": {},
   "outputs": [
    {
     "ename": "LoadError",
     "evalue": "\u001b[91mBoundsError: attempt to access 201-element Array{Float64,1} at index [244]\u001b[39m",
     "output_type": "error",
     "traceback": [
      "\u001b[91mBoundsError: attempt to access 201-element Array{Float64,1} at index [244]\u001b[39m",
      "",
      "Stacktrace:",
      " [1] \u001b[1mgetindex\u001b[22m\u001b[22m\u001b[1m(\u001b[22m\u001b[22m::Array{Float64,1}, ::Int64\u001b[1m)\u001b[22m\u001b[22m at \u001b[1m./array.jl:554\u001b[22m\u001b[22m",
      " [2] \u001b[1mmacro expansion\u001b[22m\u001b[22m at \u001b[1m./In[40]:53\u001b[22m\u001b[22m [inlined]",
      " [3] \u001b[1manonymous\u001b[22m\u001b[22m at \u001b[1m./<missing>:?\u001b[22m\u001b[22m",
      " [4] \u001b[1minclude_string\u001b[22m\u001b[22m\u001b[1m(\u001b[22m\u001b[22m::String, ::String\u001b[1m)\u001b[22m\u001b[22m at \u001b[1m./loading.jl:522\u001b[22m\u001b[22m"
     ]
    }
   ],
   "source": [
    "No=100\n",
    "Nxo = 201\n",
    "dxo = 2.0*L/(Nxo-1)\n",
    "Xo = dx.*(-(Nxo-1)/2:(Nxo-1)/2)\n",
    "Yo =zeros(Int64,No)\n",
    "Do = 1.0\n",
    "to=0.0\n",
    "\n",
    "########################\n",
    "seed=1234\n",
    "D_expo = randexp(No)\n",
    "D_expo = [D_expo;D_expo] #to make it symmetrical\n",
    "rate_expo = (D_expo./2.0)./(dxo*dxo)\n",
    "totalRateo = sum(rate_expo) \n",
    "########################\n",
    "\n",
    "dto = 1.0/totalRateo\n",
    "To=1.0\n",
    "\n",
    "########################\n",
    "xo = zeros(2*No)\n",
    "values_o = Array{KVPair}(2*No)\n",
    "for i=1:2*No\n",
    "    for j=1:i\n",
    "        xo[i]=xo[i]+rate_expo[j]\n",
    "    end\n",
    "    values_o[i]=KVPair(i,xo[i])\n",
    "end\n",
    "#########################\n",
    "\n",
    "Tr = Nullable{FTree}(FTree(KVPair(0,0.0)))\n",
    "Tr = buildFTree(Tr, values)\n",
    "\n",
    "\n",
    "# This is the main loop\n",
    "while to < To\n",
    "    findRateo = rand()*totalRateo\n",
    "    ko = int_mem_tree(Tr,findRateo).key\n",
    "    if ko<=No\n",
    "        hopo = 1\n",
    "        particleIdo = ko\n",
    "    else\n",
    "        hopo = -1\n",
    "        particleIdo=ko-No\n",
    "    end\n",
    "    Yo[particleIdo]+=hopo\n",
    "    to+=dto\n",
    "end\n",
    "\n",
    "\n",
    "Po =zeros(length(Xo))\n",
    "for i in 1:100\n",
    "    Po[Yo[i]+Int64((Nxo-1)/2)+1]+=1/(No * dxo)\n",
    "end"
   ]
  },
  {
   "cell_type": "markdown",
   "metadata": {},
   "source": [
    "**3)** Show analytically that the solution of the heterogenous diffusion problem is\n",
    "\n",
    "$$ c(x,t) = \\frac{\\exp \\left(-\\sqrt{\\frac{2}{D\\,t}}\\, |x| \\right)}{\\sqrt{2\\, D\\, t}}$$\n",
    "\n",
    "You will probably need the integral formula (Formula 3.325 of Gradshteyn and Rizhik, 7th Ed.)\n",
    "\n",
    "$$ \\int_0^\\infty \\exp\\left(-a\\,x^2 - \\frac{b}{x^2} \\right)\\, dx =  \\frac{1}{2}\\,\\sqrt{\\frac{\\pi}{a}}\\,\\exp\\left(-2 \\sqrt{a\\,b} \\right).$$\n",
    "Use this formula to validate your numerical results.\n"
   ]
  },
  {
   "cell_type": "markdown",
   "metadata": {},
   "source": [
    "$$c(x,t)=\\frac{1}{\\sqrt{2\\pi Dt}}\\exp(-{\\frac{x^2}{2Dt}}) $$\n",
    "\n",
    "$$<c(x,t)>  = \\int_0^\\infty dy \\frac{1}{D}\\exp(\\frac{-y}{D})\\frac{1}{\\sqrt{2\\pi yt}}\\exp(\\frac{-x^2}{2yt}) = \\frac{1}{D\\sqrt{2\\pi t}} \\int_0^\\infty dy \\frac{1}{y^{1/2}} \\exp(\\frac{-y}{D}) \\exp(\\frac{-x^2}{2yt}) = \n",
    "\\frac{1}{D\\sqrt{2\\pi t}} \\int_0^\\infty dy \\frac{1}{y^{1/2}} \\exp(-\\frac{y}{D}-\\frac{x^2}{2yt}) $$\n",
    "\n",
    "\n",
    "By using the substitution $u=y^{1/2}$ and $du = \\frac{1}{2y^{1/2}}dy $\n",
    "\n",
    "\n",
    "$$ <c(x,t)> = \\frac{2}{D\\sqrt{2\\pi t}} \\int_0^\\infty \\exp(-\\frac{u^2}{D} - \\frac{x^2}{2t}\\frac{1}{u^2}) du = \\frac{2}{D \\sqrt{2\\pi t}}\\frac{\\sqrt{\\pi D}}{2} \\exp(-2\\sqrt{\\frac{x^2}{2Dt}}) = \\frac{1}{\\sqrt{2Dt}} \\exp(-\\sqrt{\\frac{2}{Dt}} |x|) $$\n",
    "\n",
    "$$ <c(x,t)> = \\frac{1}{\\sqrt{2Dt}} \\exp(-\\sqrt{\\frac{2}{Dt}} |x|) $$"
   ]
  },
  {
   "cell_type": "markdown",
   "metadata": {},
   "source": []
  },
  {
   "cell_type": "code",
   "execution_count": null,
   "metadata": {
    "collapsed": true
   },
   "outputs": [],
   "source": []
  }
 ],
 "metadata": {
  "kernelspec": {
   "display_name": "Julia 0.6.1",
   "language": "julia",
   "name": "julia-0.6"
  },
  "language_info": {
   "file_extension": ".jl",
   "mimetype": "application/julia",
   "name": "julia",
   "version": "0.6.1"
  }
 },
 "nbformat": 4,
 "nbformat_minor": 1
}
