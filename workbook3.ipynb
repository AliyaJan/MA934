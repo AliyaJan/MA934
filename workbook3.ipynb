{
 "cells": [
  {
   "cell_type": "markdown",
   "metadata": {},
   "source": [
    "# MA934 Numerical Methods - Workbook 3\n",
    "\n",
    "If you haven't already done so, install the DualNumbers Julia package. It is a good idea to update all your packages first. The commands are\n",
    "\n",
    ">Pkg.update()\n",
    "\n",
    ">Pkg.add(\"DualNumbers\")\n",
    "\n",
    "but you only need to run them once. "
   ]
  },
  {
   "cell_type": "code",
   "execution_count": null,
   "metadata": {
    "collapsed": true
   },
   "outputs": [],
   "source": [
    "#Pkg.update()\n",
    "#Pkg.add(\"DualNumbers\")\n",
    "using Plots\n",
    "using DualNumbers"
   ]
  },
  {
   "cell_type": "markdown",
   "metadata": {},
   "source": [
    "## Question 1: Numerical differentiation\n",
    "\n",
    "**1))** Derive a finite difference formula for the derivative of a function, $f$ at a point $x$ using the 3-point stencil $(x, x+h, x+2h)$ and state the order of the approximation error in terms of $h$.\n",
    "\n",
    "**2)** Write a formula for the derivative, $f^\\prime(x)$, of the function\n",
    "\n",
    "$$f(x) = \\sin(\\exp(x)) $$\n",
    "\n",
    "and evaluate it at $x=1$.\n",
    "\n",
    "**3)** Use your finite difference formula to approximate the value of $f^\\prime(1)$ for values of $h$ decreasing from $2^{-1}$ to $2^{-30}$ in powers of $2$. Plot the error as a function of $h$ and verify the theoretically predicted scaling of the error with $h$. What is the best relative error you can achieve?\n",
    "\n",
    "**4)** Read the examples at https://github.com/JuliaDiff/DualNumbers.jl. Define a dual number $x = 1+\\epsilon$ and use it to evaluate $f^\\prime(1)$. Verify that the answer is accurate to within machine precision."
   ]
  },
  {
   "cell_type": "code",
   "execution_count": 13,
   "metadata": {},
   "outputs": [
    {
     "data": {
      "text/plain": [
       "func (generic function with 1 method)"
      ]
     },
     "execution_count": 13,
     "metadata": {},
     "output_type": "execute_result"
    }
   ],
   "source": [
    "function func(x)\n",
    "    return sin(exp(x))\n",
    "end"
   ]
  },
  {
   "cell_type": "markdown",
   "metadata": {},
   "source": [
    "## Question 2: Finding roots\n",
    "\n",
    "**1)** Referring to the function, $f(x)$, defined above, find the roots of the equation\n",
    "\n",
    "$$ f(x) = 0$$\n",
    "\n",
    "in the interval $0<x<2$.\n",
    "\n",
    "**2)** Implement the bracketing and bisection method to find one of the roots numerically. Measure the error at each iteration of the algorithm and demonstrate that the error decreases exponentially as a function of the number of iterations. To how many digits of precision can you approximate the root?\n",
    "\n",
    "**3)** Perform the same measurements for the Newton Raphson method and show that the error decreases faster than exponentially as a function of the number of iterations."
   ]
  },
  {
   "cell_type": "code",
   "execution_count": null,
   "metadata": {
    "collapsed": true
   },
   "outputs": [],
   "source": []
  },
  {
   "cell_type": "markdown",
   "metadata": {},
   "source": [
    "## Question 3: Finding minima\n",
    "\n",
    "**1)** The function $f(x)$ above has a single minimum in the interval $0<x<2$. Find its location analytically.\n",
    "\n",
    "**2)** Implement the Golden section search to find the location of this minimum numerically. Plot the error as a function of the number of iterations. To how many digits of precision can you approximate the location of the minimum?\n",
    "\n",
    "**3)** To understand your empirical findings, use Taylor's Theorem to show that near a minimum, $x_*$, of f(x),\n",
    "\n",
    "$$f(x) \\approx f(x_*)\\left( 1+ \\frac{f^{\\prime\\prime}(x_*)}{2\\,f(x_*)}\\,(x-x_*)^2\\right). $$\n",
    "Show that in order for a computer to distinguish between $f(x)$ and $f(x_*)$ we must have\n",
    "\n",
    "$$ \\left| x-x_*\\right| > \\sqrt{\\epsilon_m}\\,\\sqrt{\\left|\\frac{2\\,f(x_*)}{f^{\\prime\\prime}(x_*)}\\right|}$$\n",
    "\n",
    "thus limiting the precision with which the location of a minimum can be determined."
   ]
  },
  {
   "cell_type": "code",
   "execution_count": 40,
   "metadata": {},
   "outputs": [
    {
     "data": {
      "text/plain": [
       "GoldenSec (generic function with 1 method)"
      ]
     },
     "execution_count": 40,
     "metadata": {},
     "output_type": "execute_result"
    }
   ],
   "source": [
    "function GoldenSec(xl, xu, ea)\n",
    "    gold = (sqrt(5.0)-1.0)/2.0\n",
    "    it = 0\n",
    "    d = (xu - xl)*gold\n",
    "    x1 = xl + d\n",
    "    x2 = xu - d\n",
    "    f1 = func(x1)\n",
    "    f2 = func(x2)\n",
    "    er = 2.0\n",
    "  #  while er > ea\n",
    "    while (xu - xl) > ea\n",
    "        d = gold*d\n",
    "        if f1 > f2\n",
    "            x1 = x2\n",
    "            x2 = x2\n",
    "            x1 = xl + d\n",
    "            f2 = f1\n",
    "            f1 = func(x1)\n",
    "            x_opt = x1\n",
    "            fx = f1\n",
    "        else\n",
    "            xu = x1\n",
    "            xl = x2\n",
    "            x2 = xu - d\n",
    "            f1 = f2\n",
    "            f2 = func(x2)\n",
    "            x_opt = x2\n",
    "            fx = f2\n",
    "        if x_opt != 0\n",
    "            er = (1 - gold)*abs((xu - xl)/x_opt)\n",
    "         #  er = (xu - xl)\n",
    "        end\n",
    "        end\n",
    "        it += 1\n",
    "        Gold = x_opt\n",
    "        println(\"Iteration #\",it)\n",
    "        println(\"x min: \",Gold)\n",
    "        println(\"Error: \",er)\n",
    "    end\n",
    "end"
   ]
  },
  {
   "cell_type": "code",
   "execution_count": 41,
   "metadata": {},
   "outputs": [
    {
     "name": "stdout",
     "output_type": "stream",
     "text": [
      "Iteration #1\n",
      "x min: -5.278640450004207\n",
      "Error: 0.3416407864998739\n",
      "Iteration #2\n",
      "x min: 2.360679774997897\n",
      "Error: 0.3416407864998739\n",
      "Iteration #3\n",
      "x min: -0.5572809000084131\n",
      "Error: 5.23606797749978\n",
      "Iteration #4\n",
      "x min: 0.5572809000084114\n",
      "Error: 2.0000000000000036\n",
      "Iteration #5\n",
      "x min: 1.2461179749810722\n",
      "Error: 0.5527864045000425\n",
      "Iteration #6\n",
      "x min: 1.2461179749810722\n",
      "Error: 0.5527864045000425\n",
      "Iteration #7\n",
      "x min: 0.8203932499369082\n",
      "Error: 0.0\n"
     ]
    }
   ],
   "source": [
    "GoldenSec(-10, 10 ,0.00000001)"
   ]
  },
  {
   "cell_type": "code",
   "execution_count": 92,
   "metadata": {},
   "outputs": [
    {
     "data": {
      "text/plain": [
       "GoldenSec (generic function with 2 methods)"
      ]
     },
     "execution_count": 92,
     "metadata": {},
     "output_type": "execute_result"
    }
   ],
   "source": [
    "function GoldenSec(xl, xu, b, e_tol)\n",
    "    gold = (sqrt(5.0)-1.0)/2.0\n",
    "    it = 0\n",
    "    while xu - xl > e_tol\n",
    "        if abs(xu - b) > abs(b - xl)\n",
    "            x = b + (1 - gold)*(xu - b)\n",
    "            #x = xu - gold*(xu - b)\n",
    "            if func(b) < func(x)\n",
    "                xl = xl\n",
    "                b = b\n",
    "                xu = x\n",
    "            else\n",
    "                xl = b\n",
    "                b = x\n",
    "                c = c\n",
    "            end\n",
    "        else\n",
    "            x = b - (1 - gold)*(b - xl) \n",
    "            #x =  xl + gold*(b - xl)\n",
    "            if func(b) < func(x)\n",
    "                xl = x\n",
    "                b = b\n",
    "                c = c\n",
    "            else\n",
    "                xl = xl\n",
    "                b = x\n",
    "                xu = b\n",
    "            end\n",
    "        end\n",
    "        return x\n",
    "        it += 1\n",
    "        return it\n",
    "        println(it)\n",
    "    end\n",
    "end\n",
    "        \n",
    "   "
   ]
  },
  {
   "cell_type": "code",
   "execution_count": 93,
   "metadata": {},
   "outputs": [
    {
     "data": {
      "text/plain": [
       "1.1246117974981082"
      ]
     },
     "execution_count": 93,
     "metadata": {},
     "output_type": "execute_result"
    }
   ],
   "source": [
    "GoldenSec(-10.0, 10.0, 8.0, 0.00000001)"
   ]
  },
  {
   "cell_type": "code",
   "execution_count": null,
   "metadata": {
    "collapsed": true
   },
   "outputs": [],
   "source": []
  }
 ],
 "metadata": {
  "kernelspec": {
   "display_name": "Julia 0.6.1",
   "language": "julia",
   "name": "julia-0.6"
  },
  "language_info": {
   "file_extension": ".jl",
   "mimetype": "application/julia",
   "name": "julia",
   "version": "0.6.1"
  }
 },
 "nbformat": 4,
 "nbformat_minor": 1
}
