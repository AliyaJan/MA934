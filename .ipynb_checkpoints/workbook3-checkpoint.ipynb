{
 "cells": [
  {
   "cell_type": "markdown",
   "metadata": {},
   "source": [
    "# MA934 Numerical Methods - Workbook 3\n",
    "\n",
    "If you haven't already done so, install the DualNumbers Julia package. It is a good idea to update all your packages first. The commands are\n",
    "\n",
    ">Pkg.update()\n",
    "\n",
    ">Pkg.add(\"DualNumbers\")\n",
    "\n",
    "but you only need to run them once. "
   ]
  },
  {
   "cell_type": "code",
   "execution_count": 94,
   "metadata": {},
   "outputs": [
    {
     "name": "stderr",
     "output_type": "stream",
     "text": [
      "\u001b[1m\u001b[36mINFO: \u001b[39m\u001b[22m\u001b[36mUpdating METADATA...\n",
      "\u001b[39m\u001b[1m\u001b[36mINFO: \u001b[39m\u001b[22m\u001b[36mUpdating cache of StatsBase...\n",
      "\u001b[39m\u001b[1m\u001b[36mINFO: \u001b[39m\u001b[22m\u001b[36mUpdating cache of DataFrames...\n",
      "\u001b[39m\u001b[1m\u001b[36mINFO: \u001b[39m\u001b[22m\u001b[36mUpdating cache of DataArrays...\n",
      "\u001b[39m\u001b[1m\u001b[36mINFO: \u001b[39m\u001b[22m\u001b[36mUpdating cache of Juno...\n",
      "\u001b[39m\u001b[1m\u001b[36mINFO: \u001b[39m\u001b[22m\u001b[36mUpdating cache of Compat...\n",
      "\u001b[39m\u001b[1m\u001b[36mINFO: \u001b[39m\u001b[22m\u001b[36mUpdating cache of JSON...\n",
      "\u001b[39m\u001b[1m\u001b[36mINFO: \u001b[39m\u001b[22m\u001b[36mUpdating cache of Homebrew...\n",
      "\u001b[39m\u001b[1m\u001b[36mINFO: \u001b[39m\u001b[22m\u001b[36mUpdating cache of StaticArrays...\n",
      "\u001b[39m\u001b[1m\u001b[36mINFO: \u001b[39m\u001b[22m\u001b[36mUpdating cache of SortingAlgorithms...\n",
      "\u001b[39m\u001b[1m\u001b[36mINFO: \u001b[39m\u001b[22m\u001b[36mComputing changes...\n",
      "\u001b[39m\u001b[1m\u001b[36mINFO: \u001b[39m\u001b[22m\u001b[36mUpgrading Compat: v0.35.0 => v0.37.0\n",
      "\u001b[39m\u001b[1m\u001b[36mINFO: \u001b[39m\u001b[22m\u001b[36mUpgrading Homebrew: v0.6.0 => v0.6.1\n",
      "\u001b[39m\u001b[1m\u001b[36mINFO: \u001b[39m\u001b[22m\u001b[36mUpgrading JSON: v0.15.2 => v0.16.0\n",
      "\u001b[39m\u001b[1m\u001b[36mINFO: \u001b[39m\u001b[22m\u001b[36mUpgrading Juno: v0.3.1 => v0.3.2\n",
      "\u001b[39m\u001b[1m\u001b[36mINFO: \u001b[39m\u001b[22m\u001b[36mUpgrading SortingAlgorithms: v0.1.1 => v0.2.0\n",
      "\u001b[39m\u001b[1m\u001b[36mINFO: \u001b[39m\u001b[22m\u001b[36mUpgrading StaticArrays: v0.6.4 => v0.6.6\n",
      "\u001b[39m\u001b[1m\u001b[36mINFO: \u001b[39m\u001b[22m\u001b[36mUpgrading StatsBase: v0.19.0 => v0.19.1\n",
      "\u001b[39m\u001b[1m\u001b[33mWARNING: \u001b[39m\u001b[22m\u001b[33mThe following packages have been updated but were already imported:\n",
      "- Compat\n",
      "- JSON\n",
      "Restart Julia to use the updated versions.\u001b[39m\n",
      "\u001b[1m\u001b[36mINFO: \u001b[39m\u001b[22m\u001b[36mBuilding Homebrew\n",
      "\u001b[39m\u001b[1m\u001b[36mINFO: \u001b[39m\u001b[22m\u001b[36mBuilding SpecialFunctions\n",
      "\u001b[39m\u001b[1m\u001b[36mINFO: \u001b[39m\u001b[22m\u001b[36mCloning cache of DualNumbers from https://github.com/JuliaDiff/DualNumbers.jl.git\n",
      "\u001b[39m"
     ]
    },
    {
     "name": "stdout",
     "output_type": "stream",
     "text": [
      "Updated 1 tap (homebrew/core).\n",
      "==> New Formulae\n",
      "avimetaedit\n",
      "bedtools\n",
      "cling\n",
      "docker-ls\n",
      "dps8m\n",
      "e2tools\n",
      "elasticsearch@5.6\n",
      "envconsul\n",
      "heartbeat\n",
      "kaitai-struct-compiler\n",
      "kibana@5.6\n",
      "libxo\n",
      "logstash@5.6\n",
      "ocaml-findlib\n",
      "restic\n",
      "sceptre\n",
      "simg2img\n",
      "==> Updated Formulae\n",
      "abcm2ps\n",
      "abcmidi\n",
      "adplug\n",
      "amazon-ecs-cli\n",
      "angband\n",
      "angular-cli\n",
      "ansible-cmdb\n",
      "antigen\n",
      "apibuilder-cli\n",
      "app-engine-go-64\n",
      "arangodb\n",
      "archivemount\n",
      "armadillo\n",
      "artifactory\n",
      "asciidoc\n",
      "aspectj\n",
      "aurora-cli\n",
      "awscli\n",
      "azure-cli\n",
      "b2-tools\n",
      "babl\n",
      "bacula-fd\n",
      "bash-snippets\n",
      "bazel\n",
      "bchunk\n",
      "binaryen\n",
      "bit\n",
      "bitcoin\n",
      "bitrise\n",
      "bmake\n",
      "buku\n",
      "bwfmetaedit\n",
      "bzt\n",
      "calcurse\n",
      "casperjs\n",
      "ccm\n",
      "ceres-solver\n",
      "chakra\n",
      "citus\n",
      "clhep\n",
      "closure-compiler\n",
      "cmake\n",
      "cnats\n",
      "cockatrice\n",
      "cocot\n",
      "collectd\n",
      "commandbox\n",
      "conan\n",
      "conjure-up\n",
      "consul\n",
      "convmv\n",
      "convox\n",
      "corebird\n",
      "couchdb\n",
      "cppad\n",
      "crystal-icr\n",
      "dbus\n",
      "debianutils\n",
      "dependency-check\n",
      "docfx\n",
      "docker\n",
      "docker-completion\n",
      "dssim\n",
      "duck\n",
      "efl\n",
      "ejabberd\n",
      "elasticsearch\n",
      "erlang\n",
      "etcd\n",
      "etsh\n",
      "exploitdb\n",
      "eye-d3\n",
      "faac\n",
      "faas-cli\n",
      "fantom\n",
      "fd\n",
      "ffmpeg@2.8\n",
      "fibjs\n",
      "filebeat\n",
      "firebase-cli\n",
      "fish\n",
      "flatbuffers\n",
      "flawfinder\n",
      "flow\n",
      "fluent-bit\n",
      "fn\n",
      "folly\n",
      "fonttools\n",
      "freetds\n",
      "frugal\n",
      "fwup\n",
      "gauge\n",
      "gdcm\n",
      "gdnsd\n",
      "gegl\n",
      "geoserver\n",
      "getdns\n",
      "geth\n",
      "git-annex\n",
      "git-cinnabar\n",
      "git-cola\n",
      "git-review\n",
      "gitlab-runner\n",
      "gjstest\n",
      "glide\n",
      "gmime\n",
      "gmt\n",
      "gmt@4\n",
      "gnupg\n",
      "gnuplot\n",
      "gofabric8\n",
      "goffice\n",
      "gopass\n",
      "gradle-completion\n",
      "grafana\n",
      "grakn\n",
      "graphicsmagick\n",
      "gromacs\n",
      "groovysdk\n",
      "grpc\n",
      "gsmartcontrol\n",
      "gx\n",
      "gx-go\n",
      "hana\n",
      "harfbuzz\n",
      "hercules\n",
      "heroku\n",
      "hivemind\n",
      "html-xml-utils\n",
      "htmlcleaner\n",
      "httest\n",
      "hugo\n",
      "i2p\n",
      "ibex\n",
      "imagemagick\n",
      "imagemagick@6\n",
      "imapfilter\n",
      "influxdb\n",
      "inspircd\n",
      "ipfs\n",
      "iron-functions\n",
      "iso-codes\n",
      "ispc\n",
      "itstool\n",
      "jabba\n",
      "jenkins\n",
      "jenkins-lts\n",
      "jfrog-cli-go\n",
      "jhipster\n",
      "jmxtrans\n",
      "jruby\n",
      "kerl\n",
      "keychain\n",
      "kibana\n",
      "knot\n",
      "kobalt\n",
      "kompose\n",
      "kontena\n",
      "kotlin\n",
      "kubectx\n",
      "kubernetes-cli\n",
      "kubernetes-helm\n",
      "kvazaar\n",
      "lapack\n",
      "lgogdownloader\n",
      "libassuan\n",
      "libatomic_ops\n",
      "libcddb\n",
      "libcdio\n",
      "libcello\n",
      "libconfig\n",
      "libcouchbase\n",
      "libebur128\n",
      "libetonyek\n",
      "libfaketime\n",
      "libfreehand\n",
      "libfreenect\n",
      "libgsf\n",
      "libhttpseverywhere\n",
      "libical\n",
      "libmaxminddb\n",
      "libogg\n",
      "libopusenc\n",
      "libphonenumber\n",
      "libpq\n",
      "libpqxx\n",
      "libre\n",
      "libsass\n",
      "libtrace\n",
      "libuv\n",
      "libwps\n",
      "lighttpd\n",
      "link-grammar\n",
      "linkerd\n",
      "little-cms2\n",
      "lldpd\n",
      "logstash\n",
      "lxc\n",
      "mame\n",
      "mapnik\n",
      "mapserver\n",
      "mariadb@10.1\n",
      "mat\n",
      "mdds\n",
      "mediaconch\n",
      "mercurial\n",
      "metricbeat\n",
      "mgba\n",
      "mighttpd2\n",
      "mikutter\n",
      "mingw-w64\n",
      "minio\n",
      "miniupnpc\n",
      "mkclean\n",
      "mkdocs\n",
      "mkvtoolnix\n",
      "mockserver\n",
      "modd\n",
      "modules\n",
      "mongo-c-driver\n",
      "monit\n",
      "mono-libgdiplus\n",
      "mosh\n",
      "multimarkdown\n",
      "mupdf\n",
      "mupdf-tools\n",
      "mypy\n",
      "mysql-sandbox\n",
      "nano\n",
      "nanopb-generator\n",
      "nativefier\n",
      "nco\n",
      "ncview\n",
      "neovim\n",
      "netcdf\n",
      "nettle\n",
      "nickle\n",
      "nmh\n",
      "node-build\n",
      "nss\n",
      "ntl\n",
      "nuget\n",
      "nuttcp\n",
      "ocamlbuild\n",
      "octave\n",
      "omniorb\n",
      "ompl\n",
      "open-scene-graph\n",
      "opencbm\n",
      "opencoarrays\n",
      "openfortivpn\n",
      "opensaml\n",
      "opusfile\n",
      "orc\n",
      "ortp\n",
      "osquery\n",
      "overmind\n",
      "packer\n",
      "packetq\n",
      "paket\n",
      "pandoc\n",
      "pandoc-citeproc\n",
      "pandoc-crossref\n",
      "pango\n",
      "paperkey\n",
      "parallel\n",
      "passenger\n",
      "pazpar2\n",
      "pcb\n",
      "pcl\n",
      "pegtl\n",
      "percona-toolkit\n",
      "pgpool-ii\n",
      "pgroonga\n",
      "pgrouting\n",
      "physfs\n",
      "pike\n",
      "pilosa\n",
      "pioneers\n",
      "pipenv\n",
      "planck\n",
      "plantuml\n",
      "plzip\n",
      "pngquant\n",
      "poco\n",
      "poppler\n",
      "postgis\n",
      "postgresql\n",
      "postgresql@9.4\n",
      "postgresql@9.5\n",
      "postgresql@9.6\n",
      "pqiv\n",
      "pre-commit\n",
      "presto\n",
      "primesieve\n",
      "proguard\n",
      "prometheus\n",
      "protobuf\n",
      "protobuf-c\n",
      "protobuf-swift\n",
      "psftools\n",
      "pumba\n",
      "pure-ftpd\n",
      "purescript\n",
      "pyqt\n",
      "python-markdown\n",
      "pyvim\n",
      "q\n",
      "qd\n",
      "qscintilla2\n",
      "qt\n",
      "qtfaststart\n",
      "rakudo-star\n",
      "rancher-cli\n",
      "rancid\n",
      "ratfor\n",
      "rdfind\n",
      "rebar@3\n",
      "redpen\n",
      "regex-opt\n",
      "remake\n",
      "reminiscence\n",
      "resty\n",
      "ringojs\n",
      "rocksdb\n",
      "rom-tools\n",
      "roswell\n",
      "rust\n",
      "sagittarius-scheme\n",
      "sassc\n",
      "scalaenv\n",
      "scalariform\n",
      "scalastyle\n",
      "scm-manager\n",
      "scons\n",
      "sfk\n",
      "shadowsocks-libev\n",
      "shairport-sync\n",
      "shibboleth-sp\n",
      "shpotify\n",
      "silk\n",
      "simple-obfs\n",
      "singular\n",
      "sip\n",
      "sjk\n",
      "skinny\n",
      "snakemake\n",
      "solr\n",
      "sonarqube\n",
      "source-to-image\n",
      "sourcekitten\n",
      "src\n",
      "sslmate\n",
      "stoken\n",
      "stormlib\n",
      "streamlink\n",
      "strongswan\n",
      "suil\n",
      "suite-sparse\n",
      "sundials\n",
      "supersonic\n",
      "swfmill\n",
      "swi-prolog\n",
      "swift-protobuf\n",
      "swiftformat\n",
      "swiftlint\n",
      "taisei\n",
      "task-spooler\n",
      "tectonic\n",
      "temporal_tables\n",
      "tenyr\n",
      "terraform\n",
      "terraform_landscape\n",
      "terragrunt\n",
      "texapp\n",
      "thefuck\n",
      "tinc\n",
      "tintin\n",
      "tippecanoe\n",
      "traefik\n",
      "u-boot-tools\n",
      "uftp\n",
      "uncrustify\n",
      "upscaledb\n",
      "urh\n",
      "userspace-rcu\n",
      "vapoursynth\n",
      "varnish\n",
      "varnish@4\n",
      "vault\n",
      "vcdimager\n",
      "vim\n",
      "vpcs\n",
      "vtk\n",
      "when\n",
      "wireguard-tools\n",
      "wpcli-completion\n",
      "wtf\n",
      "xonsh\n",
      "xtensor\n",
      "xxhash\n",
      "yaf\n",
      "yara\n",
      "yaze-ag\n",
      "yle-dl\n",
      "you-get\n",
      "youtube-dl\n",
      "z80dasm\n",
      "zabbix\n",
      "zanata-client\n",
      "zbackup\n",
      "zenity\n",
      "zimg\n",
      "==> Renamed Formulae\n",
      "findbugs -> spotbugs\n",
      "newsbeuter -> newsboat\n"
     ]
    },
    {
     "name": "stderr",
     "output_type": "stream",
     "text": [
      "\u001b[1m\u001b[36mINFO: \u001b[39m\u001b[22m\u001b[36mInstalling DualNumbers v0.3.0\n",
      "\u001b[39m\u001b[1m\u001b[36mINFO: \u001b[39m\u001b[22m\u001b[36mPackage database updated\n",
      "\u001b[39m"
     ]
    }
   ],
   "source": [
    "Pkg.update()\n",
    "Pkg.add(\"DualNumbers\")"
   ]
  },
  {
   "cell_type": "code",
   "execution_count": 56,
   "metadata": {},
   "outputs": [
    {
     "name": "stderr",
     "output_type": "stream",
     "text": [
      "\u001b[1m\u001b[36mINFO: \u001b[39m\u001b[22m\u001b[36mRecompiling stale cache file /Users/aliyajangabylova/.julia/lib/v0.6/StaticArrays.ji for module StaticArrays.\n",
      "\u001b[39m\u001b[1m\u001b[33mWARNING: \u001b[39m\u001b[22m\u001b[33mModule Compat with uuid 36472898946137 is missing from the cache.\n",
      "This may mean module Compat does not support precompilation but is imported by a module that does.\u001b[39m\n",
      "\u001b[1m\u001b[91mERROR: \u001b[39m\u001b[22mLoadError: \u001b[91mDeclaring __precompile__(false) is not allowed in files that are being precompiled.\u001b[39m\n",
      "Stacktrace:\n",
      " [1] \u001b[1m_require\u001b[22m\u001b[22m\u001b[1m(\u001b[22m\u001b[22m::Symbol\u001b[1m)\u001b[22m\u001b[22m at \u001b[1m./loading.jl:455\u001b[22m\u001b[22m\n",
      " [2] \u001b[1mrequire\u001b[22m\u001b[22m\u001b[1m(\u001b[22m\u001b[22m::Symbol\u001b[1m)\u001b[22m\u001b[22m at \u001b[1m./loading.jl:405\u001b[22m\u001b[22m\n",
      " [3] \u001b[1minclude_from_node1\u001b[22m\u001b[22m\u001b[1m(\u001b[22m\u001b[22m::String\u001b[1m)\u001b[22m\u001b[22m at \u001b[1m./loading.jl:576\u001b[22m\u001b[22m\n",
      " [4] \u001b[1minclude\u001b[22m\u001b[22m\u001b[1m(\u001b[22m\u001b[22m::String\u001b[1m)\u001b[22m\u001b[22m at \u001b[1m./sysimg.jl:14\u001b[22m\u001b[22m\n",
      " [5] \u001b[1manonymous\u001b[22m\u001b[22m at \u001b[1m./<missing>:2\u001b[22m\u001b[22m\n",
      "while loading /Users/aliyajangabylova/.julia/v0.6/StaticArrays/src/StaticArrays.jl, in expression starting on line 17\n"
     ]
    },
    {
     "ename": "LoadError",
     "evalue": "LoadError: \u001b[91mFailed to precompile StaticArrays to /Users/aliyajangabylova/.julia/lib/v0.6/StaticArrays.ji.\u001b[39m\nwhile loading /Users/aliyajangabylova/.julia/v0.6/Plots/src/Plots.jl, in expression starting on line 7",
     "output_type": "error",
     "traceback": [
      "LoadError: \u001b[91mFailed to precompile StaticArrays to /Users/aliyajangabylova/.julia/lib/v0.6/StaticArrays.ji.\u001b[39m\nwhile loading /Users/aliyajangabylova/.julia/v0.6/Plots/src/Plots.jl, in expression starting on line 7",
      "",
      "Stacktrace:",
      " [1] \u001b[1mcompilecache\u001b[22m\u001b[22m\u001b[1m(\u001b[22m\u001b[22m::String\u001b[1m)\u001b[22m\u001b[22m at \u001b[1m./loading.jl:710\u001b[22m\u001b[22m",
      " [2] \u001b[1m_require\u001b[22m\u001b[22m\u001b[1m(\u001b[22m\u001b[22m::Symbol\u001b[1m)\u001b[22m\u001b[22m at \u001b[1m./loading.jl:463\u001b[22m\u001b[22m",
      " [3] \u001b[1mrequire\u001b[22m\u001b[22m\u001b[1m(\u001b[22m\u001b[22m::Symbol\u001b[1m)\u001b[22m\u001b[22m at \u001b[1m./loading.jl:405\u001b[22m\u001b[22m",
      " [4] \u001b[1minclude_from_node1\u001b[22m\u001b[22m\u001b[1m(\u001b[22m\u001b[22m::String\u001b[1m)\u001b[22m\u001b[22m at \u001b[1m./loading.jl:576\u001b[22m\u001b[22m",
      " [5] \u001b[1meval\u001b[22m\u001b[22m\u001b[1m(\u001b[22m\u001b[22m::Module, ::Any\u001b[1m)\u001b[22m\u001b[22m at \u001b[1m./boot.jl:235\u001b[22m\u001b[22m",
      " [6] \u001b[1m_require\u001b[22m\u001b[22m\u001b[1m(\u001b[22m\u001b[22m::Symbol\u001b[1m)\u001b[22m\u001b[22m at \u001b[1m./loading.jl:490\u001b[22m\u001b[22m",
      " [7] \u001b[1mrequire\u001b[22m\u001b[22m\u001b[1m(\u001b[22m\u001b[22m::Symbol\u001b[1m)\u001b[22m\u001b[22m at \u001b[1m./loading.jl:405\u001b[22m\u001b[22m",
      " [8] \u001b[1minclude_string\u001b[22m\u001b[22m\u001b[1m(\u001b[22m\u001b[22m::String, ::String\u001b[1m)\u001b[22m\u001b[22m at \u001b[1m./loading.jl:522\u001b[22m\u001b[22m"
     ]
    }
   ],
   "source": [
    "#Pkg.update()\n",
    "#Pkg.add(\"DualNumbers\")\n",
    "using Plots\n",
    "using DualNumbers"
   ]
  },
  {
   "cell_type": "markdown",
   "metadata": {},
   "source": [
    "## Question 1: Numerical differentiation\n",
    "\n",
    "**1)** Derive a finite difference formula for the derivative of a function, $f$ at a point $x$ using the 3-point stencil $(x, x+h, x+2h)$ and state the order of the approximation error in terms of $h$.\n",
    "\n",
    "\n",
    "\n",
    "\n",
    "\n"
   ]
  },
  {
   "cell_type": "markdown",
   "metadata": {},
   "source": [
    "Given a function $f(x) = \\sin(\\exp(x))$\n",
    "\n",
    "> $f(x) = f(x)$\n",
    "\n",
    "> $f(x+h) = f(x) +hf'(x) + \\frac{h^2}{2} f''(x) + O(h^3)$\n",
    "\n",
    "> $f(x+2h) = f(x) + 2hf'(x) + 2h^2f''(x) + O(h^3)$\n",
    "\n",
    "> $a_1f(x) + a_2 f(x+h) + a_3 f(x+2h) \\ \\ \\ $ => $ \\ f(x)(a_1+a_2+a_3) + hf'(x)(a_2+a_3)+\\frac{h^2}{2}f''(x)(a_2+4a_3) + O(h^3)$ "
   ]
  },
  {
   "cell_type": "markdown",
   "metadata": {},
   "source": [
    "By constructing the system of equations:\n",
    "\n",
    "> $a_1+a_2+a_3 = 0$\n",
    "\n",
    "> $a_2 + a_3 = 1$\n",
    "\n",
    "> $a_2 + 4a_3 = 0$"
   ]
  },
  {
   "cell_type": "markdown",
   "metadata": {},
   "source": [
    "Then we get that $a_1 = -3$, $a_2 = 4$ and $a_3 = -1$"
   ]
  },
  {
   "cell_type": "markdown",
   "metadata": {},
   "source": [
    "> $$f'(x) = \\frac{-3f(x)+4f(x+h)-f(x+2h)}{2h} + O(h^2)$$"
   ]
  },
  {
   "cell_type": "markdown",
   "metadata": {},
   "source": [
    "**2)** Write a formula for the derivative, $f^\\prime(x)$, of the function\n",
    "\n",
    "$$f(x) = \\sin(\\exp(x)) $$\n",
    "\n",
    "and evaluate it at $x=1$."
   ]
  },
  {
   "cell_type": "markdown",
   "metadata": {},
   "source": [
    ">$$ f'(x) = \\exp(x) \\cos(\\exp(x)) $$"
   ]
  },
  {
   "cell_type": "code",
   "execution_count": 1,
   "metadata": {},
   "outputs": [
    {
     "data": {
      "text/plain": [
       "func (generic function with 1 method)"
      ]
     },
     "execution_count": 1,
     "metadata": {},
     "output_type": "execute_result"
    }
   ],
   "source": [
    "function func(x)\n",
    "    return sin(e^x)\n",
    "end"
   ]
  },
  {
   "cell_type": "code",
   "execution_count": 2,
   "metadata": {},
   "outputs": [
    {
     "data": {
      "text/plain": [
       "-2.478349732955235"
      ]
     },
     "execution_count": 2,
     "metadata": {},
     "output_type": "execute_result"
    }
   ],
   "source": [
    "function deriv(x)\n",
    "    return e^x*cos(e^x)\n",
    "end\n",
    "\n",
    "deriv(1)"
   ]
  },
  {
   "cell_type": "markdown",
   "metadata": {},
   "source": [
    "> At $f'(1) = -2.478349732955235$"
   ]
  },
  {
   "cell_type": "markdown",
   "metadata": {},
   "source": [
    "**3)** Use your finite difference formula to approximate the value of $f^\\prime(1)$ for values of $h$ decreasing from $2^{-1}$ to $2^{-30}$ in powers of $2$. Plot the error as a function of $h$ and verify the theoretically predicted scaling of the error with $h$. What is the best relative error you can achieve?"
   ]
  },
  {
   "cell_type": "code",
   "execution_count": 15,
   "metadata": {},
   "outputs": [
    {
     "data": {
      "text/plain": [
       "-2.478349732955235"
      ]
     },
     "execution_count": 15,
     "metadata": {},
     "output_type": "execute_result"
    }
   ],
   "source": [
    "theor = e^1*cos(e^1)"
   ]
  },
  {
   "cell_type": "code",
   "execution_count": 50,
   "metadata": {},
   "outputs": [
    {
     "data": {
      "text/plain": [
       "30-element Array{Any,1}:\n",
       " 3.54188    \n",
       " 0.773114   \n",
       " 0.102735   \n",
       " 0.016301   \n",
       " 0.00307504 \n",
       " 0.00065461 \n",
       " 0.000150052\n",
       " 3.58542e-5 \n",
       " 8.75877e-6 \n",
       " 2.16425e-6 \n",
       " 5.37893e-7 \n",
       " 1.3408e-7  \n",
       " 3.34702e-8 \n",
       " ⋮          \n",
       " 8.01945e-11\n",
       " 1.2385e-10 \n",
       " 7.35031e-10\n",
       " 2.19022e-9 \n",
       " 9.09654e-10\n",
       " 2.545e-10  \n",
       " 1.88376e-8 \n",
       " 1.97689e-8 \n",
       " 3.83954e-8 \n",
       " 2.72195e-8 \n",
       " 2.65638e-7 \n",
       " 5.4876e-7  "
      ]
     },
     "execution_count": 50,
     "metadata": {},
     "output_type": "execute_result"
    }
   ],
   "source": [
    "n = 30\n",
    "f = zeros(n)\n",
    "a = []\n",
    "#f =[]\n",
    "#error = Array{Float64}(n)\n",
    "power = 1./(2.^(1:n))\n",
    "\n",
    "\n",
    "for i in power\n",
    "    f = (-3.0*func(1)+4.0*func(1+i)-func(1+2.0*i))/(2*i)\n",
    "    error = abs(theor-f)\n",
    "    push!(a,error)\n",
    "end\n",
    "\n",
    "a"
   ]
  },
  {
   "cell_type": "code",
   "execution_count": 61,
   "metadata": {},
   "outputs": [
    {
     "data": {
      "text/plain": [
       "3.2358031082852225e-11"
      ]
     },
     "execution_count": 61,
     "metadata": {},
     "output_type": "execute_result"
    }
   ],
   "source": [
    "best_rel_err = minimum(abs.(a./theor))"
   ]
  },
  {
   "cell_type": "markdown",
   "metadata": {},
   "source": [
    "> The best relative error that we can achieve is 3.2358031082852225e-11."
   ]
  },
  {
   "cell_type": "code",
   "execution_count": 37,
   "metadata": {},
   "outputs": [
    {
     "data": {
      "text/plain": [
       "Plots.PyPlotBackend()"
      ]
     },
     "execution_count": 37,
     "metadata": {},
     "output_type": "execute_result"
    }
   ],
   "source": [
    "using Plots\n",
    "pyplot()"
   ]
  },
  {
   "cell_type": "code",
   "execution_count": 57,
   "metadata": {},
   "outputs": [
    {
     "data": {
      "text/html": [
       "<img src=\"data:image/png;base64,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\" />"
      ]
     },
     "execution_count": 57,
     "metadata": {},
     "output_type": "execute_result"
    }
   ],
   "source": [
    "plot(power, a, xlabel=\"log(h)\", ylabel=\"log(error)\", xaxis =:log, yaxis =:log, label=\"computational error\")\n",
    "plot!(power, (power.^2).*a[1], label=\"theoretical\")\n",
    "title!(\"Scaling of the error\")"
   ]
  },
  {
   "cell_type": "markdown",
   "metadata": {},
   "source": [
    "**4)** Read the examples at https://github.com/JuliaDiff/DualNumbers.jl. Define a dual number $x = 1+\\epsilon$ and use it to evaluate $f^\\prime(1)$. Verify that the answer is accurate to within machine precision."
   ]
  },
  {
   "cell_type": "code",
   "execution_count": 128,
   "metadata": {},
   "outputs": [
    {
     "name": "stderr",
     "output_type": "stream",
     "text": [
      "\u001b[1m\u001b[36mINFO: \u001b[39m\u001b[22m\u001b[36mPrecompiling module NaNMath.\n",
      "\u001b[39m\u001b[1m\u001b[33mWARNING: \u001b[39m\u001b[22m\u001b[33mModule Compat with uuid 36472898946137 is missing from the cache.\n",
      "This may mean module Compat does not support precompilation but is imported by a module that does.\u001b[39m\n",
      "\u001b[1m\u001b[91mERROR: \u001b[39m\u001b[22mLoadError: \u001b[91mDeclaring __precompile__(false) is not allowed in files that are being precompiled.\u001b[39m\n",
      "Stacktrace:\n",
      " [1] \u001b[1m_require\u001b[22m\u001b[22m\u001b[1m(\u001b[22m\u001b[22m::Symbol\u001b[1m)\u001b[22m\u001b[22m at \u001b[1m./loading.jl:455\u001b[22m\u001b[22m\n",
      " [2] \u001b[1mrequire\u001b[22m\u001b[22m\u001b[1m(\u001b[22m\u001b[22m::Symbol\u001b[1m)\u001b[22m\u001b[22m at \u001b[1m./loading.jl:405\u001b[22m\u001b[22m\n",
      " [3] \u001b[1minclude_from_node1\u001b[22m\u001b[22m\u001b[1m(\u001b[22m\u001b[22m::String\u001b[1m)\u001b[22m\u001b[22m at \u001b[1m./loading.jl:576\u001b[22m\u001b[22m\n",
      " [4] \u001b[1minclude\u001b[22m\u001b[22m\u001b[1m(\u001b[22m\u001b[22m::String\u001b[1m)\u001b[22m\u001b[22m at \u001b[1m./sysimg.jl:14\u001b[22m\u001b[22m\n",
      " [5] \u001b[1manonymous\u001b[22m\u001b[22m at \u001b[1m./<missing>:2\u001b[22m\u001b[22m\n",
      "while loading /Users/aliyajangabylova/.julia/v0.6/NaNMath/src/NaNMath.jl, in expression starting on line 4\n"
     ]
    },
    {
     "ename": "LoadError",
     "evalue": "\u001b[91mFailed to precompile NaNMath to /Users/aliyajangabylova/.julia/lib/v0.6/NaNMath.ji.\u001b[39m",
     "output_type": "error",
     "traceback": [
      "\u001b[91mFailed to precompile NaNMath to /Users/aliyajangabylova/.julia/lib/v0.6/NaNMath.ji.\u001b[39m",
      "",
      "Stacktrace:",
      " [1] \u001b[1mcompilecache\u001b[22m\u001b[22m\u001b[1m(\u001b[22m\u001b[22m::String\u001b[1m)\u001b[22m\u001b[22m at \u001b[1m./loading.jl:710\u001b[22m\u001b[22m",
      " [2] \u001b[1m_require\u001b[22m\u001b[22m\u001b[1m(\u001b[22m\u001b[22m::Symbol\u001b[1m)\u001b[22m\u001b[22m at \u001b[1m./loading.jl:497\u001b[22m\u001b[22m",
      " [3] \u001b[1mrequire\u001b[22m\u001b[22m\u001b[1m(\u001b[22m\u001b[22m::Symbol\u001b[1m)\u001b[22m\u001b[22m at \u001b[1m./loading.jl:405\u001b[22m\u001b[22m",
      " [4] \u001b[1m_include_from_serialized\u001b[22m\u001b[22m\u001b[1m(\u001b[22m\u001b[22m::String\u001b[1m)\u001b[22m\u001b[22m at \u001b[1m./loading.jl:157\u001b[22m\u001b[22m",
      " [5] \u001b[1m_require_from_serialized\u001b[22m\u001b[22m\u001b[1m(\u001b[22m\u001b[22m::Int64, ::Symbol, ::String, ::Bool\u001b[1m)\u001b[22m\u001b[22m at \u001b[1m./loading.jl:200\u001b[22m\u001b[22m",
      " [6] \u001b[1m_require_search_from_serialized\u001b[22m\u001b[22m\u001b[1m(\u001b[22m\u001b[22m::Int64, ::Symbol, ::String, ::Bool\u001b[1m)\u001b[22m\u001b[22m at \u001b[1m./loading.jl:236\u001b[22m\u001b[22m",
      " [7] \u001b[1m_require\u001b[22m\u001b[22m\u001b[1m(\u001b[22m\u001b[22m::Symbol\u001b[1m)\u001b[22m\u001b[22m at \u001b[1m./loading.jl:441\u001b[22m\u001b[22m",
      " [8] \u001b[1mrequire\u001b[22m\u001b[22m\u001b[1m(\u001b[22m\u001b[22m::Symbol\u001b[1m)\u001b[22m\u001b[22m at \u001b[1m./loading.jl:405\u001b[22m\u001b[22m",
      " [9] \u001b[1minclude_string\u001b[22m\u001b[22m\u001b[1m(\u001b[22m\u001b[22m::String, ::String\u001b[1m)\u001b[22m\u001b[22m at \u001b[1m./loading.jl:522\u001b[22m\u001b[22m"
     ]
    }
   ],
   "source": [
    "using DualNumbers"
   ]
  },
  {
   "cell_type": "markdown",
   "metadata": {},
   "source": [
    "# Notation\n",
    "\n",
    "DualNumbers package doesn't work on my Julia notebook, so I used the terminal to get the following answer.\n"
   ]
  },
  {
   "cell_type": "code",
   "execution_count": null,
   "metadata": {
    "collapsed": true
   },
   "outputs": [],
   "source": [
    "X = Dual(1,1) \n",
    "1 + 1ɛ\n",
    "\n",
    "julia> f(x) = sin(exp(x))\n",
    "f (generic function with 1 method)\n",
    "\n",
    "julia> y = f(x)\n",
    "0.41078129050290885 - 2.478349732955235ɛ\n",
    "\n",
    "julia> dualpart(y)\n",
    "-2.478349732955235\n",
    "\n",
    "julia> eps()\n",
    "2.220446049250313e-16"
   ]
  },
  {
   "cell_type": "code",
   "execution_count": null,
   "metadata": {
    "collapsed": true
   },
   "outputs": [],
   "source": []
  },
  {
   "cell_type": "markdown",
   "metadata": {},
   "source": [
    "## Question 2: Finding roots\n",
    "\n",
    "**1)** Referring to the function, $f(x)$, defined above, find the roots of the equation\n",
    "\n",
    "$$ f(x) = 0$$\n",
    "\n",
    "in the interval $0<x<2$.\n",
    "\n",
    "**2)** Implement the bracketing and bisection method to find one of the roots numerically. Measure the error at each iteration of the algorithm and demonstrate that the error decreases exponentially as a function of the number of iterations. To how many digits of precision can you approximate the root?\n",
    "\n",
    "**3)** Perform the same measurements for the Newton Raphson method and show that the error decreases faster than exponentially as a function of the number of iterations."
   ]
  },
  {
   "cell_type": "code",
   "execution_count": null,
   "metadata": {
    "collapsed": true
   },
   "outputs": [],
   "source": []
  },
  {
   "cell_type": "markdown",
   "metadata": {},
   "source": [
    "## Question 3: Finding minima\n",
    "\n",
    "**1)** The function $f(x)$ above has a single minimum in the interval $0<x<2$. Find its location analytically.\n",
    "\n",
    "**2)** Implement the Golden section search to find the location of this minimum numerically. Plot the error as a function of the number of iterations. To how many digits of precision can you approximate the location of the minimum?\n",
    "\n",
    "**3)** To understand your empirical findings, use Taylor's Theorem to show that near a minimum, $x_*$, of f(x),\n",
    "\n",
    "$$f(x) \\approx f(x_*)\\left( 1+ \\frac{f^{\\prime\\prime}(x_*)}{2\\,f(x_*)}\\,(x-x_*)^2\\right). $$\n",
    "Show that in order for a computer to distinguish between $f(x)$ and $f(x_*)$ we must have\n",
    "\n",
    "$$ \\left| x-x_*\\right| > \\sqrt{\\epsilon_m}\\,\\sqrt{\\left|\\frac{2\\,f(x_*)}{f^{\\prime\\prime}(x_*)}\\right|}$$\n",
    "\n",
    "thus limiting the precision with which the location of a minimum can be determined."
   ]
  },
  {
   "cell_type": "code",
   "execution_count": 40,
   "metadata": {},
   "outputs": [
    {
     "data": {
      "text/plain": [
       "GoldenSec (generic function with 1 method)"
      ]
     },
     "execution_count": 40,
     "metadata": {},
     "output_type": "execute_result"
    }
   ],
   "source": [
    "function GoldenSec(xl, xu, ea)\n",
    "    gold = (sqrt(5.0)-1.0)/2.0\n",
    "    it = 0\n",
    "    d = (xu - xl)*gold\n",
    "    x1 = xl + d\n",
    "    x2 = xu - d\n",
    "    f1 = func(x1)\n",
    "    f2 = func(x2)\n",
    "    er = 2.0\n",
    "  #  while er > ea\n",
    "    while (xu - xl) > ea\n",
    "        d = gold*d\n",
    "        if f1 > f2\n",
    "            x1 = x2\n",
    "            x2 = x2\n",
    "            x1 = xl + d\n",
    "            f2 = f1\n",
    "            f1 = func(x1)\n",
    "            x_opt = x1\n",
    "            fx = f1\n",
    "        else\n",
    "            xu = x1\n",
    "            xl = x2\n",
    "            x2 = xu - d\n",
    "            f1 = f2\n",
    "            f2 = func(x2)\n",
    "            x_opt = x2\n",
    "            fx = f2\n",
    "        if x_opt != 0\n",
    "            er = (1 - gold)*abs((xu - xl)/x_opt)\n",
    "         #  er = (xu - xl)\n",
    "        end\n",
    "        end\n",
    "        it += 1\n",
    "        Gold = x_opt\n",
    "        println(\"Iteration #\",it)\n",
    "        println(\"x min: \",Gold)\n",
    "        println(\"Error: \",er)\n",
    "    end\n",
    "end"
   ]
  },
  {
   "cell_type": "code",
   "execution_count": 41,
   "metadata": {},
   "outputs": [
    {
     "name": "stdout",
     "output_type": "stream",
     "text": [
      "Iteration #1\n",
      "x min: -5.278640450004207\n",
      "Error: 0.3416407864998739\n",
      "Iteration #2\n",
      "x min: 2.360679774997897\n",
      "Error: 0.3416407864998739\n",
      "Iteration #3\n",
      "x min: -0.5572809000084131\n",
      "Error: 5.23606797749978\n",
      "Iteration #4\n",
      "x min: 0.5572809000084114\n",
      "Error: 2.0000000000000036\n",
      "Iteration #5\n",
      "x min: 1.2461179749810722\n",
      "Error: 0.5527864045000425\n",
      "Iteration #6\n",
      "x min: 1.2461179749810722\n",
      "Error: 0.5527864045000425\n",
      "Iteration #7\n",
      "x min: 0.8203932499369082\n",
      "Error: 0.0\n"
     ]
    }
   ],
   "source": [
    "GoldenSec(-10, 10 ,0.00000001)"
   ]
  },
  {
   "cell_type": "code",
   "execution_count": 92,
   "metadata": {},
   "outputs": [
    {
     "data": {
      "text/plain": [
       "GoldenSec (generic function with 2 methods)"
      ]
     },
     "execution_count": 92,
     "metadata": {},
     "output_type": "execute_result"
    }
   ],
   "source": [
    "function GoldenSec(xl, xu, b, e_tol)\n",
    "    gold = (sqrt(5.0)-1.0)/2.0\n",
    "    it = 0\n",
    "    while xu - xl > e_tol\n",
    "        if abs(xu - b) > abs(b - xl)\n",
    "            x = b + (1 - gold)*(xu - b)\n",
    "            #x = xu - gold*(xu - b)\n",
    "            if func(b) < func(x)\n",
    "                xl = xl\n",
    "                b = b\n",
    "                xu = x\n",
    "            else\n",
    "                xl = b\n",
    "                b = x\n",
    "                c = c\n",
    "            end\n",
    "        else\n",
    "            x = b - (1 - gold)*(b - xl) \n",
    "            #x =  xl + gold*(b - xl)\n",
    "            if func(b) < func(x)\n",
    "                xl = x\n",
    "                b = b\n",
    "                c = c\n",
    "            else\n",
    "                xl = xl\n",
    "                b = x\n",
    "                xu = b\n",
    "            end\n",
    "        end\n",
    "        return x\n",
    "        it += 1\n",
    "        return it\n",
    "        println(it)\n",
    "    end\n",
    "end\n",
    "        \n",
    "   "
   ]
  },
  {
   "cell_type": "code",
   "execution_count": 93,
   "metadata": {},
   "outputs": [
    {
     "data": {
      "text/plain": [
       "1.1246117974981082"
      ]
     },
     "execution_count": 93,
     "metadata": {},
     "output_type": "execute_result"
    }
   ],
   "source": [
    "GoldenSec(-10.0, 10.0, 8.0, 0.00000001)"
   ]
  },
  {
   "cell_type": "code",
   "execution_count": null,
   "metadata": {
    "collapsed": true
   },
   "outputs": [],
   "source": []
  }
 ],
 "metadata": {
  "kernelspec": {
   "display_name": "Julia 0.6.1",
   "language": "julia",
   "name": "julia-0.6"
  },
  "language_info": {
   "file_extension": ".jl",
   "mimetype": "application/julia",
   "name": "julia",
   "version": "0.6.1"
  }
 },
 "nbformat": 4,
 "nbformat_minor": 1
}
