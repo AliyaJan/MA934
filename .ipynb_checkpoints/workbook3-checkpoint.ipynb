{
 "cells": [
  {
   "cell_type": "markdown",
   "metadata": {},
   "source": [
    "# MA934 Numerical Methods - Workbook 3\n",
    "\n",
    "If you haven't already done so, install the DualNumbers Julia package. It is a good idea to update all your packages first. The commands are\n",
    "\n",
    ">Pkg.update()\n",
    "\n",
    ">Pkg.add(\"DualNumbers\")\n",
    "\n",
    "but you only need to run them once. "
   ]
  },
  {
   "cell_type": "code",
   "execution_count": 94,
   "metadata": {
    "collapsed": false
   },
   "outputs": [
    {
     "name": "stderr",
     "output_type": "stream",
     "text": [
      "\u001b[1m\u001b[36mINFO: \u001b[39m\u001b[22m\u001b[36mUpdating METADATA...\n",
      "\u001b[39m\u001b[1m\u001b[36mINFO: \u001b[39m\u001b[22m\u001b[36mUpdating cache of StatsBase...\n",
      "\u001b[39m\u001b[1m\u001b[36mINFO: \u001b[39m\u001b[22m\u001b[36mUpdating cache of DataFrames...\n",
      "\u001b[39m\u001b[1m\u001b[36mINFO: \u001b[39m\u001b[22m\u001b[36mUpdating cache of DataArrays...\n",
      "\u001b[39m\u001b[1m\u001b[36mINFO: \u001b[39m\u001b[22m\u001b[36mUpdating cache of Juno...\n",
      "\u001b[39m\u001b[1m\u001b[36mINFO: \u001b[39m\u001b[22m\u001b[36mUpdating cache of Compat...\n",
      "\u001b[39m\u001b[1m\u001b[36mINFO: \u001b[39m\u001b[22m\u001b[36mUpdating cache of JSON...\n",
      "\u001b[39m\u001b[1m\u001b[36mINFO: \u001b[39m\u001b[22m\u001b[36mUpdating cache of Homebrew...\n",
      "\u001b[39m\u001b[1m\u001b[36mINFO: \u001b[39m\u001b[22m\u001b[36mUpdating cache of StaticArrays...\n",
      "\u001b[39m\u001b[1m\u001b[36mINFO: \u001b[39m\u001b[22m\u001b[36mUpdating cache of SortingAlgorithms...\n",
      "\u001b[39m\u001b[1m\u001b[36mINFO: \u001b[39m\u001b[22m\u001b[36mComputing changes...\n",
      "\u001b[39m\u001b[1m\u001b[36mINFO: \u001b[39m\u001b[22m\u001b[36mUpgrading Compat: v0.35.0 => v0.37.0\n",
      "\u001b[39m\u001b[1m\u001b[36mINFO: \u001b[39m\u001b[22m\u001b[36mUpgrading Homebrew: v0.6.0 => v0.6.1\n",
      "\u001b[39m\u001b[1m\u001b[36mINFO: \u001b[39m\u001b[22m\u001b[36mUpgrading JSON: v0.15.2 => v0.16.0\n",
      "\u001b[39m\u001b[1m\u001b[36mINFO: \u001b[39m\u001b[22m\u001b[36mUpgrading Juno: v0.3.1 => v0.3.2\n",
      "\u001b[39m\u001b[1m\u001b[36mINFO: \u001b[39m\u001b[22m\u001b[36mUpgrading SortingAlgorithms: v0.1.1 => v0.2.0\n",
      "\u001b[39m\u001b[1m\u001b[36mINFO: \u001b[39m\u001b[22m\u001b[36mUpgrading StaticArrays: v0.6.4 => v0.6.6\n",
      "\u001b[39m\u001b[1m\u001b[36mINFO: \u001b[39m\u001b[22m\u001b[36mUpgrading StatsBase: v0.19.0 => v0.19.1\n",
      "\u001b[39m\u001b[1m\u001b[33mWARNING: \u001b[39m\u001b[22m\u001b[33mThe following packages have been updated but were already imported:\n",
      "- Compat\n",
      "- JSON\n",
      "Restart Julia to use the updated versions.\u001b[39m\n",
      "\u001b[1m\u001b[36mINFO: \u001b[39m\u001b[22m\u001b[36mBuilding Homebrew\n",
      "\u001b[39m\u001b[1m\u001b[36mINFO: \u001b[39m\u001b[22m\u001b[36mBuilding SpecialFunctions\n",
      "\u001b[39m\u001b[1m\u001b[36mINFO: \u001b[39m\u001b[22m\u001b[36mCloning cache of DualNumbers from https://github.com/JuliaDiff/DualNumbers.jl.git\n",
      "\u001b[39m"
     ]
    },
    {
     "name": "stdout",
     "output_type": "stream",
     "text": [
      "Updated 1 tap (homebrew/core).\n",
      "==> New Formulae\n",
      "avimetaedit\n",
      "bedtools\n",
      "cling\n",
      "docker-ls\n",
      "dps8m\n",
      "e2tools\n",
      "elasticsearch@5.6\n",
      "envconsul\n",
      "heartbeat\n",
      "kaitai-struct-compiler\n",
      "kibana@5.6\n",
      "libxo\n",
      "logstash@5.6\n",
      "ocaml-findlib\n",
      "restic\n",
      "sceptre\n",
      "simg2img\n",
      "==> Updated Formulae\n",
      "abcm2ps\n",
      "abcmidi\n",
      "adplug\n",
      "amazon-ecs-cli\n",
      "angband\n",
      "angular-cli\n",
      "ansible-cmdb\n",
      "antigen\n",
      "apibuilder-cli\n",
      "app-engine-go-64\n",
      "arangodb\n",
      "archivemount\n",
      "armadillo\n",
      "artifactory\n",
      "asciidoc\n",
      "aspectj\n",
      "aurora-cli\n",
      "awscli\n",
      "azure-cli\n",
      "b2-tools\n",
      "babl\n",
      "bacula-fd\n",
      "bash-snippets\n",
      "bazel\n",
      "bchunk\n",
      "binaryen\n",
      "bit\n",
      "bitcoin\n",
      "bitrise\n",
      "bmake\n",
      "buku\n",
      "bwfmetaedit\n",
      "bzt\n",
      "calcurse\n",
      "casperjs\n",
      "ccm\n",
      "ceres-solver\n",
      "chakra\n",
      "citus\n",
      "clhep\n",
      "closure-compiler\n",
      "cmake\n",
      "cnats\n",
      "cockatrice\n",
      "cocot\n",
      "collectd\n",
      "commandbox\n",
      "conan\n",
      "conjure-up\n",
      "consul\n",
      "convmv\n",
      "convox\n",
      "corebird\n",
      "couchdb\n",
      "cppad\n",
      "crystal-icr\n",
      "dbus\n",
      "debianutils\n",
      "dependency-check\n",
      "docfx\n",
      "docker\n",
      "docker-completion\n",
      "dssim\n",
      "duck\n",
      "efl\n",
      "ejabberd\n",
      "elasticsearch\n",
      "erlang\n",
      "etcd\n",
      "etsh\n",
      "exploitdb\n",
      "eye-d3\n",
      "faac\n",
      "faas-cli\n",
      "fantom\n",
      "fd\n",
      "ffmpeg@2.8\n",
      "fibjs\n",
      "filebeat\n",
      "firebase-cli\n",
      "fish\n",
      "flatbuffers\n",
      "flawfinder\n",
      "flow\n",
      "fluent-bit\n",
      "fn\n",
      "folly\n",
      "fonttools\n",
      "freetds\n",
      "frugal\n",
      "fwup\n",
      "gauge\n",
      "gdcm\n",
      "gdnsd\n",
      "gegl\n",
      "geoserver\n",
      "getdns\n",
      "geth\n",
      "git-annex\n",
      "git-cinnabar\n",
      "git-cola\n",
      "git-review\n",
      "gitlab-runner\n",
      "gjstest\n",
      "glide\n",
      "gmime\n",
      "gmt\n",
      "gmt@4\n",
      "gnupg\n",
      "gnuplot\n",
      "gofabric8\n",
      "goffice\n",
      "gopass\n",
      "gradle-completion\n",
      "grafana\n",
      "grakn\n",
      "graphicsmagick\n",
      "gromacs\n",
      "groovysdk\n",
      "grpc\n",
      "gsmartcontrol\n",
      "gx\n",
      "gx-go\n",
      "hana\n",
      "harfbuzz\n",
      "hercules\n",
      "heroku\n",
      "hivemind\n",
      "html-xml-utils\n",
      "htmlcleaner\n",
      "httest\n",
      "hugo\n",
      "i2p\n",
      "ibex\n",
      "imagemagick\n",
      "imagemagick@6\n",
      "imapfilter\n",
      "influxdb\n",
      "inspircd\n",
      "ipfs\n",
      "iron-functions\n",
      "iso-codes\n",
      "ispc\n",
      "itstool\n",
      "jabba\n",
      "jenkins\n",
      "jenkins-lts\n",
      "jfrog-cli-go\n",
      "jhipster\n",
      "jmxtrans\n",
      "jruby\n",
      "kerl\n",
      "keychain\n",
      "kibana\n",
      "knot\n",
      "kobalt\n",
      "kompose\n",
      "kontena\n",
      "kotlin\n",
      "kubectx\n",
      "kubernetes-cli\n",
      "kubernetes-helm\n",
      "kvazaar\n",
      "lapack\n",
      "lgogdownloader\n",
      "libassuan\n",
      "libatomic_ops\n",
      "libcddb\n",
      "libcdio\n",
      "libcello\n",
      "libconfig\n",
      "libcouchbase\n",
      "libebur128\n",
      "libetonyek\n",
      "libfaketime\n",
      "libfreehand\n",
      "libfreenect\n",
      "libgsf\n",
      "libhttpseverywhere\n",
      "libical\n",
      "libmaxminddb\n",
      "libogg\n",
      "libopusenc\n",
      "libphonenumber\n",
      "libpq\n",
      "libpqxx\n",
      "libre\n",
      "libsass\n",
      "libtrace\n",
      "libuv\n",
      "libwps\n",
      "lighttpd\n",
      "link-grammar\n",
      "linkerd\n",
      "little-cms2\n",
      "lldpd\n",
      "logstash\n",
      "lxc\n",
      "mame\n",
      "mapnik\n",
      "mapserver\n",
      "mariadb@10.1\n",
      "mat\n",
      "mdds\n",
      "mediaconch\n",
      "mercurial\n",
      "metricbeat\n",
      "mgba\n",
      "mighttpd2\n",
      "mikutter\n",
      "mingw-w64\n",
      "minio\n",
      "miniupnpc\n",
      "mkclean\n",
      "mkdocs\n",
      "mkvtoolnix\n",
      "mockserver\n",
      "modd\n",
      "modules\n",
      "mongo-c-driver\n",
      "monit\n",
      "mono-libgdiplus\n",
      "mosh\n",
      "multimarkdown\n",
      "mupdf\n",
      "mupdf-tools\n",
      "mypy\n",
      "mysql-sandbox\n",
      "nano\n",
      "nanopb-generator\n",
      "nativefier\n",
      "nco\n",
      "ncview\n",
      "neovim\n",
      "netcdf\n",
      "nettle\n",
      "nickle\n",
      "nmh\n",
      "node-build\n",
      "nss\n",
      "ntl\n",
      "nuget\n",
      "nuttcp\n",
      "ocamlbuild\n",
      "octave\n",
      "omniorb\n",
      "ompl\n",
      "open-scene-graph\n",
      "opencbm\n",
      "opencoarrays\n",
      "openfortivpn\n",
      "opensaml\n",
      "opusfile\n",
      "orc\n",
      "ortp\n",
      "osquery\n",
      "overmind\n",
      "packer\n",
      "packetq\n",
      "paket\n",
      "pandoc\n",
      "pandoc-citeproc\n",
      "pandoc-crossref\n",
      "pango\n",
      "paperkey\n",
      "parallel\n",
      "passenger\n",
      "pazpar2\n",
      "pcb\n",
      "pcl\n",
      "pegtl\n",
      "percona-toolkit\n",
      "pgpool-ii\n",
      "pgroonga\n",
      "pgrouting\n",
      "physfs\n",
      "pike\n",
      "pilosa\n",
      "pioneers\n",
      "pipenv\n",
      "planck\n",
      "plantuml\n",
      "plzip\n",
      "pngquant\n",
      "poco\n",
      "poppler\n",
      "postgis\n",
      "postgresql\n",
      "postgresql@9.4\n",
      "postgresql@9.5\n",
      "postgresql@9.6\n",
      "pqiv\n",
      "pre-commit\n",
      "presto\n",
      "primesieve\n",
      "proguard\n",
      "prometheus\n",
      "protobuf\n",
      "protobuf-c\n",
      "protobuf-swift\n",
      "psftools\n",
      "pumba\n",
      "pure-ftpd\n",
      "purescript\n",
      "pyqt\n",
      "python-markdown\n",
      "pyvim\n",
      "q\n",
      "qd\n",
      "qscintilla2\n",
      "qt\n",
      "qtfaststart\n",
      "rakudo-star\n",
      "rancher-cli\n",
      "rancid\n",
      "ratfor\n",
      "rdfind\n",
      "rebar@3\n",
      "redpen\n",
      "regex-opt\n",
      "remake\n",
      "reminiscence\n",
      "resty\n",
      "ringojs\n",
      "rocksdb\n",
      "rom-tools\n",
      "roswell\n",
      "rust\n",
      "sagittarius-scheme\n",
      "sassc\n",
      "scalaenv\n",
      "scalariform\n",
      "scalastyle\n",
      "scm-manager\n",
      "scons\n",
      "sfk\n",
      "shadowsocks-libev\n",
      "shairport-sync\n",
      "shibboleth-sp\n",
      "shpotify\n",
      "silk\n",
      "simple-obfs\n",
      "singular\n",
      "sip\n",
      "sjk\n",
      "skinny\n",
      "snakemake\n",
      "solr\n",
      "sonarqube\n",
      "source-to-image\n",
      "sourcekitten\n",
      "src\n",
      "sslmate\n",
      "stoken\n",
      "stormlib\n",
      "streamlink\n",
      "strongswan\n",
      "suil\n",
      "suite-sparse\n",
      "sundials\n",
      "supersonic\n",
      "swfmill\n",
      "swi-prolog\n",
      "swift-protobuf\n",
      "swiftformat\n",
      "swiftlint\n",
      "taisei\n",
      "task-spooler\n",
      "tectonic\n",
      "temporal_tables\n",
      "tenyr\n",
      "terraform\n",
      "terraform_landscape\n",
      "terragrunt\n",
      "texapp\n",
      "thefuck\n",
      "tinc\n",
      "tintin\n",
      "tippecanoe\n",
      "traefik\n",
      "u-boot-tools\n",
      "uftp\n",
      "uncrustify\n",
      "upscaledb\n",
      "urh\n",
      "userspace-rcu\n",
      "vapoursynth\n",
      "varnish\n",
      "varnish@4\n",
      "vault\n",
      "vcdimager\n",
      "vim\n",
      "vpcs\n",
      "vtk\n",
      "when\n",
      "wireguard-tools\n",
      "wpcli-completion\n",
      "wtf\n",
      "xonsh\n",
      "xtensor\n",
      "xxhash\n",
      "yaf\n",
      "yara\n",
      "yaze-ag\n",
      "yle-dl\n",
      "you-get\n",
      "youtube-dl\n",
      "z80dasm\n",
      "zabbix\n",
      "zanata-client\n",
      "zbackup\n",
      "zenity\n",
      "zimg\n",
      "==> Renamed Formulae\n",
      "findbugs -> spotbugs\n",
      "newsbeuter -> newsboat\n"
     ]
    },
    {
     "name": "stderr",
     "output_type": "stream",
     "text": [
      "\u001b[1m\u001b[36mINFO: \u001b[39m\u001b[22m\u001b[36mInstalling DualNumbers v0.3.0\n",
      "\u001b[39m\u001b[1m\u001b[36mINFO: \u001b[39m\u001b[22m\u001b[36mPackage database updated\n",
      "\u001b[39m"
     ]
    }
   ],
   "source": [
    "Pkg.update()\n",
    "Pkg.add(\"DualNumbers\")"
   ]
  },
  {
   "cell_type": "code",
   "execution_count": 1,
   "metadata": {
    "collapsed": false
   },
   "outputs": [],
   "source": [
    "#Pkg.update()\n",
    "#Pkg.add(\"DualNumbers\")\n",
    "using Plots\n",
    "using DualNumbers"
   ]
  },
  {
   "cell_type": "markdown",
   "metadata": {},
   "source": [
    "## Question 1: Numerical differentiation\n",
    "\n",
    "**1)** Derive a finite difference formula for the derivative of a function, $f$ at a point $x$ using the 3-point stencil $(x, x+h, x+2h)$ and state the order of the approximation error in terms of $h$.\n",
    "\n",
    "\n",
    "\n",
    "\n",
    "\n"
   ]
  },
  {
   "cell_type": "markdown",
   "metadata": {},
   "source": [
    "Given a function $f(x) = \\sin(\\exp(x))$\n",
    "\n",
    "> $f(x) = f(x)$\n",
    "\n",
    "> $f(x+h) = f(x) +hf'(x) + \\frac{h^2}{2} f''(x) + O(h^3)$\n",
    "\n",
    "> $f(x+2h) = f(x) + 2hf'(x) + 2h^2f''(x) + O(h^3)$\n",
    "\n",
    "> $a_1f(x) + a_2 f(x+h) + a_3 f(x+2h) \\ \\ \\ $ => $ \\ f(x)(a_1+a_2+a_3) + hf'(x)(a_2+a_3)+\\frac{h^2}{2}f''(x)(a_2+4a_3) + O(h^3)$ "
   ]
  },
  {
   "cell_type": "markdown",
   "metadata": {},
   "source": [
    "By constructing the system of equations:\n",
    "\n",
    "> $a_1+a_2+a_3 = 0$\n",
    "\n",
    "> $a_2 + a_3 = 1$\n",
    "\n",
    "> $a_2 + 4a_3 = 0$"
   ]
  },
  {
   "cell_type": "markdown",
   "metadata": {},
   "source": [
    "Then we get that $a_1 = -3$, $a_2 = 4$ and $a_3 = -1$"
   ]
  },
  {
   "cell_type": "markdown",
   "metadata": {},
   "source": [
    "> $$f'(x) = \\frac{-3f(x)+4f(x+h)-f(x+2h)}{2h} + O(h^2)$$"
   ]
  },
  {
   "cell_type": "markdown",
   "metadata": {},
   "source": [
    "**2)** Write a formula for the derivative, $f^\\prime(x)$, of the function\n",
    "\n",
    "$$f(x) = \\sin(\\exp(x)) $$\n",
    "\n",
    "and evaluate it at $x=1$."
   ]
  },
  {
   "cell_type": "markdown",
   "metadata": {},
   "source": [
    ">$$ f'(x) = \\exp(x) \\cos(\\exp(x)) $$"
   ]
  },
  {
   "cell_type": "code",
   "execution_count": 4,
   "metadata": {
    "collapsed": false
   },
   "outputs": [
    {
     "data": {
      "text/plain": [
       "func (generic function with 1 method)"
      ]
     },
     "execution_count": 4,
     "metadata": {},
     "output_type": "execute_result"
    }
   ],
   "source": [
    "function func(x)\n",
    "    return sin(e^x)\n",
    "end"
   ]
  },
  {
   "cell_type": "code",
   "execution_count": 5,
   "metadata": {
    "collapsed": false
   },
   "outputs": [
    {
     "data": {
      "text/plain": [
       "-2.478349732955235"
      ]
     },
     "execution_count": 5,
     "metadata": {},
     "output_type": "execute_result"
    }
   ],
   "source": [
    "function deriv(x)\n",
    "    return e^x*cos(e^x)\n",
    "end\n",
    "\n",
    "deriv(1)"
   ]
  },
  {
   "cell_type": "markdown",
   "metadata": {},
   "source": [
    "> At $f'(1) = -2.478349732955235$"
   ]
  },
  {
   "cell_type": "markdown",
   "metadata": {},
   "source": [
    "**3)** Use your finite difference formula to approximate the value of $f^\\prime(1)$ for values of $h$ decreasing from $2^{-1}$ to $2^{-30}$ in powers of $2$. Plot the error as a function of $h$ and verify the theoretically predicted scaling of the error with $h$. What is the best relative error you can achieve?"
   ]
  },
  {
   "cell_type": "code",
   "execution_count": 6,
   "metadata": {
    "collapsed": false
   },
   "outputs": [
    {
     "data": {
      "text/plain": [
       "-2.478349732955235"
      ]
     },
     "execution_count": 6,
     "metadata": {},
     "output_type": "execute_result"
    }
   ],
   "source": [
    "theor = e^1*cos(e^1)"
   ]
  },
  {
   "cell_type": "code",
   "execution_count": 7,
   "metadata": {
    "collapsed": false
   },
   "outputs": [
    {
     "data": {
      "text/plain": [
       "30-element Array{Any,1}:\n",
       " 3.54188    \n",
       " 0.773114   \n",
       " 0.102735   \n",
       " 0.016301   \n",
       " 0.00307504 \n",
       " 0.00065461 \n",
       " 0.000150052\n",
       " 3.58542e-5 \n",
       " 8.75877e-6 \n",
       " 2.16425e-6 \n",
       " 5.37893e-7 \n",
       " 1.3408e-7  \n",
       " 3.34702e-8 \n",
       " ⋮          \n",
       " 8.01945e-11\n",
       " 1.2385e-10 \n",
       " 7.35031e-10\n",
       " 2.19022e-9 \n",
       " 9.09654e-10\n",
       " 2.545e-10  \n",
       " 1.88376e-8 \n",
       " 1.97689e-8 \n",
       " 3.83954e-8 \n",
       " 2.72195e-8 \n",
       " 2.65638e-7 \n",
       " 5.4876e-7  "
      ]
     },
     "execution_count": 7,
     "metadata": {},
     "output_type": "execute_result"
    }
   ],
   "source": [
    "n = 30\n",
    "f = zeros(n)\n",
    "a = []\n",
    "#f =[]\n",
    "#error = Array{Float64}(n)\n",
    "power = 1./(2.^(1:n))\n",
    "\n",
    "\n",
    "for i in power\n",
    "    f = (-3.0*func(1)+4.0*func(1+i)-func(1+2.0*i))/(2*i)\n",
    "    error = abs(theor-f)\n",
    "    push!(a,error)\n",
    "end\n",
    "\n",
    "a"
   ]
  },
  {
   "cell_type": "code",
   "execution_count": 8,
   "metadata": {
    "collapsed": false
   },
   "outputs": [
    {
     "data": {
      "text/plain": [
       "3.2358031082852225e-11"
      ]
     },
     "execution_count": 8,
     "metadata": {},
     "output_type": "execute_result"
    }
   ],
   "source": [
    "best_rel_err = minimum(abs.(a./theor))"
   ]
  },
  {
   "cell_type": "markdown",
   "metadata": {},
   "source": [
    "> The best relative error that we can achieve is 3.2358031082852225e-11."
   ]
  },
  {
   "cell_type": "code",
   "execution_count": 9,
   "metadata": {
    "collapsed": false
   },
   "outputs": [
    {
     "data": {
      "text/plain": [
       "Plots.PyPlotBackend()"
      ]
     },
     "execution_count": 9,
     "metadata": {},
     "output_type": "execute_result"
    }
   ],
   "source": [
    "using Plots\n",
    "pyplot()"
   ]
  },
  {
   "cell_type": "code",
   "execution_count": 10,
   "metadata": {
    "collapsed": false
   },
   "outputs": [
    {
     "data": {
      "text/html": [
       "<img src=\"data:image/png;base64,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\" />"
      ]
     },
     "execution_count": 10,
     "metadata": {},
     "output_type": "execute_result"
    }
   ],
   "source": [
    "plot(power, a, xlabel=\"log(h)\", ylabel=\"log(error)\", xaxis =:log, yaxis =:log, label=\"computational error\")\n",
    "plot!(power, (power.^2).*a[1], label=\"theoretical\")\n",
    "title!(\"Scaling of the error\")"
   ]
  },
  {
   "cell_type": "markdown",
   "metadata": {},
   "source": [
    "**4)** Read the examples at https://github.com/JuliaDiff/DualNumbers.jl. Define a dual number $x = 1+\\epsilon$ and use it to evaluate $f^\\prime(1)$. Verify that the answer is accurate to within machine precision."
   ]
  },
  {
   "cell_type": "code",
   "execution_count": 11,
   "metadata": {
    "collapsed": false
   },
   "outputs": [],
   "source": [
    "using DualNumbers"
   ]
  },
  {
   "cell_type": "markdown",
   "metadata": {},
   "source": [
    "# Notation\n",
    "\n",
    "DualNumbers package doesn't work on my Julia notebook, so I used the terminal to get the following answer.\n"
   ]
  },
  {
   "cell_type": "code",
   "execution_count": 12,
   "metadata": {
    "collapsed": false
   },
   "outputs": [
    {
     "ename": "LoadError",
     "evalue": "\u001b[91msyntax: \"f(x)\" is not a valid function argument name\u001b[39m",
     "output_type": "error",
     "traceback": [
      "\u001b[91msyntax: \"f(x)\" is not a valid function argument name\u001b[39m",
      "",
      "Stacktrace:",
      " [1] \u001b[1minclude_string\u001b[22m\u001b[22m\u001b[1m(\u001b[22m\u001b[22m::String, ::String\u001b[1m)\u001b[22m\u001b[22m at \u001b[1m./loading.jl:515\u001b[22m\u001b[22m"
     ]
    }
   ],
   "source": [
    "X = Dual(1,1) \n",
    "1 + 1ɛ\n",
    "\n",
    "julia> f(x) = sin(exp(x))\n",
    "f (generic function with 1 method)\n",
    "\n",
    "julia> y = f(x)\n",
    "0.41078129050290885 - 2.478349732955235ɛ\n",
    "\n",
    "julia> dualpart(y)\n",
    "-2.478349732955235\n",
    "\n",
    "julia> eps()\n",
    "2.220446049250313e-16"
   ]
  },
  {
   "cell_type": "markdown",
   "metadata": {},
   "source": [
    "<font color=blue>\n",
    "This looks right but looking at your code, you should have calculated f(X) rather than f(x) - maybe you defined x somewhere else and didn't copy it across? I'm not sure what eps() does?\n",
    "</font>"
   ]
  },
  {
   "cell_type": "markdown",
   "metadata": {
    "collapsed": true
   },
   "source": [
    "<font color=blue>\n",
    "This is a very good answer. Well done.\n",
    "</font>"
   ]
  },
  {
   "cell_type": "markdown",
   "metadata": {},
   "source": [
    "<font color=blue>\n",
    "15/15\n",
    "</font>"
   ]
  },
  {
   "cell_type": "markdown",
   "metadata": {},
   "source": [
    "## Question 2: Finding roots\n",
    "\n",
    "**1)** Referring to the function, $f(x)$, defined above, find the roots of the equation\n",
    "\n",
    "$$ f(x) = 0$$\n",
    "\n",
    "in the interval $0<x<2$.\n",
    "\n",
    "**2)** Implement the bracketing and bisection method to find one of the roots numerically. Measure the error at each iteration of the algorithm and demonstrate that the error decreases exponentially as a function of the number of iterations. To how many digits of precision can you approximate the root?\n",
    "\n",
    "**3)** Perform the same measurements for the Newton Raphson method and show that the error decreases faster than exponentially as a function of the number of iterations."
   ]
  },
  {
   "cell_type": "code",
   "execution_count": null,
   "metadata": {
    "collapsed": true
   },
   "outputs": [],
   "source": []
  },
  {
   "cell_type": "markdown",
   "metadata": {},
   "source": [
    "## Question 3: Finding minima\n",
    "\n",
    "**1)** The function $f(x)$ above has a single minimum in the interval $0<x<2$. Find its location analytically.\n",
    "\n",
    "**2)** Implement the Golden section search to find the location of this minimum numerically. Plot the error as a function of the number of iterations. To how many digits of precision can you approximate the location of the minimum?\n",
    "\n",
    "**3)** To understand your empirical findings, use Taylor's Theorem to show that near a minimum, $x_*$, of f(x),\n",
    "\n",
    "$$f(x) \\approx f(x_*)\\left( 1+ \\frac{f^{\\prime\\prime}(x_*)}{2\\,f(x_*)}\\,(x-x_*)^2\\right). $$\n",
    "Show that in order for a computer to distinguish between $f(x)$ and $f(x_*)$ we must have\n",
    "\n",
    "$$ \\left| x-x_*\\right| > \\sqrt{\\epsilon_m}\\,\\sqrt{\\left|\\frac{2\\,f(x_*)}{f^{\\prime\\prime}(x_*)}\\right|}$$\n",
    "\n",
    "thus limiting the precision with which the location of a minimum can be determined."
   ]
  },
  {
   "cell_type": "code",
   "execution_count": 40,
   "metadata": {
    "collapsed": false
   },
   "outputs": [
    {
     "data": {
      "text/plain": [
       "GoldenSec (generic function with 1 method)"
      ]
     },
     "execution_count": 40,
     "metadata": {},
     "output_type": "execute_result"
    }
   ],
   "source": [
    "function GoldenSec(xl, xu, ea)\n",
    "    gold = (sqrt(5.0)-1.0)/2.0\n",
    "    it = 0\n",
    "    d = (xu - xl)*gold\n",
    "    x1 = xl + d\n",
    "    x2 = xu - d\n",
    "    f1 = func(x1)\n",
    "    f2 = func(x2)\n",
    "    er = 2.0\n",
    "  #  while er > ea\n",
    "    while (xu - xl) > ea\n",
    "        d = gold*d\n",
    "        if f1 > f2\n",
    "            x1 = x2\n",
    "            x2 = x2\n",
    "            x1 = xl + d\n",
    "            f2 = f1\n",
    "            f1 = func(x1)\n",
    "            x_opt = x1\n",
    "            fx = f1\n",
    "        else\n",
    "            xu = x1\n",
    "            xl = x2\n",
    "            x2 = xu - d\n",
    "            f1 = f2\n",
    "            f2 = func(x2)\n",
    "            x_opt = x2\n",
    "            fx = f2\n",
    "        if x_opt != 0\n",
    "            er = (1 - gold)*abs((xu - xl)/x_opt)\n",
    "         #  er = (xu - xl)\n",
    "        end\n",
    "        end\n",
    "        it += 1\n",
    "        Gold = x_opt\n",
    "        println(\"Iteration #\",it)\n",
    "        println(\"x min: \",Gold)\n",
    "        println(\"Error: \",er)\n",
    "    end\n",
    "end"
   ]
  },
  {
   "cell_type": "code",
   "execution_count": 41,
   "metadata": {
    "collapsed": false
   },
   "outputs": [
    {
     "name": "stdout",
     "output_type": "stream",
     "text": [
      "Iteration #1\n",
      "x min: -5.278640450004207\n",
      "Error: 0.3416407864998739\n",
      "Iteration #2\n",
      "x min: 2.360679774997897\n",
      "Error: 0.3416407864998739\n",
      "Iteration #3\n",
      "x min: -0.5572809000084131\n",
      "Error: 5.23606797749978\n",
      "Iteration #4\n",
      "x min: 0.5572809000084114\n",
      "Error: 2.0000000000000036\n",
      "Iteration #5\n",
      "x min: 1.2461179749810722\n",
      "Error: 0.5527864045000425\n",
      "Iteration #6\n",
      "x min: 1.2461179749810722\n",
      "Error: 0.5527864045000425\n",
      "Iteration #7\n",
      "x min: 0.8203932499369082\n",
      "Error: 0.0\n"
     ]
    }
   ],
   "source": [
    "GoldenSec(-10, 10 ,0.00000001)"
   ]
  },
  {
   "cell_type": "code",
   "execution_count": 92,
   "metadata": {
    "collapsed": false
   },
   "outputs": [
    {
     "data": {
      "text/plain": [
       "GoldenSec (generic function with 2 methods)"
      ]
     },
     "execution_count": 92,
     "metadata": {},
     "output_type": "execute_result"
    }
   ],
   "source": [
    "function GoldenSec(xl, xu, b, e_tol)\n",
    "    gold = (sqrt(5.0)-1.0)/2.0\n",
    "    it = 0\n",
    "    while xu - xl > e_tol\n",
    "        if abs(xu - b) > abs(b - xl)\n",
    "            x = b + (1 - gold)*(xu - b)\n",
    "            #x = xu - gold*(xu - b)\n",
    "            if func(b) < func(x)\n",
    "                xl = xl\n",
    "                b = b\n",
    "                xu = x\n",
    "            else\n",
    "                xl = b\n",
    "                b = x\n",
    "                c = c\n",
    "            end\n",
    "        else\n",
    "            x = b - (1 - gold)*(b - xl) \n",
    "            #x =  xl + gold*(b - xl)\n",
    "            if func(b) < func(x)\n",
    "                xl = x\n",
    "                b = b\n",
    "                c = c\n",
    "            else\n",
    "                xl = xl\n",
    "                b = x\n",
    "                xu = b\n",
    "            end\n",
    "        end\n",
    "        return x\n",
    "        it += 1\n",
    "        return it\n",
    "        println(it)\n",
    "    end\n",
    "end\n",
    "        \n",
    "   "
   ]
  },
  {
   "cell_type": "code",
   "execution_count": 93,
   "metadata": {
    "collapsed": false
   },
   "outputs": [
    {
     "data": {
      "text/plain": [
       "1.1246117974981082"
      ]
     },
     "execution_count": 93,
     "metadata": {},
     "output_type": "execute_result"
    }
   ],
   "source": [
    "GoldenSec(-10.0, 10.0, 8.0, 0.00000001)"
   ]
  },
  {
   "cell_type": "code",
   "execution_count": null,
   "metadata": {
    "collapsed": true
   },
   "outputs": [],
   "source": []
  }
 ],
 "metadata": {
  "anaconda-cloud": {},
  "kernelspec": {
   "display_name": "Julia 0.6.0",
   "language": "julia",
   "name": "julia-0.6"
  },
  "language_info": {
   "file_extension": ".jl",
   "mimetype": "application/julia",
   "name": "julia",
   "version": "0.6.0"
  }
 },
 "nbformat": 4,
 "nbformat_minor": 1
}
