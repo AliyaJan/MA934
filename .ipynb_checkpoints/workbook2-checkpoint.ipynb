{
 "cells": [
  {
   "cell_type": "markdown",
   "metadata": {},
   "source": [
    "# MA934  Numerical Methods - Workbook 2"
   ]
  },
  {
   "cell_type": "code",
   "execution_count": 4,
   "metadata": {},
   "outputs": [
    {
     "data": {
      "text/plain": [
       "buildFTree (generic function with 1 method)"
      ]
     },
     "execution_count": 4,
     "metadata": {},
     "output_type": "execute_result"
    }
   ],
   "source": [
    "using Plots\n",
    "pyplot()\n",
    "include(\"KVPair.jl\")\n",
    "include(\"LList.jl\")\n",
    "include(\"FTree.jl\")"
   ]
  },
  {
   "cell_type": "markdown",
   "metadata": {},
   "source": [
    "## Question 1: Linear search using a linked list\n",
    "\n",
    "The file KVPair.jl defines a simple data structure to represent an (Int64, Float64) key-value pair. \n",
    "\n",
    "The file LList.jl defines a linked list that stores a KVPair at each node. Many languages have a keyword NULL. A pointer to any object can take the value NULL to indicate that it doesn't point to anything. NULL is often used to denote the end of a list, the leaves of a tree etc. Julia does not support NULL pointers. This causes a difficulty in implementing recursive data structures. Instead Julia provides a parametric data type Nullable{T} to represent missing values. It is possible to use Nullable types to define recursive data structures although some of the resulting definitions are a bit clumsy. I'm not sure that this is the canonical way to implement structural recursion in Julia. \n",
    "\n",
    "The following points are important:\n",
    "\n",
    "* if a variable has type Nullable{T} then it can either contain a value of type T or nothing (ie a missing value). \n",
    "* the function isnull(x) checks whether a nullable type x has a value or not. \n",
    "* the function get(x) returns the actual value (of type T) contained in a nullable type x.\n",
    "\n",
    "Much more information can be found at https://docs.julialang.org/en/stable/manual/types/\n",
    "\n",
    "The function \n",
    "\n",
    "> buildLList(dataArray::Array{KVPair, 1})\n",
    "\n",
    "takes an array of KVPair objects as input and returns an LList containing these KVPairs. This is illustrated in the code below.\n",
    "\n",
    "1. Write a recursive function that traverses the list and prints out the key-value pairs stored in it. Check that your function works.\n",
    " "
   ]
  },
  {
   "cell_type": "code",
   "execution_count": 5,
   "metadata": {},
   "outputs": [
    {
     "data": {
      "text/plain": [
       "10-element Array{KVPair,1}:\n",
       " KVPair(1, 0.620777) \n",
       " KVPair(2, 0.448236) \n",
       " KVPair(3, 0.663057) \n",
       " KVPair(4, 0.648044) \n",
       " KVPair(5, 0.404944) \n",
       " KVPair(6, 0.318251) \n",
       " KVPair(7, 0.233307) \n",
       " KVPair(8, 0.219109) \n",
       " KVPair(9, 0.933849) \n",
       " KVPair(10, 0.896031)"
      ]
     },
     "execution_count": 5,
     "metadata": {},
     "output_type": "execute_result"
    }
   ],
   "source": [
    "n = 10\n",
    "x = rand(1, n)\n",
    "values = Array{KVPair}(n)\n",
    "for i in 1:n\n",
    "    values[i] = KVPair(i,x[i])\n",
    "end\n",
    "values"
   ]
  },
  {
   "cell_type": "code",
   "execution_count": 6,
   "metadata": {},
   "outputs": [
    {
     "data": {
      "text/plain": [
       "Nullable{LList}(LList(KVPair(1, 0.620777), LList(KVPair(2, 0.448236), LList(KVPair(3, 0.663057), LList(KVPair(4, 0.648044), LList(KVPair(5, 0.404944), LList(KVPair(6, 0.318251), LList(KVPair(7, 0.233307), LList(KVPair(8, 0.219109), LList(KVPair(9, 0.933849), LList(KVPair(10, 0.896031), #NULL)))))))))))"
      ]
     },
     "execution_count": 6,
     "metadata": {},
     "output_type": "execute_result"
    }
   ],
   "source": [
    "L = Nullable{LList}()\n",
    "List = buildLList(values)"
   ]
  },
  {
   "cell_type": "code",
   "execution_count": 7,
   "metadata": {},
   "outputs": [
    {
     "name": "stdout",
     "output_type": "stream",
     "text": [
      "A.data.key = 1\n",
      "A.data.key = 2\n",
      "A.data.key = 3\n",
      "A.data.key = 4\n",
      "A.data.key = 5\n",
      "A.data.key = 6\n",
      "A.data.key = 7\n",
      "A.data.key = 8\n",
      "A.data.key = 9\n",
      "A.data.key = 10\n"
     ]
    },
    {
     "data": {
      "text/plain": [
       "false"
      ]
     },
     "execution_count": 7,
     "metadata": {},
     "output_type": "execute_result"
    }
   ],
   "source": [
    "function recursion(list::Nullable{LList})\n",
    "    A = get(list)\n",
    "    @show A.data.key\n",
    "    \n",
    "    if( !isnull(A.next) )\n",
    "        return recursion(A.next)\n",
    "    else\n",
    "        return false\n",
    "    end\n",
    "end\n",
    "\n",
    "recursion(List)"
   ]
  },
  {
   "cell_type": "markdown",
   "metadata": {},
   "source": [
    "$2.$ Write a function search(list::Nullable{LList}, k::Int64) that searches an LList for the key k and returns the corresponding KVPair if it is present and a Nullable{KVPair} otherwise. "
   ]
  },
  {
   "cell_type": "code",
   "execution_count": 8,
   "metadata": {},
   "outputs": [
    {
     "data": {
      "text/plain": [
       "KVPair(7, 0.23330652141607455)"
      ]
     },
     "execution_count": 8,
     "metadata": {},
     "output_type": "execute_result"
    }
   ],
   "source": [
    "function search(llist::Nullable{LList}, k::Int64)\n",
    "    \n",
    "    if isnull(llist)\n",
    "        return\n",
    "    else\n",
    "        if get(llist).data.key == k\n",
    "            return get(llist).data\n",
    "        else\n",
    "            return search(get(llist).next, k)\n",
    "        end\n",
    "    end\n",
    "end\n",
    "\n",
    "search(List, 7)"
   ]
  },
  {
   "cell_type": "markdown",
   "metadata": {},
   "source": [
    "$3.$ Use Julia's @timed macro to measure how the typical computational cost of your search() function grows with the length of the list. "
   ]
  },
  {
   "cell_type": "code",
   "execution_count": 180,
   "metadata": {},
   "outputs": [
    {
     "data": {
      "text/plain": [
       "1.9548e-5"
      ]
     },
     "execution_count": 180,
     "metadata": {},
     "output_type": "execute_result"
    }
   ],
   "source": [
    "A=@timed(search(List,7))\n",
    "A[2]"
   ]
  },
  {
   "cell_type": "code",
   "execution_count": 9,
   "metadata": {},
   "outputs": [
    {
     "data": {
      "text/plain": [
       "10-element Array{Any,1}:\n",
       " 1.83e-6\n",
       " 1.58e-7\n",
       " 1.36e-7\n",
       " 1.19e-7\n",
       " 1.35e-7\n",
       " 1.19e-7\n",
       " 1.18e-7\n",
       " 1.2e-7 \n",
       " 1.17e-7\n",
       " 1.19e-7"
      ]
     },
     "execution_count": 9,
     "metadata": {},
     "output_type": "execute_result"
    }
   ],
   "source": [
    "arr1 = []\n",
    "\n",
    "for i = 1:n\n",
    "    #Q = rand(1,n)\n",
    "    tim1 = @timed(search(List,n))[2]\n",
    "    push!(arr1,tim1)\n",
    "end\n",
    "arr1"
   ]
  },
  {
   "cell_type": "code",
   "execution_count": 11,
   "metadata": {},
   "outputs": [
    {
     "data": {
      "text/html": [
       "<img src=\"data:image/png;base64,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\" />"
      ]
     },
     "execution_count": 11,
     "metadata": {},
     "output_type": "execute_result"
    }
   ],
   "source": [
    "n = 1:10\n",
    "plot(n, arr1)"
   ]
  },
  {
   "cell_type": "markdown",
   "metadata": {},
   "source": []
  },
  {
   "cell_type": "markdown",
   "metadata": {},
   "source": [
    "## Question 2: Interval membership\n",
    "\n",
    "The problem of interval membership is the following: given a set of contiguous intervals, \n",
    "\n",
    "$\\left\\{[x_0, x_1), [x_1, x_2), \\ldots, [x_{n-2}, x_{n-1}), [x_{n-1}, x_n)\\right\\}$\n",
    "\n",
    "spanning the interval $[x_1, x_n)$ and given a random number $x \\in [x_1, x_n)$, determine the interval in which $x$ lies. The standard numerical algorithm for stochastic simulation of continuous-time Markov processes (eg birth-death process, contact process, SIR model etc) requires solving an interval membership problem at each time step. It is therefore important to be able to solve it efficiently. Note, we cannot assume that all intervals are the same length.\n",
    "\n",
    "We can solve the interval membership problem with $n$ interval by a variant of linear search in $O(n)$ time. We will demonstrate below that it can be solved in $O(\\log\\, n)$ time using a variant of a data structure known as a Fenwick tree.\n",
    "\n",
    "**1)** Use Julia's random number generator to generate $n$ random interval lengths, $y_1, y_2, \\ldots, y_n$ between 0 and 1 as shown: "
   ]
  },
  {
   "cell_type": "code",
   "execution_count": 12,
   "metadata": {},
   "outputs": [
    {
     "data": {
      "text/plain": [
       "10-element Array{Float64,1}:\n",
       " 0.768448 \n",
       " 0.940515 \n",
       " 0.673959 \n",
       " 0.395453 \n",
       " 0.313244 \n",
       " 0.662555 \n",
       " 0.586022 \n",
       " 0.0521332\n",
       " 0.26864  \n",
       " 0.108871 "
      ]
     },
     "execution_count": 12,
     "metadata": {},
     "output_type": "execute_result"
    }
   ],
   "source": [
    "# Set number of intervals\n",
    "n=10\n",
    "# Seed for random number generator. \n",
    "# You should choose your own seed so that everyone does not end up with the same random sequences\n",
    "seed = 123 \n",
    "# Initialise the random number generator\n",
    "rng = MersenneTwister(seed)\n",
    "# Generate a sample of n uniform random numbers in the interval [0,1]\n",
    "X = rand(rng, n)\n"
   ]
  },
  {
   "cell_type": "markdown",
   "metadata": {},
   "source": [
    "The corresponding interval membership problem is constructed from the partial sums:\n",
    "$$x_i = \\sum_{j=1}^i y_j, \\ \\ \\ \\ \\ i=1,2,\\ldots n.$$ \n",
    "Using the objects defined in KVPair.jl and LList.jl, create an array of key-value pairs, $(i, x_i)$, associating each interval with the corresponding partial sum and store this array in a linked list. Print the list for a small value of $n$to verify that it works.\n",
    "\n",
    "**2)** Modify the search function you wrote above to write a recursive function\n",
    "\n",
    "$$\\text{intervalmembership(list::Nullable{LList}, x::Float64)}$$\n",
    "\n",
    "that takes the LList containing the list of partial sums and a random Float64 in the range $[0, x_n]$ as inputs and returns the KVPair corresponding to the interval in which $x$ lies. Verify that it works for small values of $n$ and use Julia's @timed macro to measure how the typical computational cost grows with $n$. \n",
    "\n",
    "**3)** The file FTree.jl defines a data structure implementing a variant of a Fenwick tree that can solve the interval membership problem as described in the lectures/notes. The function \n",
    "\n",
    "$$\\text{buildFTree(T::Nullable{FTree}, dataArray::Array{KVPair, 1})}$$\n",
    "\n",
    "takes the array of KVPairs containing the interval lengths as input, recursively constructs the tree and returns the FTree containing the correct key-value pairs (note a key of -1 is assigned to all non-leaf nodes)."
   ]
  },
  {
   "cell_type": "code",
   "execution_count": 13,
   "metadata": {},
   "outputs": [
    {
     "data": {
      "text/plain": [
       "10-element Array{KVPair,1}:\n",
       " KVPair(1, 0.768448)\n",
       " KVPair(2, 1.70896) \n",
       " KVPair(3, 2.38292) \n",
       " KVPair(4, 2.77837) \n",
       " KVPair(5, 3.09162) \n",
       " KVPair(6, 3.75417) \n",
       " KVPair(7, 4.3402)  \n",
       " KVPair(8, 4.39233) \n",
       " KVPair(9, 4.66097) \n",
       " KVPair(10, 4.76984)"
      ]
     },
     "execution_count": 13,
     "metadata": {},
     "output_type": "execute_result"
    }
   ],
   "source": [
    "val = Array{KVPair}(n)\n",
    "function part_sum(x)\n",
    "    ssum = 0.0\n",
    "    val = Array{KVPair}(n)\n",
    "\n",
    "    for i in 1:length(x)\n",
    "        ssum += x[i]\n",
    "        val[i] = KVPair(i,ssum)\n",
    "    end\n",
    "    return val\n",
    "end\n",
    "val=part_sum(X)"
   ]
  },
  {
   "cell_type": "code",
   "execution_count": 14,
   "metadata": {},
   "outputs": [
    {
     "data": {
      "text/plain": [
       "Nullable{LList}(LList(KVPair(1, 0.768448), LList(KVPair(2, 1.70896), LList(KVPair(3, 2.38292), LList(KVPair(4, 2.77837), LList(KVPair(5, 3.09162), LList(KVPair(6, 3.75417), LList(KVPair(7, 4.3402), LList(KVPair(8, 4.39233), LList(KVPair(9, 4.66097), LList(KVPair(10, 4.76984), #NULL)))))))))))"
      ]
     },
     "execution_count": 14,
     "metadata": {},
     "output_type": "execute_result"
    }
   ],
   "source": [
    "lists = buildLList(val)"
   ]
  },
  {
   "cell_type": "code",
   "execution_count": 15,
   "metadata": {},
   "outputs": [
    {
     "data": {
      "text/plain": [
       "KVPair(3, 2.382921370479824)"
      ]
     },
     "execution_count": 15,
     "metadata": {},
     "output_type": "execute_result"
    }
   ],
   "source": [
    "function intervalmembership(list::Nullable{LList}, x::Float64)\n",
    "\n",
    "\n",
    "    if x < get(list).data.value\n",
    "        return get(list).data\n",
    "    else \n",
    "        return intervalmembership(get(list).next, x)\n",
    "    end\n",
    "end\n",
    "\n",
    "intervalmembership(lists, 2.3)"
   ]
  },
  {
   "cell_type": "code",
   "execution_count": 16,
   "metadata": {},
   "outputs": [
    {
     "data": {
      "text/plain": [
       "5-element Array{Any,1}:\n",
       " 3.056e-6\n",
       " 3.09e-7 \n",
       " 1.52e-7 \n",
       " 1.07e-7 \n",
       " 9.2e-8  "
      ]
     },
     "execution_count": 16,
     "metadata": {},
     "output_type": "execute_result"
    }
   ],
   "source": [
    "n=5\n",
    "arr1_1 = []\n",
    "\n",
    "for i = 1:n\n",
    "    Xxx = rand(1,n)\n",
    "    time1 = @timed(intervalmembership(lists,Xxx[i]))[2]\n",
    "    push!(arr1_1,time1)\n",
    "end\n",
    "arr1_1"
   ]
  },
  {
   "cell_type": "code",
   "execution_count": 17,
   "metadata": {},
   "outputs": [
    {
     "data": {
      "text/plain": [
       "5-element Array{Any,1}:\n",
       " 1\n",
       " 2\n",
       " 3\n",
       " 4\n",
       " 5"
      ]
     },
     "execution_count": 17,
     "metadata": {},
     "output_type": "execute_result"
    }
   ],
   "source": [
    "arr1_2 = []\n",
    "\n",
    "for i = 1:n\n",
    "    push!(arr1_2, i)\n",
    "end\n",
    "\n",
    "arr1_2"
   ]
  },
  {
   "cell_type": "code",
   "execution_count": 18,
   "metadata": {},
   "outputs": [
    {
     "data": {
      "text/html": [
       "<img src=\"data:image/png;base64,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\" />"
      ]
     },
     "execution_count": 18,
     "metadata": {},
     "output_type": "execute_result"
    }
   ],
   "source": [
    "n1 = 1:5\n",
    "plot(n1,arr1_1, label=\"experimental\")\n",
    "plot!(n1,arr1_2.*arr1_1[1], label=\"theoretical\")\n",
    "xlabel!(\"steps\")\n",
    "ylabel!(\"time\")\n",
    "title!(\"Linear Search\")"
   ]
  },
  {
   "cell_type": "markdown",
   "metadata": {},
   "source": [
    "Write a recursive function\n",
    "\n",
    "$$\\text{intervalmembership(FT::Nullable{FTree}, x::Float64)}$$\n",
    "\n",
    "that takes the FTree containing the list of partial sums and a random Float64 in the range $[0, x_n]$ as \n",
    "inputs and returns the KVPair corresponding to the interval in which $x$ lies. Verify that it works for small values of $n$ and use Julia's @timed macro to compare how the typical computational compares to the above linear search version. Note it can sometimes be difficult to directly measure $O(\\log\\, n)$ growth in computation time since the problem size needs to become very large to register appreciable run times."
   ]
  },
  {
   "cell_type": "code",
   "execution_count": 19,
   "metadata": {},
   "outputs": [
    {
     "data": {
      "text/plain": [
       "Nullable{FTree}(FTree(KVPair(-1, 2.54075), FTree(KVPair(-1, 0.557313), FTree(KVPair(1, 0.111456), #NULL, #NULL), FTree(KVPair(2, 0.445857), #NULL, #NULL)), FTree(KVPair(-1, 1.98344), FTree(KVPair(3, 0.816509), #NULL, #NULL), FTree(KVPair(-1, 1.16693), FTree(KVPair(4, 0.422425), #NULL, #NULL), FTree(KVPair(5, 0.744505), #NULL, #NULL)))))"
      ]
     },
     "execution_count": 19,
     "metadata": {},
     "output_type": "execute_result"
    }
   ],
   "source": [
    "n=5\n",
    "seed = 123\n",
    "X = rand(1, n)\n",
    "sums = 0.0\n",
    "\n",
    "# Now calculate the array of partial sums\n",
    "values = Array{KVPair}(n)\n",
    "for i in 1:n\n",
    "    sums += X[i]\n",
    "    values[i] = KVPair(i,X[i])\n",
    "end\n",
    "T = Nullable{FTree}(FTree(KVPair(0,0.0)))\n",
    "T = buildFTree(T, values)\n",
    "#@show get(T).data.value\n",
    "#@show get(get(T).right).data.value\n"
   ]
  },
  {
   "cell_type": "code",
   "execution_count": 20,
   "metadata": {},
   "outputs": [
    {
     "data": {
      "text/plain": [
       "KVPair(2, 0.44585658360153535)"
      ]
     },
     "execution_count": 20,
     "metadata": {},
     "output_type": "execute_result"
    }
   ],
   "source": [
    "function int_mem_tree(FT::Nullable{FTree}, x::Float64)\n",
    "\n",
    "    node = get(FT)\n",
    "    \n",
    "    if isnull(node.left) && isnull(node.right)\n",
    "        return node.data\n",
    "    else\n",
    "        if x <= get(node.left).data.value\n",
    "            return int_mem_tree(node.left, x)\n",
    "        else\n",
    "            return int_mem_tree(node.right, x-get(node.left).data.value)\n",
    "        end\n",
    "    end\n",
    "    \n",
    "end\n",
    "\n",
    "int_mem_tree(T, 0.5)"
   ]
  },
  {
   "cell_type": "code",
   "execution_count": 21,
   "metadata": {},
   "outputs": [
    {
     "data": {
      "text/plain": [
       "5-element Array{Any,1}:\n",
       " 3.778e-6\n",
       " 3.51e-7 \n",
       " 3.58e-7 \n",
       " 1.23e-7 \n",
       " 1.23e-7 "
      ]
     },
     "execution_count": 21,
     "metadata": {},
     "output_type": "execute_result"
    }
   ],
   "source": [
    "arr2_1 = []\n",
    "\n",
    "for i = 1:n\n",
    "    W = rand(1,n)\n",
    "    time2 = @timed(int_mem_tree(T, W[i]))[2]\n",
    "    push!(arr2_1,time2)\n",
    "end\n",
    "arr2_1"
   ]
  },
  {
   "cell_type": "code",
   "execution_count": 22,
   "metadata": {},
   "outputs": [
    {
     "data": {
      "text/plain": [
       "5-element Array{Any,1}:\n",
       " 0.0     \n",
       " 0.693147\n",
       " 1.09861 \n",
       " 1.38629 \n",
       " 1.60944 "
      ]
     },
     "execution_count": 22,
     "metadata": {},
     "output_type": "execute_result"
    }
   ],
   "source": [
    "arr2_2 = []\n",
    "\n",
    "for i = 1:n\n",
    "    push!(arr2_2, log(i))\n",
    "end\n",
    "\n",
    "arr2_2"
   ]
  },
  {
   "cell_type": "code",
   "execution_count": 23,
   "metadata": {},
   "outputs": [
    {
     "data": {
      "text/html": [
       "<img src=\"data:image/png;base64,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\" />"
      ]
     },
     "execution_count": 23,
     "metadata": {},
     "output_type": "execute_result"
    }
   ],
   "source": [
    "n2 = 1:5\n",
    "plot(n2,arr2_1, label=\"experimental\")\n",
    "plot!(n2,arr2_2.*arr2_1[1], label=\"theoretical\")\n",
    "xlabel!(\"steps\")\n",
    "ylabel!(\"time\")\n",
    "title!(\"Fenwick Tree search\")"
   ]
  },
  {
   "cell_type": "markdown",
   "metadata": {},
   "source": [
    "## Question 3: Gillespie algorithm for heterogeneous diffusion\n",
    "\n",
    "The Gillespie algorithm is a dynamic Monte Carlo algorithm that generates statistically correct realisations of a continous time Markov process. See https://en.wikipedia.org/wiki/Gillespie_algorithm It is used heavily in stochastic simulation of chemical and biological reaction networks and population dynamics. In this question we use it to simulate one-dimensional diffusion of heterogeneous particles whose diffusion constants are independently drawn from an exponential distribution.\n",
    "\n",
    "The basic idea of the algorithm is as follows\n",
    "1. Create a list $\\left\\{(i, r_i), i=1,\\ldots M\\right\\}$,  of all possible transitions (events), $i$, that can occur in the system and the corresponding transition rates, $r_i$.\n",
    "2. Calculate the total rate\n",
    "$$R = \\sum_{i=1}^M r_i$$\n",
    "and divide the interval $[0, R]$ into $M$ intervals whose lengths are given by the $r_i$.\n",
    "3. Generate a uniform random number in the range $[0,R]$ and determine which interval it falls in. \n",
    "4. Perform the corresponding transition and update the time variable by an amount $\\Delta t = 1/R$.\n",
    "5. Repeat until the desired simulation time is reached.\n",
    "\n",
    "To be concrete, suppose with have $N$ particles on the interval $[-L, L]$ initially located at $x=0$. Each particle can hop a distance $\\Delta x$ to the left or to the right with equal probability. The rate of hopping is initially considered to be the same for all particles:\n",
    "\n",
    "$$ r_i = \\frac{D}{2}\\,\\frac{1}{(\\Delta x)^2} $$\n",
    "\n",
    "This choice ensures that in the continous limit ($\\Delta x \\to 0$, $N\\to \\infty$), the density of particles $c(x,t)$ on the line will satisfy the usual diffusion equation with diffusion coefficient $D$ (recall MA933):\n",
    "\n",
    "$$ \\frac{\\partial c}{\\partial t} = D \\frac{\\partial^2 c}{\\partial x^2}$$\n",
    "\n",
    "with initial condition $c(x,0) = \\delta(x)$.\n",
    "\n",
    "The steps of the algorithm then correspond to the following:\n",
    "1. There are $M= 2 N$ possible transitions at each step: each of $N$ particles can hop a distance $\\Delta x$ either left or right with the above rates. We index them as follows: events k=1:N correspond to particle k hopping to the right, events k=N+1:2N correspond to particle k-N hopping to the left.\n",
    "2. The total rate is \n",
    "$$ R = \\frac{D N}{(\\Delta x)^2}.$$\n",
    "3. Generate a uniform random number in the range $[0,R]$ and determine the index $k$ of particle to move and the direction.\n",
    "4. Update the position of particle $k$ accordingly.\n",
    "5. Repeat.\n",
    "\n",
    "The following piece of code implements the Gillespie algorithm for N=100, L=10, $\\Delta x = 0.1$ and $D=1$, converts the particle positions to particle density and compares to the solution of the diffusion equation on an unbounded domain at t=1 (we assume that L=10 is far enough from zero to be considered unbounded):\n",
    "\n",
    "$$c(x, t) = \\frac{1}{\\sqrt{2 \\pi D t}}\\, \\exp [-\\frac{1}{2}\\frac{x^2}{D t} ]$$"
   ]
  },
  {
   "cell_type": "code",
   "execution_count": 24,
   "metadata": {},
   "outputs": [
    {
     "data": {
      "text/html": [
       "<img src=\"data:image/png;base64,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\" />"
      ]
     },
     "execution_count": 24,
     "metadata": {},
     "output_type": "execute_result"
    }
   ],
   "source": [
    "L=10.0\n",
    "N=100\n",
    "Nx = 201\n",
    "dx = 2.0*L/(Nx-1)\n",
    "X = dx.*(-(Nx-1)/2:(Nx-1)/2)\n",
    "Y =zeros(Int64,N)\n",
    "D = 1.0\n",
    "t=0.0\n",
    "\n",
    "\n",
    "r = (D/2.0)/(dx*dx) \n",
    "totalRate = 2.0*N*r\n",
    "\n",
    "dt = 1.0/totalRate\n",
    "T=1.0\n",
    "\n",
    "# This is the main loop\n",
    "while t < T\n",
    "    # Pick an event\n",
    "    k = rand(1:2*N)\n",
    "    if k<=N\n",
    "        hop = 1\n",
    "        particleId = k\n",
    "    else\n",
    "        hop = -1\n",
    "        particleId=k-N\n",
    "    end\n",
    "    Y[particleId]+=hop\n",
    "    t+=dt\n",
    "end\n",
    "\n",
    "# Calculate the estimated density of particles\n",
    "P =zeros(Float64,length(X))\n",
    "for i in 1:length(Y)\n",
    "    P[Y[i]+Int64((Nx-1)/2)+1]+=1/(N * dx)\n",
    "end\n",
    "\n",
    "# Calculate the theoretical density and compare\n",
    "function normal(x, D, t)\n",
    "    return (1.0/sqrt(2.0*pi*D*t))*exp(-x*x/(2*D*t))\n",
    "end\n",
    "P1 = normal.(X, D, T)\n",
    "plot(X, P1, label=\"Analytic solution of diffusion equation\")\n",
    "plot!(X, P, label=\"Numerical estimate of particle density\")\n",
    "xlabel!(\"x\")\n",
    "ylabel!(\"Particle density, c(x,t)\")\n",
    "title!(\"Stochastic simulation of simple diffusion in 1-D\")"
   ]
  },
  {
   "cell_type": "markdown",
   "metadata": {},
   "source": [
    "**1)** The code above makes critical use of the fact that all intervals have the same width in order to decide which particle to move at each step. Suppose now that instead of being equal to $D$ for each particle, the diffusion coefficients are drawn from an exponential distribution with mean $D$:\n",
    "\n",
    "$$ P(x) = \\frac{1}{D} \\exp\\left(-\\frac{x}{D}\\right). $$\n",
    "\n",
    "Modify the code to account for this, using your code from Q2 above to solve the interval membership problem using linear search. You will need to use Julia's randexp() function to generate values for the diffusion coefficients. What is the largest value of $N$ you can simulate in a \"reasonable\" time?\n",
    "\n"
   ]
  },
  {
   "cell_type": "code",
   "execution_count": 25,
   "metadata": {},
   "outputs": [
    {
     "data": {
      "text/html": [
       "<img src=\"data:image/png;base64,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\" />"
      ]
     },
     "execution_count": 25,
     "metadata": {},
     "output_type": "execute_result"
    }
   ],
   "source": [
    "L=10.0\n",
    "N=100\n",
    "Nx = 201\n",
    "dx = 2.0*L/(Nx-1)\n",
    "X = dx.*(-(Nx-1)/2:(Nx-1)/2)\n",
    "Y =zeros(Int64,N)\n",
    "D = 1.0\n",
    "t=0.0\n",
    "\n",
    "D_exp = randexp(N)\n",
    "D_exp = [D_exp;D_exp] #to make it symmetrical\n",
    "rate_exp = (D_exp./2.0)./(dx*dx)\n",
    "totalRate = sum(rate_exp) \n",
    "\n",
    "dt = 1.0/totalRate\n",
    "T=1.0\n",
    "\n",
    "\n",
    "x = zeros(2*N)\n",
    "values = Array{KVPair}(2*N)\n",
    "for i=1:2*N\n",
    "    for j=1:i\n",
    "        x[i]=x[i]+rate_exp[j]\n",
    "    end\n",
    "    values[i]=KVPair(i,x[i])\n",
    "end\n",
    "ListS = Nullable{LList}()\n",
    "ListS = buildLList(values)\n",
    "\n",
    "\n",
    "# This is the main loop\n",
    "while t < T\n",
    "    # Pick an event\n",
    "    findRate = rand()*totalRate\n",
    "    #node = intervalmembership(ListS,findRate)\n",
    "    k = intervalmembership(ListS,findRate).key\n",
    "    if k<=N\n",
    "        hop = 1\n",
    "        particleId = k\n",
    "    else\n",
    "        hop = -1\n",
    "        particleId=k-N\n",
    "    end\n",
    "    Y[particleId]+=hop\n",
    "    t+=dt\n",
    "end\n",
    "\n",
    "# Calculate the estimated density of particles\n",
    "P =zeros(Float64,length(X))\n",
    "for i in 1:length(Y)\n",
    "    P[Y[i]+Int64((Nx-1)/2)+1]+=1/(N * dx)\n",
    "end\n",
    "\n",
    "# Calculate the theoretical density and compare\n",
    "function normal(x, D, t)\n",
    "    return (1.0/sqrt(2.0*pi*D*t))*exp(-x*x/(2*D*t))\n",
    "end\n",
    "\n",
    "P1 = normal.(X, D, T)\n",
    "plot(X, P1, label=\"Analytic solution of diffusion equation\")\n",
    "plot!(X, P, label=\"Numerical estimate of particle density\")\n",
    "xlabel!(\"x\")\n",
    "ylabel!(\"Particle density, c(x,t)\")\n",
    "title!(\"Linear search diffusion\")\n"
   ]
  },
  {
   "cell_type": "markdown",
   "metadata": {},
   "source": [
    "**2)** Try again using your Fenwick tree from Q2 to solve the interval membership problem and compare. What is the largest value of $N$ you can simulate now?"
   ]
  },
  {
   "cell_type": "code",
   "execution_count": 1,
   "metadata": {},
   "outputs": [
    {
     "ename": "LoadError",
     "evalue": "\u001b[91mUndefVarError: totalRate not defined\u001b[39m",
     "output_type": "error",
     "traceback": [
      "\u001b[91mUndefVarError: totalRate not defined\u001b[39m",
      "",
      "Stacktrace:",
      " [1] \u001b[1minclude_string\u001b[22m\u001b[22m\u001b[1m(\u001b[22m\u001b[22m::String, ::String\u001b[1m)\u001b[22m\u001b[22m at \u001b[1m./loading.jl:522\u001b[22m\u001b[22m"
     ]
    }
   ],
   "source": [
    "L=10.0\n",
    "N=100\n",
    "Nx = 201\n",
    "dx = 2.0*L/(Nx-1)\n",
    "X = dx.*(-(Nx-1)/2:(Nx-1)/2)\n",
    "Y1 =zeros(Int64,N)\n",
    "D = 1.0\n",
    "t=0.0\n",
    "\n",
    "dt = 1.0/totalRate\n",
    "T=1.0\n",
    "\n",
    "\n",
    "Tr = Nullable{FTree}(FTree(KVPair(0,0.0)))\n",
    "Tr = buildFTree(Tr, values)\n",
    "\n",
    "\n",
    "# This is the main loop\n",
    "while t < T\n",
    "    findRate = rand()*totalRate\n",
    "    k = int_mem_tree(Tr,findRate).key\n",
    "    if k<=N\n",
    "        hop = 1\n",
    "        particleId = k\n",
    "    else\n",
    "        hop = -1\n",
    "        particleId=k-N\n",
    "    end\n",
    "    Y1[particleId]+=hop\n",
    "    t+=dt\n",
    "end\n",
    "\n",
    "\n",
    "# Calculate the estimated density of particles\n",
    "P2 =zeros(201)\n",
    "for i in 1:length(Y)\n",
    "    P2[Y1[i]+Int64((Nx-1)/2)+1]+=1/(N * dx)\n",
    "end\n",
    "\n",
    "\n",
    "# Calculate the theoretical density and compare\n",
    "function normal(x, D, t)\n",
    "    return (1.0/sqrt(2.0*pi*D*t))*exp(-x*x/(2*D*t))\n",
    "end\n",
    "\n",
    "P1 = normal.(X, D, T)\n",
    "plot(X, P1, label=\"Analytic solution of diffusion equation\")\n",
    "plot!(X, P2, label=\"Numerical estimate of particle density\")\n",
    "xlabel!(\"x\")\n",
    "ylabel!(\"Particle density, c(x,t)\")\n",
    "title!(\"Stochastic simulation of simple diffusion in 1-D\")"
   ]
  },
  {
   "cell_type": "code",
   "execution_count": null,
   "metadata": {
    "collapsed": true
   },
   "outputs": [],
   "source": []
  },
  {
   "cell_type": "markdown",
   "metadata": {},
   "source": [
    "**3)** Show analytically that the solution of the heterogenous diffusion problem is\n",
    "\n",
    "$$ c(x,t) = \\frac{\\exp \\left(-\\sqrt{\\frac{2}{D\\,t}}\\, |x| \\right)}{\\sqrt{2\\, D\\, t}}$$\n",
    "\n",
    "You will probably need the integral formula (Formula 3.325 of Gradshteyn and Rizhik, 7th Ed.)\n",
    "\n",
    "$$ \\int_0^\\infty \\exp\\left(-a\\,x^2 - \\frac{b}{x^2} \\right)\\, dx =  \\frac{1}{2}\\,\\sqrt{\\frac{\\pi}{a}}\\,\\exp\\left(-2 \\sqrt{a\\,b} \\right).$$\n",
    "Use this formula to validate your numerical results.\n"
   ]
  },
  {
   "cell_type": "markdown",
   "metadata": {},
   "source": [
    "$$c(x,t)=\\frac{1}{\\sqrt{2\\pi Dt}}\\exp(-{\\frac{x^2}{2Dt}}) $$\n",
    "\n",
    "$$<c(x,t)>  = \\int_0^\\infty dy \\frac{1}{D}\\exp(\\frac{-y}{D})\\frac{1}{\\sqrt{2\\pi yt}}\\exp(\\frac{-x^2}{2yt}) = \\frac{1}{D\\sqrt{2\\pi t}} \\int_0^\\infty dy \\frac{1}{y^{1/2}} \\exp(\\frac{-y}{D}) \\exp(\\frac{-x^2}{2yt}) = \n",
    "\\frac{1}{D\\sqrt{2\\pi t}} \\int_0^\\infty dy \\frac{1}{y^{1/2}} \\exp(-\\frac{y}{D}-\\frac{x^2}{2yt}) $$\n",
    "\n",
    "\n",
    "By using the substitution $u=y^{1/2}$ and $du = \\frac{1}{2y^{1/2}}dy $\n",
    "\n",
    "\n",
    "$$ <c(x,t)> = \\frac{2}{D\\sqrt{2\\pi t}} \\int_0^\\infty \\exp(-\\frac{u^2}{D} - \\frac{x^2}{2t}\\frac{1}{u^2}) du = \\frac{2}{D \\sqrt{2\\pi t}}\\frac{\\sqrt{\\pi D}}{2} \\exp(-2\\sqrt{\\frac{x^2}{2Dt}}) = \\frac{1}{\\sqrt{2Dt}} \\exp(-\\sqrt{\\frac{2}{Dt}} |x|) $$\n",
    "\n",
    "$$ <c(x,t)> = \\frac{1}{\\sqrt{2Dt}} \\exp(-\\sqrt{\\frac{2}{Dt}} |x|) $$"
   ]
  },
  {
   "cell_type": "markdown",
   "metadata": {},
   "source": []
  },
  {
   "cell_type": "code",
   "execution_count": null,
   "metadata": {
    "collapsed": true
   },
   "outputs": [],
   "source": []
  }
 ],
 "metadata": {
  "kernelspec": {
   "display_name": "Julia 0.6.1",
   "language": "julia",
   "name": "julia-0.6"
  },
  "language_info": {
   "file_extension": ".jl",
   "mimetype": "application/julia",
   "name": "julia",
   "version": "0.6.1"
  }
 },
 "nbformat": 4,
 "nbformat_minor": 1
}
