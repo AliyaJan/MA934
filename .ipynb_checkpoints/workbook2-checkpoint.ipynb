{
 "cells": [
  {
   "cell_type": "markdown",
   "metadata": {},
   "source": [
    "# MA934  Numerical Methods - Workbook 2"
   ]
  },
  {
   "cell_type": "code",
   "execution_count": 1,
   "metadata": {
    "collapsed": false
   },
   "outputs": [
    {
     "data": {
      "text/plain": [
       "buildFTree (generic function with 1 method)"
      ]
     },
     "execution_count": 1,
     "metadata": {},
     "output_type": "execute_result"
    }
   ],
   "source": [
    "using Plots\n",
    "pyplot()\n",
    "include(\"KVPair.jl\")\n",
    "include(\"LList.jl\")\n",
    "include(\"FTree.jl\")"
   ]
  },
  {
   "cell_type": "markdown",
   "metadata": {},
   "source": [
    "## Question 1: Linear search using a linked list\n",
    "\n",
    "The file KVPair.jl defines a simple data structure to represent an (Int64, Float64) key-value pair. \n",
    "\n",
    "The file LList.jl defines a linked list that stores a KVPair at each node. Many languages have a keyword NULL. A pointer to any object can take the value NULL to indicate that it doesn't point to anything. NULL is often used to denote the end of a list, the leaves of a tree etc. Julia does not support NULL pointers. This causes a difficulty in implementing recursive data structures. Instead Julia provides a parametric data type Nullable{T} to represent missing values. It is possible to use Nullable types to define recursive data structures although some of the resulting definitions are a bit clumsy. I'm not sure that this is the canonical way to implement structural recursion in Julia. \n",
    "\n",
    "The following points are important:\n",
    "\n",
    "* if a variable has type Nullable{T} then it can either contain a value of type T or nothing (ie a missing value). \n",
    "* the function isnull(x) checks whether a nullable type x has a value or not. \n",
    "* the function get(x) returns the actual value (of type T) contained in a nullable type x.\n",
    "\n",
    "Much more information can be found at https://docs.julialang.org/en/stable/manual/types/\n",
    "\n",
    "The function \n",
    "\n",
    "> buildLList(dataArray::Array{KVPair, 1})\n",
    "\n",
    "takes an array of KVPair objects as input and returns an LList containing these KVPairs. This is illustrated in the code below.\n",
    "\n",
    "1. Write a recursive function that traverses the list and prints out the key-value pairs stored in it. Check that your function works.\n",
    " "
   ]
  },
  {
   "cell_type": "code",
   "execution_count": 2,
   "metadata": {
    "collapsed": false
   },
   "outputs": [
    {
     "data": {
      "text/plain": [
       "10-element Array{KVPair,1}:\n",
       " KVPair(1, 0.728496) \n",
       " KVPair(2, 0.712227) \n",
       " KVPair(3, 0.816131) \n",
       " KVPair(4, 0.798479) \n",
       " KVPair(5, 0.387267) \n",
       " KVPair(6, 0.646962) \n",
       " KVPair(7, 0.224677) \n",
       " KVPair(8, 0.200653) \n",
       " KVPair(9, 0.229901) \n",
       " KVPair(10, 0.135006)"
      ]
     },
     "execution_count": 2,
     "metadata": {},
     "output_type": "execute_result"
    }
   ],
   "source": [
    "n = 10\n",
    "x = rand(1, n)\n",
    "values = Array{KVPair}(n)\n",
    "for i in 1:n\n",
    "    values[i] = KVPair(i,x[i])\n",
    "end\n",
    "values\n"
   ]
  },
  {
   "cell_type": "code",
   "execution_count": 3,
   "metadata": {
    "collapsed": false
   },
   "outputs": [
    {
     "data": {
      "text/plain": [
       "Nullable{LList}(LList(KVPair(1, 0.728496), LList(KVPair(2, 0.712227), LList(KVPair(3, 0.816131), LList(KVPair(4, 0.798479), LList(KVPair(5, 0.387267), LList(KVPair(6, 0.646962), LList(KVPair(7, 0.224677), LList(KVPair(8, 0.200653), LList(KVPair(9, 0.229901), LList(KVPair(10, 0.135006), #NULL)))))))))))"
      ]
     },
     "execution_count": 3,
     "metadata": {},
     "output_type": "execute_result"
    }
   ],
   "source": [
    "L = Nullable{LList}()\n",
    "List = buildLList(values)"
   ]
  },
  {
   "cell_type": "code",
   "execution_count": 4,
   "metadata": {
    "collapsed": false
   },
   "outputs": [
    {
     "name": "stdout",
     "output_type": "stream",
     "text": [
      "A.data.key = 1\n",
      "A.data.key = 2\n",
      "A.data.key = 3\n",
      "A.data.key = 4\n",
      "A.data.key = 5\n",
      "A.data.key = 6\n",
      "A.data.key = 7\n",
      "A.data.key = 8\n",
      "A.data.key = 9\n",
      "A.data.key = 10\n"
     ]
    },
    {
     "data": {
      "text/plain": [
       "false"
      ]
     },
     "execution_count": 4,
     "metadata": {},
     "output_type": "execute_result"
    }
   ],
   "source": [
    "function recursion(list::Nullable{LList})\n",
    "    A = get(list)\n",
    "    @show A.data.key\n",
    "    \n",
    "    if( !isnull(A.next) )\n",
    "        return recursion(A.next)\n",
    "    else\n",
    "        return false\n",
    "    end\n",
    "end\n",
    "\n",
    "recursion(List)"
   ]
  },
  {
   "cell_type": "markdown",
   "metadata": {},
   "source": [
    "<font color=blue>\n",
    "You should use the print function instead of the @show macro. Also, why didn't you print the corresponding values too?\n",
    "It is not clear why a print function should return a boolean value - most people would just return void.\n",
    "</font>"
   ]
  },
  {
   "cell_type": "markdown",
   "metadata": {},
   "source": [
    "$2.$ Write a function search(list::Nullable{LList}, k::Int64) that searches an LList for the key k and returns the corresponding KVPair if it is present and a Nullable{KVPair} otherwise. "
   ]
  },
  {
   "cell_type": "code",
   "execution_count": 5,
   "metadata": {
    "collapsed": false
   },
   "outputs": [
    {
     "data": {
      "text/plain": [
       "KVPair(7, 0.22467726361824103)"
      ]
     },
     "execution_count": 5,
     "metadata": {},
     "output_type": "execute_result"
    }
   ],
   "source": [
    "function search(llist::Nullable{LList}, k::Int64)\n",
    "    \n",
    "    if isnull(llist)\n",
    "        return\n",
    "    else\n",
    "        if get(llist).data.key == k\n",
    "            return get(llist).data\n",
    "        else\n",
    "            return search(get(llist).next, k)\n",
    "        end\n",
    "    end\n",
    "end\n",
    "\n",
    "search(List, 7)"
   ]
  },
  {
   "cell_type": "markdown",
   "metadata": {},
   "source": [
    "<font color=blue>\n",
    "This looks good.\n",
    "</font>"
   ]
  },
  {
   "cell_type": "markdown",
   "metadata": {},
   "source": [
    "$3.$ Use Julia's @timed macro to measure how the typical computational cost of your search() function grows with the length of the list. "
   ]
  },
  {
   "cell_type": "code",
   "execution_count": 6,
   "metadata": {
    "collapsed": false
   },
   "outputs": [
    {
     "data": {
      "text/plain": [
       "1.2718e-5"
      ]
     },
     "execution_count": 6,
     "metadata": {},
     "output_type": "execute_result"
    }
   ],
   "source": [
    "A=@timed(search(List,7))\n",
    "A[2]"
   ]
  },
  {
   "cell_type": "code",
   "execution_count": 7,
   "metadata": {
    "collapsed": false
   },
   "outputs": [
    {
     "data": {
      "text/plain": [
       "10-element Array{Any,1}:\n",
       " 1.808e-6\n",
       " 3.3e-7  \n",
       " 2.15e-7 \n",
       " 1.67e-7 \n",
       " 1.63e-7 \n",
       " 1.65e-7 \n",
       " 1.63e-7 \n",
       " 1.62e-7 \n",
       " 1.62e-7 \n",
       " 1.63e-7 "
      ]
     },
     "execution_count": 7,
     "metadata": {},
     "output_type": "execute_result"
    }
   ],
   "source": [
    "arr1 = []\n",
    "\n",
    "for i = 1:n\n",
    "    #Q = rand(1,n)\n",
    "    tim1 = @timed(search(List,n))[2]\n",
    "    push!(arr1,tim1)\n",
    "end\n",
    "arr1"
   ]
  },
  {
   "cell_type": "markdown",
   "metadata": {},
   "source": [
    "<font color=blue>\n",
    "This is not correct - you are not varying the length of the list. It seems you are trying to measure the time required\n",
    "to find the $n^{th}$ element of a list of fixed length? Unclear what the plot means - it has no labels or axes.\n",
    "</font>"
   ]
  },
  {
   "cell_type": "code",
   "execution_count": 8,
   "metadata": {
    "collapsed": false
   },
   "outputs": [
    {
     "data": {
      "text/html": [
       "<img src=\"data:image/png;base64,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\" />"
      ]
     },
     "execution_count": 8,
     "metadata": {},
     "output_type": "execute_result"
    }
   ],
   "source": [
    "n = 1:10\n",
    "plot(n, arr1)"
   ]
  },
  {
   "cell_type": "markdown",
   "metadata": {},
   "source": [
    "<font color=blue>\n",
    "8/15\n",
    "</font>"
   ]
  },
  {
   "cell_type": "markdown",
   "metadata": {},
   "source": []
  },
  {
   "cell_type": "markdown",
   "metadata": {},
   "source": [
    "## Question 2: Interval membership\n",
    "\n",
    "The problem of interval membership is the following: given a set of contiguous intervals, \n",
    "\n",
    "$\\left\\{[x_0, x_1), [x_1, x_2), \\ldots, [x_{n-2}, x_{n-1}), [x_{n-1}, x_n)\\right\\}$\n",
    "\n",
    "spanning the interval $[x_1, x_n)$ and given a random number $x \\in [x_1, x_n)$, determine the interval in which $x$ lies. The standard numerical algorithm for stochastic simulation of continuous-time Markov processes (eg birth-death process, contact process, SIR model etc) requires solving an interval membership problem at each time step. It is therefore important to be able to solve it efficiently. Note, we cannot assume that all intervals are the same length.\n",
    "\n",
    "We can solve the interval membership problem with $n$ interval by a variant of linear search in $O(n)$ time. We will demonstrate below that it can be solved in $O(\\log\\, n)$ time using a variant of a data structure known as a Fenwick tree.\n",
    "\n",
    "**1)** Use Julia's random number generator to generate $n$ random interval lengths, $y_1, y_2, \\ldots, y_n$ between 0 and 1 as shown: "
   ]
  },
  {
   "cell_type": "code",
   "execution_count": 9,
   "metadata": {
    "collapsed": false
   },
   "outputs": [
    {
     "data": {
      "text/plain": [
       "10-element Array{Float64,1}:\n",
       " 0.768448 \n",
       " 0.940515 \n",
       " 0.673959 \n",
       " 0.395453 \n",
       " 0.313244 \n",
       " 0.662555 \n",
       " 0.586022 \n",
       " 0.0521332\n",
       " 0.26864  \n",
       " 0.108871 "
      ]
     },
     "execution_count": 9,
     "metadata": {},
     "output_type": "execute_result"
    }
   ],
   "source": [
    "# Set number of intervals\n",
    "n=10\n",
    "# Seed for random number generator. \n",
    "# You should choose your own seed so that everyone does not end up with the same random sequences\n",
    "seed = 123 \n",
    "# Initialise the random number generator\n",
    "rng = MersenneTwister(seed)\n",
    "# Generate a sample of n uniform random numbers in the interval [0,1]\n",
    "X = rand(rng, n)\n"
   ]
  },
  {
   "cell_type": "markdown",
   "metadata": {},
   "source": [
    "The corresponding interval membership problem is constructed from the partial sums:\n",
    "$$x_i = \\sum_{j=1}^i y_j, \\ \\ \\ \\ \\ i=1,2,\\ldots n.$$ \n",
    "Using the objects defined in KVPair.jl and LList.jl, create an array of key-value pairs, $(i, x_i)$, associating each interval with the corresponding partial sum and store this array in a linked list. Print the list for a small value of $n$to verify that it works.\n",
    "\n",
    "**2)** Modify the search function you wrote above to write a recursive function\n",
    "\n",
    "$$\\text{intervalmembership(list::Nullable{LList}, x::Float64)}$$\n",
    "\n",
    "that takes the LList containing the list of partial sums and a random Float64 in the range $[0, x_n]$ as inputs and returns the KVPair corresponding to the interval in which $x$ lies. Verify that it works for small values of $n$ and use Julia's @timed macro to measure how the typical computational cost grows with $n$. \n",
    "\n",
    "**3)** The file FTree.jl defines a data structure implementing a variant of a Fenwick tree that can solve the interval membership problem as described in the lectures/notes. The function \n",
    "\n",
    "$$\\text{buildFTree(T::Nullable{FTree}, dataArray::Array{KVPair, 1})}$$\n",
    "\n",
    "takes the array of KVPairs containing the interval lengths as input, recursively constructs the tree and returns the FTree containing the correct key-value pairs (note a key of -1 is assigned to all non-leaf nodes)."
   ]
  },
  {
   "cell_type": "code",
   "execution_count": 10,
   "metadata": {
    "collapsed": false
   },
   "outputs": [
    {
     "data": {
      "text/plain": [
       "10-element Array{KVPair,1}:\n",
       " KVPair(1, 0.768448)\n",
       " KVPair(2, 1.70896) \n",
       " KVPair(3, 2.38292) \n",
       " KVPair(4, 2.77837) \n",
       " KVPair(5, 3.09162) \n",
       " KVPair(6, 3.75417) \n",
       " KVPair(7, 4.3402)  \n",
       " KVPair(8, 4.39233) \n",
       " KVPair(9, 4.66097) \n",
       " KVPair(10, 4.76984)"
      ]
     },
     "execution_count": 10,
     "metadata": {},
     "output_type": "execute_result"
    }
   ],
   "source": [
    "val = Array{KVPair}(n)\n",
    "function part_sum(x)\n",
    "    ssum = 0.0\n",
    "    val = Array{KVPair}(n)\n",
    "\n",
    "    for i in 1:length(x)\n",
    "        ssum += x[i]\n",
    "        val[i] = KVPair(i,ssum)\n",
    "    end\n",
    "    return val\n",
    "end\n",
    "val=part_sum(X)"
   ]
  },
  {
   "cell_type": "code",
   "execution_count": 11,
   "metadata": {
    "collapsed": false
   },
   "outputs": [
    {
     "data": {
      "text/plain": [
       "Nullable{LList}(LList(KVPair(1, 0.768448), LList(KVPair(2, 1.70896), LList(KVPair(3, 2.38292), LList(KVPair(4, 2.77837), LList(KVPair(5, 3.09162), LList(KVPair(6, 3.75417), LList(KVPair(7, 4.3402), LList(KVPair(8, 4.39233), LList(KVPair(9, 4.66097), LList(KVPair(10, 4.76984), #NULL)))))))))))"
      ]
     },
     "execution_count": 11,
     "metadata": {},
     "output_type": "execute_result"
    }
   ],
   "source": [
    "lists = buildLList(val)"
   ]
  },
  {
   "cell_type": "code",
   "execution_count": 12,
   "metadata": {
    "collapsed": false
   },
   "outputs": [
    {
     "data": {
      "text/plain": [
       "KVPair(3, 2.382921370479824)"
      ]
     },
     "execution_count": 12,
     "metadata": {},
     "output_type": "execute_result"
    }
   ],
   "source": [
    "function intervalmembership(list::Nullable{LList}, x::Float64)\n",
    "\n",
    "\n",
    "    if x < get(list).data.value\n",
    "        return get(list).data\n",
    "    else \n",
    "        return intervalmembership(get(list).next, x)\n",
    "    end\n",
    "end\n",
    "\n",
    "intervalmembership(lists, 2.3)"
   ]
  },
  {
   "cell_type": "markdown",
   "metadata": {},
   "source": [
    "<font color=blue>\n",
    "This is correct.\n",
    "</font>"
   ]
  },
  {
   "cell_type": "code",
   "execution_count": 13,
   "metadata": {
    "collapsed": false
   },
   "outputs": [
    {
     "data": {
      "text/plain": [
       "5-element Array{Any,1}:\n",
       " 5.8612e-5\n",
       " 3.25e-7  \n",
       " 1.44e-7  \n",
       " 1.26e-7  \n",
       " 1.27e-7  "
      ]
     },
     "execution_count": 13,
     "metadata": {},
     "output_type": "execute_result"
    }
   ],
   "source": [
    "n=5\n",
    "arr1_1 = []\n",
    "\n",
    "for i = 1:n\n",
    "    Xxx = rand(1,n)\n",
    "    time1 = @timed(intervalmembership(lists,Xxx[i]))[2]\n",
    "    push!(arr1_1,time1)\n",
    "end\n",
    "arr1_1"
   ]
  },
  {
   "cell_type": "code",
   "execution_count": 14,
   "metadata": {
    "collapsed": false
   },
   "outputs": [
    {
     "data": {
      "text/plain": [
       "5-element Array{Any,1}:\n",
       " 1\n",
       " 2\n",
       " 3\n",
       " 4\n",
       " 5"
      ]
     },
     "execution_count": 14,
     "metadata": {},
     "output_type": "execute_result"
    }
   ],
   "source": [
    "arr1_2 = []\n",
    "\n",
    "for i = 1:n\n",
    "    push!(arr1_2, i)\n",
    "end\n",
    "\n",
    "arr1_2"
   ]
  },
  {
   "cell_type": "code",
   "execution_count": 15,
   "metadata": {
    "collapsed": false
   },
   "outputs": [
    {
     "data": {
      "text/html": [
       "<img src=\"data:image/png;base64,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\" />"
      ]
     },
     "execution_count": 15,
     "metadata": {},
     "output_type": "execute_result"
    }
   ],
   "source": [
    "n1 = 1:5\n",
    "plot(n1,arr1_1, label=\"experimental\")\n",
    "plot!(n1,arr1_2.*arr1_1[1], label=\"theoretical\")\n",
    "xlabel!(\"steps\")\n",
    "ylabel!(\"time\")\n",
    "title!(\"Linear Search\")"
   ]
  },
  {
   "cell_type": "markdown",
   "metadata": {},
   "source": [
    "<font color=blue>\n",
    "You seem to have made the same error similar to the above. Your list of partial sums is of fixed length. Also, you \n",
    "are running your interval membership function using random numbers between 0 and 1 rather than between 0 and the total interval length (you need to re-read what the question is asking you to do):\n",
    "</font>"
   ]
  },
  {
   "cell_type": "code",
   "execution_count": 17,
   "metadata": {
    "collapsed": false
   },
   "outputs": [
    {
     "data": {
      "text/plain": [
       "1×5 Array{Float64,2}:\n",
       " 0.352111  0.875338  0.596717  0.220307  0.581439"
      ]
     },
     "execution_count": 17,
     "metadata": {},
     "output_type": "execute_result"
    }
   ],
   "source": [
    "Xxx=rand(1,n)"
   ]
  },
  {
   "cell_type": "markdown",
   "metadata": {},
   "source": [
    "Write a recursive function\n",
    "\n",
    "$$\\text{intervalmembership(FT::Nullable{FTree}, x::Float64)}$$\n",
    "\n",
    "that takes the FTree containing the list of partial sums and a random Float64 in the range $[0, x_n]$ as \n",
    "inputs and returns the KVPair corresponding to the interval in which $x$ lies. Verify that it works for small values of $n$ and use Julia's @timed macro to compare how the typical computational compares to the above linear search version. Note it can sometimes be difficult to directly measure $O(\\log\\, n)$ growth in computation time since the problem size needs to become very large to register appreciable run times."
   ]
  },
  {
   "cell_type": "code",
   "execution_count": 18,
   "metadata": {
    "collapsed": false
   },
   "outputs": [
    {
     "data": {
      "text/plain": [
       "Nullable{FTree}(FTree(KVPair(-1, 2.39254), FTree(KVPair(-1, 0.713085), FTree(KVPair(1, 0.182989), #NULL, #NULL), FTree(KVPair(2, 0.530096), #NULL, #NULL)), FTree(KVPair(-1, 1.67946), FTree(KVPair(3, 0.156812), #NULL, #NULL), FTree(KVPair(-1, 1.52264), FTree(KVPair(4, 0.695331), #NULL, #NULL), FTree(KVPair(5, 0.827312), #NULL, #NULL)))))"
      ]
     },
     "execution_count": 18,
     "metadata": {},
     "output_type": "execute_result"
    }
   ],
   "source": [
    "n=5\n",
    "seed = 123\n",
    "X = rand(1, n)\n",
    "sums = 0.0\n",
    "\n",
    "# Now calculate the array of partial sums\n",
    "values = Array{KVPair}(n)\n",
    "for i in 1:n\n",
    "    sums += X[i]\n",
    "    values[i] = KVPair(i,X[i])\n",
    "end\n",
    "T = Nullable{FTree}(FTree(KVPair(0,0.0)))\n",
    "T = buildFTree(T, values)\n",
    "#@show get(T).data.value\n",
    "#@show get(get(T).right).data.value\n"
   ]
  },
  {
   "cell_type": "code",
   "execution_count": 19,
   "metadata": {
    "collapsed": false
   },
   "outputs": [
    {
     "data": {
      "text/plain": [
       "KVPair(2, 0.5300961092218328)"
      ]
     },
     "execution_count": 19,
     "metadata": {},
     "output_type": "execute_result"
    }
   ],
   "source": [
    "function int_mem_tree(FT::Nullable{FTree}, x::Float64)\n",
    "\n",
    "    node = get(FT)\n",
    "    \n",
    "    if isnull(node.left) && isnull(node.right)\n",
    "        return node.data\n",
    "    else\n",
    "        if x <= get(node.left).data.value\n",
    "            return int_mem_tree(node.left, x)\n",
    "        else\n",
    "            return int_mem_tree(node.right, x-get(node.left).data.value)\n",
    "        end\n",
    "    end\n",
    "    \n",
    "end\n",
    "\n",
    "int_mem_tree(T, 0.5)"
   ]
  },
  {
   "cell_type": "markdown",
   "metadata": {},
   "source": [
    "<font color=blue>\n",
    "This looks correct but you should test it on more values to be sure:\n",
    "</font>"
   ]
  },
  {
   "cell_type": "code",
   "execution_count": 22,
   "metadata": {
    "collapsed": false
   },
   "outputs": [
    {
     "data": {
      "text/plain": [
       "3-element Array{KVPair,1}:\n",
       " KVPair(2, 0.530096)\n",
       " KVPair(4, 0.695331)\n",
       " KVPair(5, 0.827312)"
      ]
     },
     "execution_count": 22,
     "metadata": {},
     "output_type": "execute_result"
    }
   ],
   "source": [
    "[int_mem_tree(T, 0.25), int_mem_tree(T, 1.5), int_mem_tree(T, 2.5)]"
   ]
  },
  {
   "cell_type": "code",
   "execution_count": 23,
   "metadata": {
    "collapsed": false
   },
   "outputs": [
    {
     "data": {
      "text/plain": [
       "5-element Array{Any,1}:\n",
       " 3.1787e-5\n",
       " 5.41e-7  \n",
       " 2.33e-7  \n",
       " 1.98e-7  \n",
       " 2.15e-7  "
      ]
     },
     "execution_count": 23,
     "metadata": {},
     "output_type": "execute_result"
    }
   ],
   "source": [
    "arr2_1 = []\n",
    "\n",
    "for i = 1:n\n",
    "    W = rand(1,n)\n",
    "    time2 = @timed(int_mem_tree(T, W[i]))[2]\n",
    "    push!(arr2_1,time2)\n",
    "end\n",
    "arr2_1"
   ]
  },
  {
   "cell_type": "code",
   "execution_count": 24,
   "metadata": {
    "collapsed": false
   },
   "outputs": [
    {
     "data": {
      "text/plain": [
       "5-element Array{Any,1}:\n",
       " 0.0     \n",
       " 0.693147\n",
       " 1.09861 \n",
       " 1.38629 \n",
       " 1.60944 "
      ]
     },
     "execution_count": 24,
     "metadata": {},
     "output_type": "execute_result"
    }
   ],
   "source": [
    "arr2_2 = []\n",
    "\n",
    "for i = 1:n\n",
    "    push!(arr2_2, log(i))\n",
    "end\n",
    "\n",
    "arr2_2"
   ]
  },
  {
   "cell_type": "code",
   "execution_count": 25,
   "metadata": {
    "collapsed": false
   },
   "outputs": [
    {
     "data": {
      "text/html": [
       "<img src=\"data:image/png;base64,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\" />"
      ]
     },
     "execution_count": 25,
     "metadata": {},
     "output_type": "execute_result"
    }
   ],
   "source": [
    "n2 = 1:5\n",
    "plot(n2,arr2_1, label=\"experimental\")\n",
    "plot!(n2,arr2_2.*aint_mem_tree(T, 2.5)rr2_1[1], label=\"theoretical\")\n",
    "xlabel!(\"steps\")\n",
    "ylabel!(\"time\")\n",
    "title!(\"Fenwick Tree search\")"
   ]
  },
  {
   "cell_type": "markdown",
   "metadata": {},
   "source": [
    "<font color=blue>\n",
    "Same problems as above.\n",
    "</font>"
   ]
  },
  {
   "cell_type": "markdown",
   "metadata": {},
   "source": [
    "<font color=blue>\n",
    "8/15\n",
    "</font>"
   ]
  },
  {
   "cell_type": "markdown",
   "metadata": {},
   "source": [
    "## Question 3: Gillespie algorithm for heterogeneous diffusion\n",
    "\n",
    "The Gillespie algorithm is a dynamic Monte Carlo algorithm that generates statistically correct realisations of a continous time Markov process. See https://en.wikipedia.org/wiki/Gillespie_algorithm It is used heavily in stochastic simulation of chemical and biological reaction networks and population dynamics. In this question we use it to simulate one-dimensional diffusion of heterogeneous particles whose diffusion constants are independently drawn from an exponential distribution.\n",
    "\n",
    "The basic idea of the algorithm is as follows\n",
    "1. Create a list $\\left\\{(i, r_i), i=1,\\ldots M\\right\\}$,  of all possible transitions (events), $i$, that can occur in the system and the corresponding transition rates, $r_i$.\n",
    "2. Calculate the total rate\n",
    "$$R = \\sum_{i=1}^M r_i$$\n",
    "and divide the interval $[0, R]$ into $M$ intervals whose lengths are given by the $r_i$.\n",
    "3. Generate a uniform random number in the range $[0,R]$ and determine which interval it falls in. \n",
    "4. Perform the corresponding transition and update the time variable by an amount $\\Delta t = 1/R$.\n",
    "5. Repeat until the desired simulation time is reached.\n",
    "\n",
    "To be concrete, suppose with have $N$ particles on the interval $[-L, L]$ initially located at $x=0$. Each particle can hop a distance $\\Delta x$ to the left or to the right with equal probability. The rate of hopping is initially considered to be the same for all particles:\n",
    "\n",
    "$$ r_i = \\frac{D}{2}\\,\\frac{1}{(\\Delta x)^2} $$\n",
    "\n",
    "This choice ensures that in the continous limit ($\\Delta x \\to 0$, $N\\to \\infty$), the density of particles $c(x,t)$ on the line will satisfy the usual diffusion equation with diffusion coefficient $D$ (recall MA933):\n",
    "\n",
    "$$ \\frac{\\partial c}{\\partial t} = D \\frac{\\partial^2 c}{\\partial x^2}$$\n",
    "\n",
    "with initial condition $c(x,0) = \\delta(x)$.\n",
    "\n",
    "The steps of the algorithm then correspond to the following:\n",
    "1. There are $M= 2 N$ possible transitions at each step: each of $N$ particles can hop a distance $\\Delta x$ either left or right with the above rates. We index them as follows: events k=1:N correspond to particle k hopping to the right, events k=N+1:2N correspond to particle k-N hopping to the left.\n",
    "2. The total rate is \n",
    "$$ R = \\frac{D N}{(\\Delta x)^2}.$$\n",
    "3. Generate a uniform random number in the range $[0,R]$ and determine the index $k$ of particle to move and the direction.\n",
    "4. Update the position of particle $k$ accordingly.\n",
    "5. Repeat.\n",
    "\n",
    "The following piece of code implements the Gillespie algorithm for N=100, L=10, $\\Delta x = 0.1$ and $D=1$, converts the particle positions to particle density and compares to the solution of the diffusion equation on an unbounded domain at t=1 (we assume that L=10 is far enough from zero to be considered unbounded):\n",
    "\n",
    "$$c(x, t) = \\frac{1}{\\sqrt{2 \\pi D t}}\\, \\exp [-\\frac{1}{2}\\frac{x^2}{D t} ]$$"
   ]
  },
  {
   "cell_type": "code",
   "execution_count": 29,
   "metadata": {
    "collapsed": false
   },
   "outputs": [
    {
     "data": {
      "text/html": [
       "<img src=\"data:image/png;base64,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\" />"
      ]
     },
     "execution_count": 29,
     "metadata": {},
     "output_type": "execute_result"
    }
   ],
   "source": [
    "L=10.0\n",
    "N=100\n",
    "Nx = 201\n",
    "dx = 2.0*L/(Nx-1)\n",
    "X = dx.*(-(Nx-1)/2:(Nx-1)/2)\n",
    "Y =zeros(Int64,N)\n",
    "D = 1.0\n",
    "t=0.0\n",
    "\n",
    "\n",
    "r = (D/2.0)/(dx*dx) \n",
    "totalRate = 2.0*N*r\n",
    "\n",
    "dt = 1.0/totalRate\n",
    "T=1.0\n",
    "\n",
    "# This is the main loop\n",
    "while t < T\n",
    "    # Pick an event\n",
    "    k = rand(1:2*N)\n",
    "    if k<=N\n",
    "        hop = 1\n",
    "        particleId = k\n",
    "    else\n",
    "        hop = -1\n",
    "        particleId=k-N\n",
    "    end\n",
    "    Y[particleId]+=hop\n",
    "    t+=dt\n",
    "end\n",
    "\n",
    "# Calculate the estimated density of particles\n",
    "P =zeros(Float64,length(X))\n",
    "for i in 1:length(Y)\n",
    "    P[Y[i]+Int64((Nx-1)/2)+1]+=1/(N * dx)\n",
    "end\n",
    "\n",
    "# Calculate the theoretical density and compare\n",
    "function normal(x, D, t)\n",
    "    return (1.0/sqrt(2.0*pi*D*t))*exp(-x*x/(2*D*t))\n",
    "end\n",
    "P1 = normal.(X, D, T)\n",
    "plot(X, P1, label=\"Analytic solution of diffusion equation\")\n",
    "plot!(X, P, label=\"Numerical estimate of particle density\")\n",
    "xlabel!(\"x\")\n",
    "ylabel!(\"Particle density, c(x,t)\")\n",
    "title!(\"Stochastic simulation of simple diffusion in 1-D\")"
   ]
  },
  {
   "cell_type": "markdown",
   "metadata": {},
   "source": [
    "**1)** The code above makes critical use of the fact that all intervals have the same width in order to decide which particle to move at each step. Suppose now that instead of being equal to $D$ for each particle, the diffusion coefficients are drawn from an exponential distribution with mean $D$:\n",
    "\n",
    "$$ P(x) = \\frac{1}{D} \\exp\\left(-\\frac{x}{D}\\right). $$\n",
    "\n",
    "Modify the code to account for this, using your code from Q2 above to solve the interval membership problem using linear search. You will need to use Julia's randexp() function to generate values for the diffusion coefficients. What is the largest value of $N$ you can simulate in a \"reasonable\" time?\n",
    "\n"
   ]
  },
  {
   "cell_type": "code",
   "execution_count": 30,
   "metadata": {
    "collapsed": false
   },
   "outputs": [
    {
     "data": {
      "text/html": [
       "<img src=\"data:image/png;base64,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\" />"
      ]
     },
     "execution_count": 30,
     "metadata": {},
     "output_type": "execute_result"
    }
   ],
   "source": [
    "L=10.0\n",
    "N=100\n",
    "Nx = 201\n",
    "dx = 2.0*L/(Nx-1)\n",
    "X = dx.*(-(Nx-1)/2:(Nx-1)/2)\n",
    "Y =zeros(Int64,N)\n",
    "D = 1.0\n",
    "t=0.0\n",
    "\n",
    "D_exp = randexp(N)\n",
    "D_exp = [D_exp;D_exp] #to make it symmetrical\n",
    "rate_exp = (D_exp./2.0)./(dx*dx)\n",
    "totalRate = sum(rate_exp) \n",
    "\n",
    "dt = 1.0/totalRate\n",
    "T=1.0\n",
    "\n",
    "\n",
    "x = zeros(2*N)\n",
    "values = Array{KVPair}(2*N)\n",
    "for i=1:2*N\n",
    "    for j=1:i\n",
    "        x[i]=x[i]+rate_exp[j]\n",
    "    end\n",
    "    values[i]=KVPair(i,x[i])\n",
    "end\n",
    "ListS = Nullable{LList}()\n",
    "ListS = buildLList(values)\n",
    "\n",
    "\n",
    "# This is the main loop\n",
    "while t < T\n",
    "    # Pick an event\n",
    "    findRate = rand()*totalRate\n",
    "    #node = intervalmembership(ListS,findRate)\n",
    "    k = intervalmembership(ListS,findRate).key\n",
    "    if k<=N\n",
    "        hop = 1\n",
    "        particleId = k\n",
    "    else\n",
    "        hop = -1\n",
    "        particleId=k-N\n",
    "    end\n",
    "    Y[particleId]+=hop\n",
    "    t+=dt\n",
    "end\n",
    "\n",
    "# Calculate the estimated density of particles\n",
    "P =zeros(Float64,length(X))\n",
    "for i in 1:length(Y)\n",
    "    P[Y[i]+Int64((Nx-1)/2)+1]+=1/(N * dx)\n",
    "end\n",
    "\n",
    "# Calculate the theoretical density and compare\n",
    "function normal(x, D, t)\n",
    "    return (1.0/sqrt(2.0*pi*D*t))*exp(-x*x/(2*D*t))\n",
    "end\n",
    "\n",
    "P1 = normal.(X, D, T)\n",
    "plot(X, P1, label=\"Analytic solution of diffusion equation\")\n",
    "plot!(X, P, label=\"Numerical estimate of particle density\")\n",
    "xlabel!(\"x\")\n",
    "ylabel!(\"Particle density, c(x,t)\")\n",
    "title!(\"Linear search diffusion\")\n"
   ]
  },
  {
   "cell_type": "markdown",
   "metadata": {},
   "source": [
    "**2)** Try again using your Fenwick tree from Q2 to solve the interval membership problem and compare. What is the largest value of $N$ you can simulate now?"
   ]
  },
  {
   "cell_type": "code",
   "execution_count": 31,
   "metadata": {
    "collapsed": false
   },
   "outputs": [
    {
     "ename": "LoadError",
     "evalue": "\u001b[91mBoundsError: attempt to access 201-element Array{Float64,1} at index [246]\u001b[39m",
     "output_type": "error",
     "traceback": [
      "\u001b[91mBoundsError: attempt to access 201-element Array{Float64,1} at index [246]\u001b[39m",
      "",
      "Stacktrace:",
      " [1] \u001b[1mgetindex\u001b[22m\u001b[22m\u001b[1m(\u001b[22m\u001b[22m::Array{Float64,1}, ::Int64\u001b[1m)\u001b[22m\u001b[22m at \u001b[1m./array.jl:520\u001b[22m\u001b[22m",
      " [2] \u001b[1mmacro expansion\u001b[22m\u001b[22m at \u001b[1m./In[31]:37\u001b[22m\u001b[22m [inlined]",
      " [3] \u001b[1manonymous\u001b[22m\u001b[22m at \u001b[1m./<missing>:?\u001b[22m\u001b[22m",
      " [4] \u001b[1minclude_string\u001b[22m\u001b[22m\u001b[1m(\u001b[22m\u001b[22m::String, ::String\u001b[1m)\u001b[22m\u001b[22m at \u001b[1m./loading.jl:515\u001b[22m\u001b[22m"
     ]
    }
   ],
   "source": [
    "L=10.0\n",
    "N=100\n",
    "Nx = 201\n",
    "dx = 2.0*L/(Nx-1)\n",
    "X = dx.*(-(Nx-1)/2:(Nx-1)/2)\n",
    "Y1 =zeros(Int64,N)\n",
    "D = 1.0\n",
    "t=0.0\n",
    "\n",
    "dt = 1.0/totalRate\n",
    "T=1.0\n",
    "\n",
    "\n",
    "Tr = Nullable{FTree}(FTree(KVPair(0,0.0)))\n",
    "Tr = buildFTree(Tr, values)\n",
    "\n",
    "\n",
    "# This is the main loop\n",
    "while t < T\n",
    "    findRate = rand()*totalRate\n",
    "    k = int_mem_tree(Tr,findRate).key\n",
    "    if k<=N\n",
    "        hop = 1\n",
    "        particleId = k\n",
    "    else\n",
    "        hop = -1\n",
    "        particleId=k-N\n",
    "    end\n",
    "    Y1[particleId]+=hop\n",
    "    t+=dt\n",
    "end\n",
    "\n",
    "\n",
    "# Calculate the estimated density of particles\n",
    "P2 =zeros(201)\n",
    "for i in 1:length(Y)\n",
    "    P2[Y1[i]+Int64((Nx-1)/2)+1]+=1/(N * dx)\n",
    "end\n",
    "\n",
    "\n",
    "# Calculate the theoretical density and compare\n",
    "function normal(x, D, t)\n",
    "    return (1.0/sqrt(2.0*pi*D*t))*exp(-x*x/(2*D*t))\n",
    "end\n",
    "\n",
    "P1 = normal.(X, D, T)\n",
    "plot(X, P1, label=\"Analytic solution of diffusion equation\")\n",
    "plot!(X, P2, label=\"Numerical estimate of particle density\")\n",
    "xlabel!(\"x\")\n",
    "ylabel!(\"Particle density, c(x,t)\")\n",
    "title!(\"Stochastic simulation of simple diffusion in 1-D\")"
   ]
  },
  {
   "cell_type": "markdown",
   "metadata": {},
   "source": [
    "<font color=blue>\n",
    "This code doesn't run for me. Not sure what you have done wrong.\n",
    "</font>"
   ]
  },
  {
   "cell_type": "code",
   "execution_count": null,
   "metadata": {
    "collapsed": true
   },
   "outputs": [],
   "source": []
  },
  {
   "cell_type": "markdown",
   "metadata": {},
   "source": [
    "**3)** Show analytically that the solution of the heterogenous diffusion problem is\n",
    "\n",
    "$$ c(x,t) = \\frac{\\exp \\left(-\\sqrt{\\frac{2}{D\\,t}}\\, |x| \\right)}{\\sqrt{2\\, D\\, t}}$$\n",
    "\n",
    "You will probably need the integral formula (Formula 3.325 of Gradshteyn and Rizhik, 7th Ed.)\n",
    "\n",
    "$$ \\int_0^\\infty \\exp\\left(-a\\,x^2 - \\frac{b}{x^2} \\right)\\, dx =  \\frac{1}{2}\\,\\sqrt{\\frac{\\pi}{a}}\\,\\exp\\left(-2 \\sqrt{a\\,b} \\right).$$\n",
    "Use this formula to validate your numerical results.\n"
   ]
  },
  {
   "cell_type": "markdown",
   "metadata": {},
   "source": [
    "$$c(x,t)=\\frac{1}{\\sqrt{2\\pi Dt}}\\exp(-{\\frac{x^2}{2Dt}}) $$\n",
    "\n",
    "$$<c(x,t)>  = \\int_0^\\infty dy \\frac{1}{D}\\exp(\\frac{-y}{D})\\frac{1}{\\sqrt{2\\pi yt}}\\exp(\\frac{-x^2}{2yt}) = \\frac{1}{D\\sqrt{2\\pi t}} \\int_0^\\infty dy \\frac{1}{y^{1/2}} \\exp(\\frac{-y}{D}) \\exp(\\frac{-x^2}{2yt}) = \n",
    "\\frac{1}{D\\sqrt{2\\pi t}} \\int_0^\\infty dy \\frac{1}{y^{1/2}} \\exp(-\\frac{y}{D}-\\frac{x^2}{2yt}) $$\n",
    "\n",
    "\n",
    "By using the substitution $u=y^{1/2}$ and $du = \\frac{1}{2y^{1/2}}dy $\n",
    "\n",
    "\n",
    "$$ <c(x,t)> = \\frac{2}{D\\sqrt{2\\pi t}} \\int_0^\\infty \\exp(-\\frac{u^2}{D} - \\frac{x^2}{2t}\\frac{1}{u^2}) du = \\frac{2}{D \\sqrt{2\\pi t}}\\frac{\\sqrt{\\pi D}}{2} \\exp(-2\\sqrt{\\frac{x^2}{2Dt}}) = \\frac{1}{\\sqrt{2Dt}} \\exp(-\\sqrt{\\frac{2}{Dt}} |x|) $$\n",
    "\n",
    "$$ <c(x,t)> = \\frac{1}{\\sqrt{2Dt}} \\exp(-\\sqrt{\\frac{2}{Dt}} |x|) $$"
   ]
  },
  {
   "cell_type": "markdown",
   "metadata": {},
   "source": []
  },
  {
   "cell_type": "markdown",
   "metadata": {
    "collapsed": true
   },
   "source": [
    "<font color=blue>\n",
    "This is correct.\n",
    "</font>"
   ]
  },
  {
   "cell_type": "markdown",
   "metadata": {},
   "source": [
    "<font color=blue>\n",
    "10/15\n",
    "</font>"
   ]
  },
  {
   "cell_type": "code",
   "execution_count": null,
   "metadata": {
    "collapsed": true
   },
   "outputs": [],
   "source": []
  }
 ],
 "metadata": {
  "kernelspec": {
   "display_name": "Julia 0.6.0",
   "language": "julia",
   "name": "julia-0.6"
  },
  "language_info": {
   "file_extension": ".jl",
   "mimetype": "application/julia",
   "name": "julia",
   "version": "0.6.0"
  }
 },
 "nbformat": 4,
 "nbformat_minor": 1
}
