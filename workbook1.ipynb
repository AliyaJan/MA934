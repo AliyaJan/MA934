{
 "cells": [
  {
   "cell_type": "code",
   "execution_count": 1,
   "metadata": {},
   "outputs": [
    {
     "name": "stderr",
     "output_type": "stream",
     "text": [
      "\u001b[1m\u001b[36mINFO: \u001b[39m\u001b[22m\u001b[36mPrecompiling module URIParser.\n",
      "\u001b[39m\u001b[1m\u001b[36mINFO: \u001b[39m\u001b[22m\u001b[36mRecompiling stale cache file /Users/aliyajangabylova/.julia/lib/v0.6/Conda.ji for module Conda.\n",
      "\u001b[39m"
     ]
    },
    {
     "name": "stdout",
     "output_type": "stream",
     "text": [
      "Fetching package metadata ...............\n",
      "Solving package specifications: .\n",
      "\n",
      "# All requested packages already installed.\n",
      "# packages in environment at /Users/aliyajangabylova/.julia/v0.6/Conda/deps/usr:\n",
      "#\n",
      "mpmath                    0.19             py27h09cdc99_2  \n"
     ]
    }
   ],
   "source": [
    "# MA943 - Numerical Methods\n",
    "\n",
    "using Conda\n",
    "Conda.add(\"mpmath\")\n",
    "\n",
    "\n"
   ]
  },
  {
   "cell_type": "markdown",
   "metadata": {},
   "source": [
    "## Question 1: Precision of floating point arithmetic\n",
    "\n",
    "Consider the recursion relation\n",
    "\n",
    "$a_{n+1} = 2\\, a_n - \\frac{8}{9}\\, a_{n-1}$\n",
    "\n",
    "with the initial conditions $a_1=1$ and $a_2=\\frac{2}{3}$. \n",
    "\n",
    "1. Calculate the first 80 terms in this sequence using single precision floating point arithmetic (Float32 in Julia). Plot the resulting sequence on a lin-log plot.\n",
    "\n",
    "2. Repeat the calculation using double precision floating point arithmetic (Float64 in Julia) and add the results to to your plot.\n",
    "\n",
    "3. Find the **general** solution of the recursion relation analytically (it should contain two arbitrary constants). Hint: start from the ansatz $a_n = x^n$ and find the the allowed values of $x$.\n",
    "\n",
    "4. Find the solution that satisfies the initial conditions $a_1=1$ and $a_2=\\frac{2}{3}$. \n",
    "\n",
    "5. Find the solution that satisfies the perturbed initial conditions $a_1=1$ and $a_2=\\frac{2}{3}+\\epsilon$. Use the answer to explain your numerical results.\n",
    "\n",
    "6. Julia supports arbitrary precision floating point arithmetic using the BigFloat type (see https://docs.julialang.org/en/latest/manual/integers-and-floating-point-numbers/#Arbitrary-Precision-Arithmetic-1). Try to reproduce the exact solution for the first 80 terms in the sequence using 128 bit precision and show the results on your plot."
   ]
  },
  {
   "cell_type": "markdown",
   "metadata": {},
   "source": [
    "$1.$ Calculate the first 80 terms in this sequence using single precision floating point arithmetic (Float32 in Julia). Plot the resulting sequence on a lin-log plot."
   ]
  },
  {
   "cell_type": "code",
   "execution_count": 3,
   "metadata": {},
   "outputs": [
    {
     "name": "stderr",
     "output_type": "stream",
     "text": [
      "\u001b[1m\u001b[36mINFO: \u001b[39m\u001b[22m\u001b[36mRecompiling stale cache file /Users/aliyajangabylova/.julia/lib/v0.6/PyPlot.ji for module PyPlot.\n",
      "\u001b[39m"
     ]
    },
    {
     "data": {
      "image/png": "[encoded data removed]",
      "text/plain": [
       "PyPlot.Figure(PyObject <matplotlib.figure.Figure object at 0x127b0a750>)"
      ]
     },
     "metadata": {},
     "output_type": "display_data"
    },
    {
     "data": {
      "text/plain": [
       "1-element Array{PyCall.PyObject,1}:\n",
       " PyObject <matplotlib.lines.Line2D object at 0x12cd21850>"
      ]
     },
     "execution_count": 3,
     "metadata": {},
     "output_type": "execute_result"
    }
   ],
   "source": [
    "using PyPlot\n",
    "\n",
    "plot(a, color=\"blue\")\n",
    "semilogy(a)\n",
    "plot(b, color=\"red\")\n",
    "semilogy(b)"
   ]
  },
  {
   "cell_type": "code",
   "execution_count": 23,
   "metadata": {},
   "outputs": [
    {
     "data": {
      "text/plain": [
       "80-element Array{Float32,1}:\n",
       "   1.0       \n",
       "   0.666667  \n",
       "   0.444444  \n",
       "   0.296296  \n",
       "   0.197531  \n",
       "   0.131687  \n",
       "   0.0877917 \n",
       "   0.0585279 \n",
       "   0.0390188 \n",
       "   0.0260127 \n",
       "   0.0173421 \n",
       "   0.0115618 \n",
       "   0.00770839\n",
       "   ⋮         \n",
       "  10.3815    \n",
       "  13.842     \n",
       "  18.456     \n",
       "  24.608     \n",
       "  32.8107    \n",
       "  43.7476    \n",
       "  58.3301    \n",
       "  77.7735    \n",
       " 103.698     \n",
       " 138.264     \n",
       " 184.352     \n",
       " 245.803     "
      ]
     },
     "execution_count": 23,
     "metadata": {},
     "output_type": "execute_result"
    }
   ],
   "source": [
    "n=80\n",
    "a = Array{Float32}(n)\n",
    "a[1] = 1\n",
    "a[2] = 2/3\n",
    "\n",
    "for i in 2:(n-1)\n",
    "    a[i+1] = 2*a[i] - (8/9)*a[i-1]\n",
    "end\n",
    "a\n"
   ]
  },
  {
   "cell_type": "markdown",
   "metadata": {},
   "source": [
    "$2.$ Repeat the calculation using double precision floating point arithmetic (Float64 in Julia) and add the results to to your plot."
   ]
  },
  {
   "cell_type": "code",
   "execution_count": 24,
   "metadata": {},
   "outputs": [
    {
     "data": {
      "text/plain": [
       "80-element Array{Float64,1}:\n",
       " 1.0       \n",
       " 0.666667  \n",
       " 0.444444  \n",
       " 0.296296  \n",
       " 0.197531  \n",
       " 0.131687  \n",
       " 0.0877915 \n",
       " 0.0585277 \n",
       " 0.0390184 \n",
       " 0.0260123 \n",
       " 0.0173415 \n",
       " 0.011561  \n",
       " 0.00770735\n",
       " ⋮         \n",
       " 3.33508e-9\n",
       " 4.44607e-9\n",
       " 5.92763e-9\n",
       " 7.90319e-9\n",
       " 1.05374e-8\n",
       " 1.40497e-8\n",
       " 1.87328e-8\n",
       " 2.4977e-8 \n",
       " 3.33027e-8\n",
       " 4.44035e-8\n",
       " 5.92047e-8\n",
       " 7.89396e-8"
      ]
     },
     "execution_count": 24,
     "metadata": {},
     "output_type": "execute_result"
    }
   ],
   "source": [
    "b = Array{Float64}(n)\n",
    "b[1] = 1\n",
    "b[2] = 2/3\n",
    "\n",
    "for k in 2:(n-1)\n",
    "    b[k+1] = 2*b[k] - (8/9)*b[k-1]\n",
    "end\n",
    "b"
   ]
  },
  {
   "cell_type": "code",
   "execution_count": 25,
   "metadata": {},
   "outputs": [
    {
     "name": "stdout",
     "output_type": "stream",
     "text": [
      "Array{Float32,1}\n",
      "Array{Float64,1}\n"
     ]
    }
   ],
   "source": [
    "println(typeof(a))\n",
    "\n",
    "println(typeof(b))"
   ]
  },
  {
   "cell_type": "markdown",
   "metadata": {},
   "source": [
    "$6.$ Julia supports arbitrary precision floating point arithmetic using the BigFloat type (see https://docs.julialang.org/en/latest/manual/integers-and-floating-point-numbers/#Arbitrary-Precision-Arithmetic-1). Try to reproduce the exact solution for the first 80 terms in the sequence using 128 bit precision and show the results on your plot."
   ]
  },
  {
   "cell_type": "code",
   "execution_count": 31,
   "metadata": {},
   "outputs": [],
   "source": [
    "n=80\n",
    "c = Array{BigFloat}(n)\n",
    "c[1] = BigFloat(1)\n",
    "c[2] = BigFloat(2)/BigFloat(3)\n",
    "\n",
    "for i in 2:(n-1)\n",
    "    c[i+1] = BigFloat(2)*c[i] - (BigFloat(8)/BigFloat(9))*c[i-1]\n",
    "end\n"
   ]
  },
  {
   "cell_type": "code",
   "execution_count": 33,
   "metadata": {},
   "outputs": [
    {
     "data": {
      "image/png": "[encoded data removed]",
      "text/plain": [
       "PyPlot.Figure(PyObject <matplotlib.figure.Figure object at 0x130890910>)"
      ]
     },
     "metadata": {},
     "output_type": "display_data"
    },
    {
     "data": {
      "text/plain": [
       "PyObject <matplotlib.legend.Legend object at 0x1331c7490>"
      ]
     },
     "execution_count": 33,
     "metadata": {},
     "output_type": "execute_result"
    }
   ],
   "source": [
    "plot(a, color=\"blue\", label=\"Float32\")\n",
    "semilogy(a)\n",
    "plot(b, color=\"red\", label=\"Float64\")\n",
    "semilogy(b)\n",
    "plot(c,color=\"green\", label=\"BigFloat\")\n",
    "semilogy(c)\n",
    "legend()"
   ]
  },
  {
   "cell_type": "markdown",
   "metadata": {},
   "source": [
    "$3.$ Find the **general** solution of the recursion relation analytically (it should contain two arbitrary constants). Hint: start from the ansatz $a_n = x^n$ and find the the allowed values of $x$."
   ]
  },
  {
   "cell_type": "markdown",
   "metadata": {},
   "source": [
    "> $x^{n+1} - 2 x^n + \\frac{8}{9} x^{n-1} = 0 \\ \\ \\ $ \n",
    "\n",
    ">$x^{n-1}(x^2 - 2x + \\frac{8}{9}) = 0$  (where $\\Delta = \\frac{4}{9}$)\n",
    "\n",
    "> $x_1 = \\frac{4}{3}$ and $x_2 = \\frac{2}{3}$\n",
    "\n",
    "> $a_n = c_1 x_1^n + c_2 x_2^n = c_1 (\\frac{4}{3})^n + c_2 (\\frac{2}{3})^n$"
   ]
  },
  {
   "cell_type": "markdown",
   "metadata": {},
   "source": [
    "$4.$ Find the solution that satisfies the initial conditions $a_1=1$ and $a_2=\\frac{2}{3}$. \n",
    "\n"
   ]
  },
  {
   "cell_type": "markdown",
   "metadata": {},
   "source": [
    "> $c_1 \\frac{4}{3} + c_2 \\frac{2}{3} = 1$\n",
    "\n",
    "> $c_1 \\frac{16}{9} + c_2 \\frac{4}{9} = \\frac{2}{3}$"
   ]
  },
  {
   "cell_type": "markdown",
   "metadata": {},
   "source": [
    "Then we get that $c_1 = 0$ and $c_2 = \\frac{3}{2}$\n",
    "> $a_n = \\frac{3}{2} (\\frac{2}{3})^n$"
   ]
  },
  {
   "cell_type": "markdown",
   "metadata": {},
   "source": [
    "$5.$ Find the solution that satisfies the perturbed initial conditions $a_1=1$ and $a_2=\\frac{2}{3}+\\epsilon$. Use the answer to explain your numerical results."
   ]
  },
  {
   "cell_type": "markdown",
   "metadata": {},
   "source": [
    "> $c_1 \\frac{4}{3} + c_2 \\frac{2}{3} = 1$\n",
    "\n",
    "> $c_1 \\frac{16}{9} + c_2 \\frac{4}{9} = \\frac{2}{3} + \\epsilon$"
   ]
  },
  {
   "cell_type": "markdown",
   "metadata": {},
   "source": [
    "By solving the system of equations we get that $c_1 = \\frac{9}{8}$ and $c_2 = \\frac{6-9 \\epsilon}{4}$\n",
    "> $a_n = \\frac{9\\epsilon}{8} (\\frac{4}{3})^n + \\frac{6-9\\epsilon}{4} (\\frac{2}{3})^n$"
   ]
  },
  {
   "cell_type": "markdown",
   "metadata": {},
   "source": [
    "## Question 2: Computational complexity of the mergesort algorithm\n",
    "\n",
    "Consider two arrays of integers, A and B, having lengths n and m respectively. Assuming that the elements of A and B are already sorted in ascending order. The following recursive function merges them to return an array of length n+m whose elements are sorted in ascending order:\n",
    "\n"
   ]
  },
  {
   "cell_type": "code",
   "execution_count": 13,
   "metadata": {},
   "outputs": [
    {
     "data": {
      "text/plain": [
       "mergepresorted (generic function with 1 method)"
      ]
     },
     "execution_count": 13,
     "metadata": {},
     "output_type": "execute_result"
    }
   ],
   "source": [
    "function mergepresorted(A::Array{Int64,1}, B::Array{Int64,1})\n",
    "    if length(A) == 0\n",
    "        return B\n",
    "    elseif length(B) == 0\n",
    "        return A\n",
    "    elseif A[1] < B[1]\n",
    "        return vcat([A[1]], mergepresorted(A[2:end], B))\n",
    "    else\n",
    "        return vcat([B[1]], mergepresorted(A, B[2:end]))\n",
    "    end    \n",
    "end"
   ]
  },
  {
   "cell_type": "markdown",
   "metadata": {},
   "source": [
    "The computational complexity of this function is $n+m$.\n",
    "\n",
    "1. Verify that the function mergepresorted(A, B) works as described.\n",
    "2. Write a recursive function that implements the mergesort algorithm for an array of integers whose length, $n$ is a power of 2: $n=2^m$. Verify that it works by generating some arrays of random integers and using your function to sort them.\n",
    "3. Explain why the computational complexity, $F(n)$, of your mergesort algorithm satisfies the recursion\n",
    "> $F(n) = 2\\, F(\\frac{n}{2}) + n\\ \\ \\ \\ $ with initial condition $F(1)=1$.  \n",
    "4. Introduce the new variable p defined by $n = 2^p$ and let $b_p = F(2^p)$. Show that in these variables the above equation takes the form\n",
    "> $b_p = 2 b_{p−1} + 2^p\\ \\ \\ \\ $ with initial condition $b_0 = 1$.\n",
    "5. Find the general solution to the associated homogeneous recursion relation (ie without the $2^p$ term).\n",
    "6. Find a particular solution of the original inhomogenous recursion relation and use the initial condition to determine the constant in the homogenous solution.\n",
    "7. Hence show that the computational complexity of the mergesort algorithm is\n",
    "> $F(n) = O(n\\, \\log n)$.\n",
    "8. Use Julia's @timed macro to measure the execution time of your mergesort function for arrays of lengths $\\{2^i : i =1 : 15\\}$. Compare the results to the theoretical expectations."
   ]
  },
  {
   "cell_type": "markdown",
   "metadata": {},
   "source": [
    "$1.$ Verify that the function mergepresorted(A, B) works as described."
   ]
  },
  {
   "cell_type": "code",
   "execution_count": 2,
   "metadata": {},
   "outputs": [
    {
     "data": {
      "text/plain": [
       "mergepresorted (generic function with 1 method)"
      ]
     },
     "execution_count": 2,
     "metadata": {},
     "output_type": "execute_result"
    }
   ],
   "source": [
    "function mergepresorted(A::Array{Int64,1}, B::Array{Int64,1})\n",
    "    if length(A) == 0\n",
    "        return B\n",
    "    elseif length(B) == 0\n",
    "        return A\n",
    "    elseif A[1] < B[1]\n",
    "        return vcat([A[1]], mergepresorted(A[2:end], B))\n",
    "    else\n",
    "        return vcat([B[1]], mergepresorted(A, B[2:end]))\n",
    "    end    \n",
    "end"
   ]
  },
  {
   "cell_type": "code",
   "execution_count": 76,
   "metadata": {},
   "outputs": [
    {
     "name": "stdout",
     "output_type": "stream",
     "text": [
      "[90, 90, 61, 9]\n",
      "[76, 50, 92, 37]\n"
     ]
    },
    {
     "data": {
      "text/plain": [
       "8-element Array{Int64,1}:\n",
       " 76\n",
       " 50\n",
       " 90\n",
       " 90\n",
       " 61\n",
       "  9\n",
       " 92\n",
       " 37"
      ]
     },
     "execution_count": 76,
     "metadata": {},
     "output_type": "execute_result"
    }
   ],
   "source": [
    "AB = rand(1:100, 4)\n",
    "BA = rand(1:100, 4)\n",
    "println(AB)\n",
    "println(BA)\n",
    "mergepresorted(AB, BA)"
   ]
  },
  {
   "cell_type": "markdown",
   "metadata": {},
   "source": [
    "$2.$ Write a recursive function that implements the mergesort algorithm for an array of integers whose length, $n$ is a power of 2: $n=2^m$. Verify that it works by generating some arrays of random integers and using your function to sort them."
   ]
  },
  {
   "cell_type": "code",
   "execution_count": 77,
   "metadata": {},
   "outputs": [
    {
     "data": {
      "text/plain": [
       "mergeSort (generic function with 1 method)"
      ]
     },
     "execution_count": 77,
     "metadata": {},
     "output_type": "execute_result"
    }
   ],
   "source": [
    "function mergeSort(A::Array{Int64,1})\n",
    "    n = length(A)\n",
    "    if n == 1\n",
    "        return A\n",
    "    else\n",
    "        m = div(n,2)\n",
    "        return mergepresorted(mergeSort(A[1:m]), mergeSort(A[m+1:n]))\n",
    "    end\n",
    "end"
   ]
  },
  {
   "cell_type": "code",
   "execution_count": 78,
   "metadata": {},
   "outputs": [
    {
     "data": {
      "text/plain": [
       "10-element Array{Int64,1}:\n",
       "  3\n",
       "  9\n",
       " 12\n",
       " 63\n",
       " 74\n",
       " 77\n",
       " 84\n",
       " 84\n",
       " 89\n",
       " 90"
      ]
     },
     "execution_count": 78,
     "metadata": {},
     "output_type": "execute_result"
    }
   ],
   "source": [
    "M = rand(1:100, 10)\n",
    "mergeSort(M)"
   ]
  },
  {
   "cell_type": "markdown",
   "metadata": {},
   "source": [
    "$3.$ Explain why the computational complexity, $F(n)$, of your mergesort algorithm satisfies the recursion\n",
    "> $F(n) = 2\\, F(\\frac{n}{2}) + n\\ \\ \\ \\ $ with initial condition $F(1)=1$.  \n",
    "\n",
    ">The whole array was divided into two equal parts which gives $F(\\frac{n}{2})$ and then multiplied by 2 to merge them in an ascending order. It also takes each element in the first array to check if its bigger or smaller than the second array, so the computational complexity is $F(n) = 2\\, F(\\frac{n}{2}) + n\\ \\ \\ \\ $\n",
    "\n"
   ]
  },
  {
   "cell_type": "markdown",
   "metadata": {},
   "source": [
    "$4.$ Introduce the new variable p defined by $n = 2^p$ and let $b_p = F(2^p)$. Show that in these variables the above equation takes the form\n",
    "> $b_p = 2 b_{p−1} + 2^p\\ \\ \\ \\ $ with initial condition $b_0 = 1$."
   ]
  },
  {
   "cell_type": "markdown",
   "metadata": {},
   "source": [
    "Let $n = 2^p$ and $b_p = F(2^p)$, then\n",
    "> $b_p = 2 F(2^{p-1}) + 2^p \\ \\ \\ $ => $ \\ b_p = 2b_{p-1} + 2^p$"
   ]
  },
  {
   "cell_type": "markdown",
   "metadata": {},
   "source": [
    "> $b_0 = 1$ means that $F(1)=1$"
   ]
  },
  {
   "cell_type": "markdown",
   "metadata": {},
   "source": [
    "$5.$ Find the general solution to the associated homogeneous recursion relation (ie without the $2^p$ term)."
   ]
  },
  {
   "cell_type": "markdown",
   "metadata": {},
   "source": [
    "The general solution for homogenesous recursion relation:\n",
    "> $b_p=2 b_{p-1}$\n",
    "\n",
    "Let $b_p = x^p \\ \\ \\ $, then $ \\ x^p = 2x^{p-1} \\ \\ \\ $ => $ \\ x^{p-1}(x-2)=0 \\ $ => $ \\ x=2$\n",
    "\n",
    "So $b_p = C 2^p$"
   ]
  },
  {
   "cell_type": "markdown",
   "metadata": {},
   "source": [
    "$6.$ Find a particular solution of the original inhomogenous recursion relation and use the initial condition to determine the constant in the homogenous solution."
   ]
  },
  {
   "cell_type": "markdown",
   "metadata": {},
   "source": [
    "$b_p = (Ap + B)2^p$ and we also know that $b_p - 2b_{p-1} = 2^p$\n",
    "\n",
    "=> $(Ap + B)2^p - 2(A(p-1) + B)2^{p-1} = 2^p$\n",
    "\n",
    "=> $ 2Ap + 2B - 2(A(p-1) + B) = 2 $\n",
    "\n",
    "=> $ 2Ap + 2B - 2Ap + 2A - 2B = 2 $\n",
    "\n",
    "=> $ A =1, B = 0 $\n",
    "\n",
    "> $b_p = p 2^p$\n",
    "\n",
    "By using initial conditions we get that $C = 1$ and the solution will be\n",
    "\n",
    "> $ b_p = 2^p + p 2^p $"
   ]
  },
  {
   "cell_type": "markdown",
   "metadata": {},
   "source": [
    "$7.$ Hence show that the computational complexity of the mergesort algorithm is\n",
    "> $F(n) = O(n\\, \\log n)$."
   ]
  },
  {
   "cell_type": "markdown",
   "metadata": {},
   "source": [
    "$ n = 2^p$ => $ p = \\frac{\\log n}{\\log 2} $\n",
    "\n",
    "> $F(n) = 2^{\\frac{\\log n}{\\log 2}} + \\frac{\\log n}{\\log 2} 2^{\\frac{\\log n}{\\log 2}} = (2^{\\log n})^{\\frac{1}{\\log 2}} + \\frac{\\log n}{\\log 2} (2^{\\log n})^{\\frac{1}{\\log 2}}$\n",
    "\n",
    "> $F(n) = n + \\frac{\\log n}{\\log 2} n = O(n\\, \\log n)$"
   ]
  },
  {
   "cell_type": "markdown",
   "metadata": {
    "collapsed": true
   },
   "source": [
    "$8.$ Use Julia's @timed macro to measure the execution time of your mergesort function for arrays of lengths $\\{2^i : i =1 : 15\\}$. Compare the results to the theoretical expectations."
   ]
  },
  {
   "cell_type": "code",
   "execution_count": 64,
   "metadata": {},
   "outputs": [
    {
     "data": {
      "text/plain": [
       "time (generic function with 2 methods)"
      ]
     },
     "execution_count": 64,
     "metadata": {},
     "output_type": "execute_result"
    }
   ],
   "source": [
    "exp = []\n",
    "\n",
    "for i = 1:15\n",
    "    X = rand(1:2^16, 2^i)\n",
    "    time = @timed(mergeSort(X))[2]\n",
    "    push!(exp,time)\n",
    "end"
   ]
  },
  {
   "cell_type": "code",
   "execution_count": 65,
   "metadata": {},
   "outputs": [
    {
     "data": {
      "text/plain": [
       "15-element Array{Any,1}:\n",
       "      4.0\n",
       "     12.0\n",
       "     32.0\n",
       "     80.0\n",
       "    192.0\n",
       "    448.0\n",
       "   1024.0\n",
       "   2304.0\n",
       "   5120.0\n",
       "  11264.0\n",
       "  24576.0\n",
       "  53248.0\n",
       " 114688.0\n",
       " 245760.0\n",
       " 524288.0"
      ]
     },
     "execution_count": 65,
     "metadata": {},
     "output_type": "execute_result"
    }
   ],
   "source": [
    "theor = []\n",
    "\n",
    "for i = 1:15\n",
    "    push!(theor, (2^i)*(log(2^i)/log(2))+2^i)\n",
    "end\n",
    "\n",
    "theor"
   ]
  },
  {
   "cell_type": "code",
   "execution_count": 75,
   "metadata": {},
   "outputs": [
    {
     "data": {
      "image/png": "[encoded data removed]",
      "text/plain": [
       "PyPlot.Figure(PyObject <matplotlib.figure.Figure object at 0x130ba5a90>)"
      ]
     },
     "metadata": {},
     "output_type": "display_data"
    },
    {
     "data": {
      "text/plain": [
       "PyObject Text(0.5,1,u'Merge Sort search')"
      ]
     },
     "execution_count": 75,
     "metadata": {},
     "output_type": "execute_result"
    }
   ],
   "source": [
    "plot(exp, label=\"Experimental\")\n",
    "semilogy()\n",
    "plot(theor.*exp[1], label=\"Theoritical\")\n",
    "semilogy()\n",
    "legend()\n",
    "xlabel(\"steps\")\n",
    "ylabel(\"time\")\n",
    "title(\"Merge Sort search\")"
   ]
  },
  {
   "cell_type": "code",
   "execution_count": null,
   "metadata": {
    "collapsed": true
   },
   "outputs": [],
   "source": []
  }
 ],
 "metadata": {
  "anaconda-cloud": {},
  "kernelspec": {
   "display_name": "Julia 0.6.1",
   "language": "julia",
   "name": "julia-0.6"
  },
  "language_info": {
   "file_extension": ".jl",
   "mimetype": "application/julia",
   "name": "julia",
   "version": "0.6.1"
  }
 },
 "nbformat": 4,
 "nbformat_minor": 1
}
