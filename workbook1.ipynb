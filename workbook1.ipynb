{
 "cells": [
  {
   "cell_type": "code",
   "execution_count": 6,
   "metadata": {
    "collapsed": false
   },
   "outputs": [
    {
     "name": "stdout",
     "output_type": "stream",
     "text": [
      "Fetching package metadata ...........\n",
      "Solving package specifications: .\n",
      "\n",
      "Package plan for installation in environment /Users/colmconnaughton/.julia/v0.6/Conda/deps/usr:\n",
      "\n",
      "The following NEW packages will be INSTALLED:\n",
      "\n",
      "    futures: 3.2.0-py27h1b80678_0 \n",
      "    mpmath:  1.0.0-py27h6b0eff6_2 \n",
      "\n",
      "The following packages will be UPDATED:\n",
      "\n",
      "    conda:   4.3.30-py27h407ed3a_0 --> 4.4.6-py27_0        \n",
      "    pycosat: 0.6.2-py27_0          --> 0.6.3-py27h6c51c7e_0\n",
      "\n",
      "futures-3.2.0- 100% |###############################| Time: 0:00:00   2.03 MB/s\n",
      "mpmath-1.0.0-p 100% |###############################| Time: 0:00:00   5.68 MB/s\n",
      "pycosat-0.6.3- 100% |###############################| Time: 0:00:00   8.05 MB/s\n",
      "conda-4.4.6-py 100% |###############################| Time: 0:00:00   8.61 MB/s\n"
     ]
    }
   ],
   "source": [
    "# MA943 - Numerical Methods\n",
    "\n",
    "using Conda\n",
    "Conda.add(\"mpmath\")\n",
    "\n",
    "\n"
   ]
  },
  {
   "cell_type": "markdown",
   "metadata": {},
   "source": [
    "* <font color=blue> Well done. Comments and marks are in blue text throughout.</font>\n".
   ]
  },
  {
   "cell_type": "markdown",
   "metadata": {},
   "source": [
    "<font color=blue>\n",
    "Overall mark: 13 + 9 +8 +8+10+15 +4 = 67/100\n",
    "</font>"
   ]
  },
  {
   "cell_type": "code",
   "execution_count": 17,
   "metadata": {
    "collapsed": false
   },
   "outputs": [
    {
     "data": {
      "text/plain": [
       "67"
      ]
     },
     "execution_count": 17,
     "metadata": {},
     "output_type": "execute_result"
    }
   ],
   "source": [
    "13 + 9 +8 +8+10+15 +4"
   ]
  },
  {
   "cell_type": "markdown",
   "metadata": {},
   "source": [
    "## Question 1: Precision of floating point arithmetic\n",
    "\n",
    "Consider the recursion relation\n",
    "\n",
    "$a_{n+1} = 2\\, a_n - \\frac{8}{9}\\, a_{n-1}$\n",
    "\n",
    "with the initial conditions $a_1=1$ and $a_2=\\frac{2}{3}$. \n",
    "\n",
    "1. Calculate the first 80 terms in this sequence using single precision floating point arithmetic (Float32 in Julia). Plot the resulting sequence on a lin-log plot.\n",
    "\n",
    "2. Repeat the calculation using double precision floating point arithmetic (Float64 in Julia) and add the results to to your plot.\n",
    "\n",
    "3. Find the **general** solution of the recursion relation analytically (it should contain two arbitrary constants). Hint: start from the ansatz $a_n = x^n$ and find the the allowed values of $x$.\n",
    "\n",
    "4. Find the solution that satisfies the initial conditions $a_1=1$ and $a_2=\\frac{2}{3}$. \n",
    "\n",
    "5. Find the solution that satisfies the perturbed initial conditions $a_1=1$ and $a_2=\\frac{2}{3}+\\epsilon$. Use the answer to explain your numerical results.\n",
    "\n",
    "6. Julia supports arbitrary precision floating point arithmetic using the BigFloat type (see https://docs.julialang.org/en/latest/manual/integers-and-floating-point-numbers/#Arbitrary-Precision-Arithmetic-1). Try to reproduce the exact solution for the first 80 terms in the sequence using 128 bit precision and show the results on your plot."
   ]
  },
  {
   "cell_type": "markdown",
   "metadata": {},
   "source": [
    "$1.$ Calculate the first 80 terms in this sequence using single precision floating point arithmetic (Float32 in Julia). Plot the resulting sequence on a lin-log plot."
   ]
  },
  {
   "cell_type": "code",
   "execution_count": 1,
   "metadata": {
    "collapsed": false
   },
   "outputs": [
    {
     "data": {
      "text/plain": [
       "80-element Array{Float32,1}:\n",
       "   1.0       \n",
       "   0.666667  \n",
       "   0.444444  \n",
       "   0.296296  \n",
       "   0.197531  \n",
       "   0.131687  \n",
       "   0.0877917 \n",
       "   0.0585279 \n",
       "   0.0390188 \n",
       "   0.0260127 \n",
       "   0.0173421 \n",
       "   0.0115618 \n",
       "   0.00770839\n",
       "   ⋮         \n",
       "  10.3815    \n",
       "  13.842     \n",
       "  18.456     \n",
       "  24.608     \n",
       "  32.8107    \n",
       "  43.7476    \n",
       "  58.3301    \n",
       "  77.7735    \n",
       " 103.698     \n",
       " 138.264     \n",
       " 184.352     \n",
       " 245.803     "
      ]
     },
     "execution_count": 1,
     "metadata": {},
     "output_type": "execute_result"
    }
   ],
   "source": [
    "n=80\n",
    "a = Array{Float32}(n)\n",
    "a[1] = 1\n",
    "a[2] = 2/3\n",
    "\n",
    "for i in 2:(n-1)\n",
    "    a[i+1] = 2*a[i] - (8/9)*a[i-1]\n",
    "end\n",
    "a\n"
   ]
  },
  {
   "cell_type": "markdown",
   "metadata": {},
   "source": [
    "$2.$ Repeat the calculation using double precision floating point arithmetic (Float64 in Julia) and add the results to to your plot."
   ]
  },
  {
   "cell_type": "code",
   "execution_count": 2,
   "metadata": {
    "collapsed": false
   },
   "outputs": [
    {
     "data": {
      "text/plain": [
       "80-element Array{Float64,1}:\n",
       " 1.0       \n",
       " 0.666667  \n",
       " 0.444444  \n",
       " 0.296296  \n",
       " 0.197531  \n",
       " 0.131687  \n",
       " 0.0877915 \n",
       " 0.0585277 \n",
       " 0.0390184 \n",
       " 0.0260123 \n",
       " 0.0173415 \n",
       " 0.011561  \n",
       " 0.00770735\n",
       " ⋮         \n",
       " 3.33508e-9\n",
       " 4.44607e-9\n",
       " 5.92763e-9\n",
       " 7.90319e-9\n",
       " 1.05374e-8\n",
       " 1.40497e-8\n",
       " 1.87328e-8\n",
       " 2.4977e-8 \n",
       " 3.33027e-8\n",
       " 4.44035e-8\n",
       " 5.92047e-8\n",
       " 7.89396e-8"
      ]
     },
     "execution_count": 2,
     "metadata": {},
     "output_type": "execute_result"
    }
   ],
   "source": [
    "b = Array{Float64}(n)\n",
    "b[1] = 1\n",
    "b[2] = 2/3\n",
    "\n",
    "for k in 2:(n-1)\n",
    "    b[k+1] = 2*b[k] - (8/9)*b[k-1]\n",
    "end\n",
    "b"
   ]
  },
  {
   "cell_type": "code",
   "execution_count": 3,
   "metadata": {
    "collapsed": false
   },
   "outputs": [
    {
     "name": "stdout",
     "output_type": "stream",
     "text": [
      "Array{Float32,1}\n",
      "Array{Float64,1}\n"
     ]
    }
   ],
   "source": [
    "println(typeof(a))\n",
    "\n",
    "println(typeof(b))"
   ]
  },
  {
   "cell_type": "markdown",
   "metadata": {},
   "source": [
    "$6.$ Julia supports arbitrary precision floating point arithmetic using the BigFloat type (see https://docs.julialang.org/en/latest/manual/integers-and-floating-point-numbers/#Arbitrary-Precision-Arithmetic-1). Try to reproduce the exact solution for the first 80 terms in the sequence using 128 bit precision and show the results on your plot."
   ]
  },
  {
   "cell_type": "code",
   "execution_count": 4,
   "metadata": {
    "collapsed": true
   },
   "outputs": [],
   "source": [
    "n=80\n",
    "c = Array{BigFloat}(n)\n",
    "c[1] = BigFloat(1)\n",
    "c[2] = BigFloat(2)/BigFloat(3)\n",
    "\n",
    "for i in 2:(n-1)\n",
    "    c[i+1] = BigFloat(2)*c[i] - (BigFloat(8)/BigFloat(9))*c[i-1]\n",
    "end\n"
   ]
  },
  {
   "cell_type": "code",
   "execution_count": 7,
   "metadata": {
    "collapsed": false
   },
   "outputs": [
    {
     "data": {
      "image/png": "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",
      "text/plain": [
       "PyPlot.Figure(PyObject <matplotlib.figure.Figure object at 0x12860dc10>)"
      ]
     },
     "metadata": {},
     "output_type": "display_data"
    },
    {
     "data": {
      "text/plain": [
       "PyObject <matplotlib.text.Text object at 0x128427390>"
      ]
     },
     "execution_count": 7,
     "metadata": {},
     "output_type": "execute_result"
    }
   ],
   "source": [
    "using PyPlot\n",
    "plot(a, color=\"blue\", label=\"Float32\")\n",
    "semilogy(a)\n",
    "plot(b, color=\"red\", label=\"Float64\")\n",
    "semilogy(b)\n",
    "plot(c,color=\"green\", label=\"BigFloat\")\n",
    "semilogy(c)\n",
    "legend()\n",
    "xlabel(\"steps\")\n",
    "ylabel(\"precision\")\n",
    "title(\"Precision of Floating Point arithmetic\")"
   ]
  },
  {
   "cell_type": "markdown",
   "metadata": {},
   "source": [
    "$3.$ Find the **general** solution of the recursion relation analytically (it should contain two arbitrary constants). Hint: start from the ansatz $a_n = x^n$ and find the the allowed values of $x$."
   ]
  },
  {
   "cell_type": "markdown",
   "metadata": {},
   "source": [
    "> $x^{n+1} - 2 x^n + \\frac{8}{9} x^{n-1} = 0 \\ \\ \\ $ \n",
    "\n",
    ">$x^{n-1}(x^2 - 2x + \\frac{8}{9}) = 0$  (where $\\Delta = \\frac{4}{9}$)\n",
    "\n",
    "> $x_1 = \\frac{4}{3}$ and $x_2 = \\frac{2}{3}$\n",
    "\n",
    "> $a_n = c_1 x_1^n + c_2 x_2^n = c_1 (\\frac{4}{3})^n + c_2 (\\frac{2}{3})^n$"
   ]
  },
  {
   "cell_type": "markdown",
   "metadata": {},
   "source": [
    "$4.$ Find the solution that satisfies the initial conditions $a_1=1$ and $a_2=\\frac{2}{3}$. \n",
    "\n"
   ]
  },
  {
   "cell_type": "markdown",
   "metadata": {},
   "source": [
    "> $c_1 \\frac{4}{3} + c_2 \\frac{2}{3} = 1$\n",
    "\n",
    "> $c_1 \\frac{16}{9} + c_2 \\frac{4}{9} = \\frac{2}{3}$"
   ]
  },
  {
   "cell_type": "markdown",
   "metadata": {},
   "source": [
    "Then we get that $c_1 = 0$ and $c_2 = \\frac{3}{2}$\n",
    "> $a_n = \\frac{3}{2} (\\frac{2}{3})^n$"
   ]
  },
  {
   "cell_type": "markdown",
   "metadata": {},
   "source": [
    "$5.$ Find the solution that satisfies the perturbed initial conditions $a_1=1$ and $a_2=\\frac{2}{3}+\\epsilon$. Use the answer to explain your numerical results."
   ]
  },
  {
   "cell_type": "markdown",
   "metadata": {},
   "source": [
    "> $c_1 \\frac{4}{3} + c_2 \\frac{2}{3} = 1$\n",
    "\n",
    "> $c_1 \\frac{16}{9} + c_2 \\frac{4}{9} = \\frac{2}{3} + \\epsilon$"
   ]
  },
  {
   "cell_type": "markdown",
   "metadata": {},
   "source": [
    "By solving the system of equations we get that $c_1 = \\frac{9}{8}$ and $c_2 = \\frac{6-9 \\epsilon}{4}$\n",
    "> $a_n = \\frac{9\\epsilon}{8} (\\frac{4}{3})^n + \\frac{6-9\\epsilon}{4} (\\frac{2}{3})^n$"
   ]
  },
  {
   "cell_type": "markdown",
   "metadata": {},
   "source": [
    "<font color=blue>\n",
    "Good answer but no explanation of how your answer at for part 5 is relevant to the curves plotted on your figure.\n",
    "</font>"
   ]
  },
  {
   "cell_type": "markdown",
   "metadata": {},
   "source": [
    "<font color=blue>\n",
    "13/15\n",
    "</font>"
   ]
  },
  {
   "cell_type": "markdown",
   "metadata": {},
   "source": [
    "## Question 2: Computational complexity of the mergesort algorithm\n",
    "\n",
    "Consider two arrays of integers, A and B, having lengths n and m respectively. Assuming that the elements of A and B are already sorted in ascending order. The following recursive function merges them to return an array of length n+m whose elements are sorted in ascending order:\n",
    "\n"
   ]
  },
  {
   "cell_type": "code",
   "execution_count": 13,
   "metadata": {
    "collapsed": false
   },
   "outputs": [
    {
     "data": {
      "text/plain": [
       "mergepresorted (generic function with 1 method)"
      ]
     },
     "execution_count": 13,
     "metadata": {},
     "output_type": "execute_result"
    }
   ],
   "source": [
    "function mergepresorted(A::Array{Int64,1}, B::Array{Int64,1})\n",
    "    if length(A) == 0\n",
    "        return B\n",
    "    elseif length(B) == 0\n",
    "        return A\n",
    "    elseif A[1] < B[1]\n",
    "        return vcat([A[1]], mergepresorted(A[2:end], B))\n",
    "    else\n",
    "        return vcat([B[1]], mergepresorted(A, B[2:end]))\n",
    "    end    \n",
    "end|"
   ]
  },
  {
   "cell_type": "markdown",
   "metadata": {},
   "source": [
    "The computational complexity of this function is $n+m$.\n",
    "\n",
    "1. Verify that the function mergepresorted(A, B) works as described.\n",
    "2. Write a recursive function that implements the mergesort algorithm for an array of integers whose length, $n$ is a power of 2: $n=2^m$. Verify that it works by generating some arrays of random integers and using your function to sort them.\n",
    "3. Explain why the computational complexity, $F(n)$, of your mergesort algorithm satisfies the recursion\n",
    "> $F(n) = 2\\, F(\\frac{n}{2}) + n\\ \\ \\ \\ $ with initial condition $F(1)=1$.  \n",
    "4. Introduce the new variable p defined by $n = 2^p$ and let $b_p = F(2^p)$. Show that in these variables the above equation takes the form\n",
    "> $b_p = 2 b_{p−1} + 2^p\\ \\ \\ \\ $ with initial condition $b_0 = 1$.\n",
    "5. Find the general solution to the associated homogeneous recursion relation (ie without the $2^p$ term).\n",
    "6. Find a particular solution of the original inhomogenous recursion relation and use the initial condition to determine the constant in the homogenous solution.\n",
    "7. Hence show that the computational complexity of the mergesort algorithm is\n",
    "> $F(n) = O(n\\, \\log n)$.\n",
    "8. Use Julia's @timed macro to measure the execution time of your mergesort function for arrays of lengths $\\{2^i : i =1 : 15\\}$. Compare the results to the theoretical expectations."
   ]
  },
  {
   "cell_type": "markdown",
   "metadata": {},
   "source": [
    "$1.$ Verify that the function mergepresorted(A, B) works as described."
   ]
  },
  {
   "cell_type": "code",
   "execution_count": 8,
   "metadata": {
    "collapsed": false
   },
   "outputs": [
    {
     "data": {
      "text/plain": [
       "mergepresorted (generic function with 1 method)"
      ]
     },
     "execution_count": 8,
     "metadata": {},
     "output_type": "execute_result"
    }
   ],
   "source": [
    "function mergepresorted(A::Array{Int64,1}, B::Array{Int64,1})\n",
    "    if length(A) == 0\n",
    "        return B\n",
    "    elseif length(B) == 0\n",
    "        return A\n",
    "    elseif A[1] < B[1]\n",
    "        return vcat([A[1]], mergepresorted(A[2:end], B))\n",
    "    else\n",
    "        return vcat([B[1]], mergepresorted(A, B[2:end]))\n",
    "    end    \n",
    "end"
   ]
  },
  {
   "cell_type": "code",
   "execution_count": 9,
   "metadata": {
    "collapsed": false
   },
   "outputs": [
    {
     "name": "stdout",
     "output_type": "stream",
     "text": [
      "[71, 48, 85, 86]\n",
      "[8, 23, 93, 6]\n"
     ]
    },
    {
     "data": {
      "text/plain": [
       "8-element Array{Int64,1}:\n",
       "  8\n",
       " 23\n",
       " 71\n",
       " 48\n",
       " 85\n",
       " 86\n",
       " 93\n",
       "  6"
      ]
     },
     "execution_count": 9,
     "metadata": {},
     "output_type": "execute_result"
    }
   ],
   "source": [
    "AB = rand(1:100, 4)\n",
    "BA = rand(1:100, 4)\n",
    "println(AB)\n",
    "println(BA)\n",
    "mergepresorted(AB, BA)"
   ]
  },
  {
   "cell_type": "markdown",
   "metadata": {},
   "source": [
    "<font color=blue>\n",
    "This is not correct - neither of the arrays AB or BA are sorted.",
    "</font>"
   ]
  },
  {
   "cell_type": "markdown",
   "metadata": {},
   "source": [
    "$2.$ Write a recursive function that implements the mergesort algorithm for an array of integers whose length, $n$ is a power of 2: $n=2^m$. Verify that it works by generating some arrays of random integers and using your function to sort them."
   ]
  },
  {
   "cell_type": "code",
   "execution_count": 10,
   "metadata": {
    "collapsed": false
   },
   "outputs": [
    {
     "data": {
      "text/plain": [
       "mergeSort (generic function with 1 method)"
      ]
     },
     "execution_count": 10,
     "metadata": {},
     "output_type": "execute_result"
    }
   ],
   "source": [
    "function mergeSort(A::Array{Int64,1})\n",
    "    n = length(A)\n",
    "    if n == 1\n",
    "        return A\n",
    "    else\n",
    "        m = div(n,2)\n",
    "        return mergepresorted(mergeSort(A[1:m]), mergeSort(A[m+1:n]))\n",
    "    end\n",
    "end"
   ]
  },
  {
   "cell_type": "code",
   "execution_count": 11,
   "metadata": {
    "collapsed": false
   },
   "outputs": [
    {
     "data": {
      "text/plain": [
       "10-element Array{Int64,1}:\n",
       "  5\n",
       "  6\n",
       "  6\n",
       " 30\n",
       " 34\n",
       " 42\n",
       " 51\n",
       " 68\n",
       " 89\n",
       " 92"
      ]
     },
     "execution_count": 11,
     "metadata": {},
     "output_type": "execute_result"
    }
   ],
   "source": [
    "M = rand(1:100, 10)\n",
    "mergeSort(M)"
   ]
  },
  {
   "cell_type": "markdown",
   "metadata": {},
   "source": [
    "$3.$ Explain why the computational complexity, $F(n)$, of your mergesort algorithm satisfies the recursion\n",
    "> $F(n) = 2\\, F(\\frac{n}{2}) + n\\ \\ \\ \\ $ with initial condition $F(1)=1$.  \n",
    "\n",
    ">The whole array was divided into two equal parts which gives $F(\\frac{n}{2})$ and then multiplied by 2 to merge them in an ascending order. It also takes each element in the first array to check if its bigger or smaller than the second array, so the computational complexity is $F(n) = 2\\, F(\\frac{n}{2}) + n\\ \\ \\ \\ $\n",
    "\n"
   ]
  },
  {
   "cell_type": "markdown",
   "metadata": {},
   "source": [
    "$4.$ Introduce the new variable p defined by $n = 2^p$ and let $b_p = F(2^p)$. Show that in these variables the above equation takes the form\n",
    "> $b_p = 2 b_{p−1} + 2^p\\ \\ \\ \\ $ with initial condition $b_0 = 1$."
   ]
  },
  {
   "cell_type": "markdown",
   "metadata": {},
   "source": [
    "Let $n = 2^p$ and $b_p = F(2^p)$, then\n",
    "> $b_p = 2 F(2^{p-1}) + 2^p \\ \\ \\ $ => $ \\ b_p = 2b_{p-1} + 2^p$"
   ]
  },
  {
   "cell_type": "markdown",
   "metadata": {},
   "source": [
    "> $b_0 = 1$ means that $F(1)=1$"
   ]
  },
  {
   "cell_type": "markdown",
   "metadata": {},
   "source": [
    "$5.$ Find the general solution to the associated homogeneous recursion relation (ie without the $2^p$ term)."
   ]
  },
  {
   "cell_type": "markdown",
   "metadata": {},
   "source": [
    "The general solution for homogenesous recursion relation:\n",
    "> $b_p=2 b_{p-1}$\n",
    "\n",
    "> Let $b_p = x^p \\ \\ \\ $, then $ \\ x^p = 2x^{p-1} \\ \\ \\ $ => $ \\ x^{p-1}(x-2)=0 \\ $ => $ \\ x=2$\n",
    "\n",
    "> So $b_p = C 2^p$"
   ]
  },
  {
   "cell_type": "markdown",
   "metadata": {},
   "source": [
    "$6.$ Find a particular solution of the original inhomogenous recursion relation and use the initial condition to determine the constant in the homogenous solution."
   ]
  },
  {
   "cell_type": "markdown",
   "metadata": {},
   "source": [
    "> $b_p = (Ap + B)2^p$ and we also know that $b_p - 2b_{p-1} = 2^p$\n",
    "\n",
    "> $(Ap + B)2^p - 2(A(p-1) + B)2^{p-1} = 2^p$\n",
    "\n",
    "> $ 2Ap + 2B - 2(A(p-1) + B) = 2 $\n",
    "\n",
    "> $ 2Ap + 2B - 2Ap + 2A - 2B = 2 $\n",
    "\n",
    "> $ A =1, B = 0 $\n",
    "\n",
    "> $b_p = p 2^p$\n",
    "\n",
    "By using initial conditions we get that $C = 1$ and the solution will be\n",
    "\n",
    "> $ b_p = 2^p + p 2^p $"
   ]
  },
  {
   "cell_type": "markdown",
   "metadata": {},
   "source": [
    "<font color=blue>\n",
    "This is correct but your shouldn't include $B\\, 2^p$ as part of the particular solution since you have already found it as the general solution above.\n",
    "</font>"
   ]
  },
  {
   "cell_type": "markdown",
   "metadata": {},
   "source": [
    "$7.$ Hence show that the computational complexity of the mergesort algorithm is\n",
    "> $F(n) = O(n\\, \\log n)$."
   ]
  },
  {
   "cell_type": "markdown",
   "metadata": {},
   "source": [
    "$ n = 2^p$ => $ p = \\frac{\\log n}{\\log 2} $\n",
    "\n",
    "> $F(n) = 2^{\\frac{\\log n}{\\log 2}} + \\frac{\\log n}{\\log 2} 2^{\\frac{\\log n}{\\log 2}} = (2^{\\log n})^{\\frac{1}{\\log 2}} + \\frac{\\log n}{\\log 2} (2^{\\log n})^{\\frac{1}{\\log 2}}$\n",
    "\n",
    "> $F(n) = n + \\frac{\\log n}{\\log 2} n = O(n\\, \\log n)$"
   ]
  },
  {
   "cell_type": "markdown",
   "metadata": {
    "collapsed": true
   },
   "source": [
    "$8.$ Use Julia's @timed macro to measure the execution time of your mergesort function for arrays of lengths $\\{2^i : i =1 : 15\\}$. Compare the results to the theoretical expectations."
   ]
  },
  {
   "cell_type": "code",
   "execution_count": 12,
   "metadata": {
    "collapsed": false
   },
   "outputs": [],
   "source": [
    "exp = []\n",
    "\n",
    "for i = 1:15\n",
    "    X = rand(1:2^16, 2^i)\n",
    "    time = @timed(mergeSort(X))[2]\n",
    "    push!(exp,time)\n",
    "end"
   ]
  },
  {
   "cell_type": "code",
   "execution_count": 13,
   "metadata": {
    "collapsed": false
   },
   "outputs": [
    {
     "data": {
      "text/plain": [
       "15-element Array{Any,1}:\n",
       "      4.0\n",
       "     12.0\n",
       "     32.0\n",
       "     80.0\n",
       "    192.0\n",
       "    448.0\n",
       "   1024.0\n",
       "   2304.0\n",
       "   5120.0\n",
       "  11264.0\n",
       "  24576.0\n",
       "  53248.0\n",
       " 114688.0\n",
       " 245760.0\n",
       " 524288.0"
      ]
     },
     "execution_count": 13,
     "metadata": {},
     "output_type": "execute_result"
    }
   ],
   "source": [
    "theor = []\n",
    "\n",
    "for i = 1:15\n",
    "    push!(theor, (2^i)*(log(2^i)/log(2))+2^i)\n",
    "end\n",
    "\n",
    "theor"
   ]
  },
  {
   "cell_type": "code",
   "execution_count": 16,
   "metadata": {
    "collapsed": false
   },
   "outputs": [
    {
     "data": {
      "image/png": "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",
      "text/plain": [
       "PyPlot.Figure(PyObject <matplotlib.figure.Figure object at 0x1287afb50>)"
      ]
     },
     "metadata": {},
     "output_type": "display_data"
    },
    {
     "data": {
      "text/plain": [
       "PyObject <matplotlib.text.Text object at 0x13348f490>"
      ]
     },
     "execution_count": 16,
     "metadata": {},
     "output_type": "execute_result"
    }
   ],
   "source": [
    "plot(exp, label=\"Experimental\")\n",
    "semilogy()\n",
    "plot(theor.*exp[1], label=\"Theoritical\")\n",
    "semilogy()\n",
    "legend()\n",
    "xlabel(\"steps\")\n",
    "ylabel(\"time\")\n",
    "title(\"Merge Sort search\")"
   ]
  },
  {
   "cell_type": "markdown",
   "metadata": {},
   "source": [
    "<font color=blue>\n",
    "This looks good but I don't know what you mean by \"steps\" on the x axis. You should be plotting the time against\n",
    "the length of the array...\n",
    "</font>"
   ]
  },
  {
   "cell_type": "markdown",
   "metadata": {
    "collapsed": true
   },
   "source": [
    "<font color=blue>\n",
    "9/15\n",
    "</font>"
   ]
  },
  {
   "cell_type": "code",
   "execution_count": null,
   "metadata": {
    "collapsed": true
   },
   "outputs": [],
   "source": []
  }
 ],
 "metadata": {
  "anaconda-cloud": {},
  "kernelspec": {
   "display_name": "Julia 0.6.0",
   "language": "julia",
   "name": "julia-0.6"
  },
  "language_info": {
   "file_extension": ".jl",
   "mimetype": "application/julia",
   "name": "julia",
   "version": "0.6.0"
  }
 },
 "nbformat": 4,
 "nbformat_minor": 1
}
